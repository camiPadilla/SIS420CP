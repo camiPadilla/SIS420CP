{
  "nbformat": 4,
  "nbformat_minor": 0,
  "metadata": {
    "colab": {
      "provenance": [],
      "authorship_tag": "ABX9TyMzlfnfuJNzCOoKsyrHeZmC",
      "include_colab_link": true
    },
    "kernelspec": {
      "name": "python3",
      "display_name": "Python 3"
    },
    "language_info": {
      "name": "python"
    }
  },
  "cells": [
    {
      "cell_type": "markdown",
      "metadata": {
        "id": "view-in-github",
        "colab_type": "text"
      },
      "source": [
        "<a href=\"https://colab.research.google.com/github/camiPadilla/SIS420CP/blob/main/Primer_Parcial_120.ipynb\" target=\"_parent\"><img src=\"https://colab.research.google.com/assets/colab-badge.svg\" alt=\"Open In Colab\"/></a>"
      ]
    },
    {
      "cell_type": "code",
      "source": [
        "#Implementar librerias\n",
        "import os\n",
        "#computacion vectorial y cientifica\n",
        "import numpy as np\n",
        "#libreria para graficar\n",
        "from matplotlib import pyplot\n",
        "\n",
        "from sklearn.preprocessing import LabelEncoder\n",
        "from mpl_toolkits.mplot3d import Axes3D #Para graficar elementos 3D\n",
        "\n",
        "#llama a mtplotlib a embeber graficas dentro de los cuadernillos\n",
        "%matplotlib inline"
      ],
      "metadata": {
        "id": "tYaGVOjfNwVQ"
      },
      "execution_count": 13,
      "outputs": []
    },
    {
      "cell_type": "code",
      "source": [
        "from sklearn.model_selection import train_test_split\n",
        "import pandas as pd"
      ],
      "metadata": {
        "id": "R8um7gh2N2T-"
      },
      "execution_count": 6,
      "outputs": []
    },
    {
      "cell_type": "code",
      "source": [
        "#Carga de dataset\n",
        "data = pd.read_csv('PS_20174392719_1491204439457_log.csv', header=0, sep=',')"
      ],
      "metadata": {
        "id": "iddUfD4WOLJp"
      },
      "execution_count": 7,
      "outputs": []
    },
    {
      "cell_type": "code",
      "source": [
        "print(data)"
      ],
      "metadata": {
        "colab": {
          "base_uri": "https://localhost:8080/"
        },
        "id": "KpCqOsZZRmMx",
        "outputId": "c213aa90-c571-4afd-8f59-5ea92628fa18"
      },
      "execution_count": 8,
      "outputs": [
        {
          "output_type": "stream",
          "name": "stdout",
          "text": [
            "       step      type     amount     nameOrig  oldbalanceOrg  newbalanceOrig  \\\n",
            "0         1   PAYMENT    9839.64  C1231006815       170136.0       160296.36   \n",
            "1         1   PAYMENT    1864.28  C1666544295        21249.0        19384.72   \n",
            "2         1  TRANSFER     181.00  C1305486145          181.0            0.00   \n",
            "3         1  CASH_OUT     181.00   C840083671          181.0            0.00   \n",
            "4         1   PAYMENT   11668.14  C2048537720        41554.0        29885.86   \n",
            "...     ...       ...        ...          ...            ...             ...   \n",
            "83556    10   PAYMENT    7705.70  C1834114901        96490.0        88784.30   \n",
            "83557    10  CASH_OUT  319045.01  C1964329082        56471.0            0.00   \n",
            "83558    10   CASH_IN  249169.96  C1421944154         3481.0       252650.96   \n",
            "83559    10  CASH_OUT  244279.64   C722886752        29968.0            0.00   \n",
            "83560    10  CASH_OUT  145014.63    C60491101            NaN             NaN   \n",
            "\n",
            "          nameDest  oldbalanceDest  newbalanceDest  isFraud  isFlaggedFraud  \n",
            "0      M1979787155            0.00            0.00      0.0             0.0  \n",
            "1      M2044282225            0.00            0.00      0.0             0.0  \n",
            "2       C553264065            0.00            0.00      1.0             0.0  \n",
            "3        C38997010        21182.00            0.00      1.0             0.0  \n",
            "4      M1230701703            0.00            0.00      0.0             0.0  \n",
            "...            ...             ...             ...      ...             ...  \n",
            "83556  M1214836727            0.00            0.00      0.0             0.0  \n",
            "83557   C699133054            0.00       319045.01      0.0             0.0  \n",
            "83558   C790672270        38177.07            0.00      0.0             0.0  \n",
            "83559  C1492538502        25680.00       269959.64      0.0             0.0  \n",
            "83560          NaN             NaN             NaN      NaN             NaN  \n",
            "\n",
            "[83561 rows x 11 columns]\n"
          ]
        }
      ]
    },
    {
      "cell_type": "code",
      "source": [
        "data.info()"
      ],
      "metadata": {
        "colab": {
          "base_uri": "https://localhost:8080/"
        },
        "id": "aYGuEfy0R-q0",
        "outputId": "238afa7a-fc94-4c6e-f6d8-48905bb4a3cd"
      },
      "execution_count": 9,
      "outputs": [
        {
          "output_type": "stream",
          "name": "stdout",
          "text": [
            "<class 'pandas.core.frame.DataFrame'>\n",
            "RangeIndex: 83561 entries, 0 to 83560\n",
            "Data columns (total 11 columns):\n",
            " #   Column          Non-Null Count  Dtype  \n",
            "---  ------          --------------  -----  \n",
            " 0   step            83561 non-null  int64  \n",
            " 1   type            83561 non-null  object \n",
            " 2   amount          83561 non-null  float64\n",
            " 3   nameOrig        83561 non-null  object \n",
            " 4   oldbalanceOrg   83560 non-null  float64\n",
            " 5   newbalanceOrig  83560 non-null  float64\n",
            " 6   nameDest        83560 non-null  object \n",
            " 7   oldbalanceDest  83560 non-null  float64\n",
            " 8   newbalanceDest  83560 non-null  float64\n",
            " 9   isFraud         83560 non-null  float64\n",
            " 10  isFlaggedFraud  83560 non-null  float64\n",
            "dtypes: float64(7), int64(1), object(3)\n",
            "memory usage: 7.0+ MB\n"
          ]
        }
      ]
    },
    {
      "cell_type": "code",
      "source": [
        "#NOTA: Las transacciones que se detectan como fraude se cancelan,\n",
        "#por lo que para la detección de fraude no se deben utilizar estas columnas:\n",
        "#(oldbalanceOrg, newbalanceOrig, oldbalanceDest, newbalanceDest).\n",
        "\n",
        "#Dado esos detalles , eliminamos columnas\n",
        "columna_eliminar = ['oldbalanceOrg', 'newbalanceOrig', 'oldbalanceDest', 'newbalanceDest']\n",
        "data.drop(columna_eliminar, axis=1, inplace=True)\n",
        "# axis igual a 1 para columnas, igual a 0 para filas\n",
        "# inplace igual a true borra la columna en el dataframe original"
      ],
      "metadata": {
        "id": "NErEJ_WFSACM"
      },
      "execution_count": 10,
      "outputs": []
    },
    {
      "cell_type": "code",
      "source": [
        "# Convertimos las columnas categoricas en columnas numericas\n",
        "columnas_categoricas = data.select_dtypes(include=['object']).columns"
      ],
      "metadata": {
        "id": "2uD4tbP5fsou"
      },
      "execution_count": 11,
      "outputs": []
    },
    {
      "cell_type": "code",
      "source": [
        "#procesamiento de frases\n",
        "for columna in columnas_categoricas:\n",
        "  le = LabelEncoder()\n",
        "  data[columna] = le.fit_transform(data[columna])\n",
        "data[columnas_categoricas] = data[columnas_categoricas].astype('int64')"
      ],
      "metadata": {
        "id": "jygc8tKBft33"
      },
      "execution_count": 14,
      "outputs": []
    },
    {
      "cell_type": "code",
      "source": [
        "# observamos si nos faltan datos\n",
        "data.info()"
      ],
      "metadata": {
        "colab": {
          "base_uri": "https://localhost:8080/"
        },
        "id": "4_6JhQEMgjba",
        "outputId": "72a48d82-a17e-4416-92cb-c39dff725eb9"
      },
      "execution_count": 15,
      "outputs": [
        {
          "output_type": "stream",
          "name": "stdout",
          "text": [
            "<class 'pandas.core.frame.DataFrame'>\n",
            "RangeIndex: 83561 entries, 0 to 83560\n",
            "Data columns (total 7 columns):\n",
            " #   Column          Non-Null Count  Dtype  \n",
            "---  ------          --------------  -----  \n",
            " 0   step            83561 non-null  int64  \n",
            " 1   type            83561 non-null  int64  \n",
            " 2   amount          83561 non-null  float64\n",
            " 3   nameOrig        83561 non-null  int64  \n",
            " 4   nameDest        83561 non-null  int64  \n",
            " 5   isFraud         83560 non-null  float64\n",
            " 6   isFlaggedFraud  83560 non-null  float64\n",
            "dtypes: float64(3), int64(4)\n",
            "memory usage: 4.5 MB\n"
          ]
        }
      ]
    },
    {
      "cell_type": "code",
      "source": [
        "# Leemos el dataset y seleccionamos las columnas para X y y\n",
        "X = data.iloc[:, :6]\n",
        "y = data.iloc[:, 6]\n",
        "m = y.size"
      ],
      "metadata": {
        "id": "mvH1hWdFgs8D"
      },
      "execution_count": 16,
      "outputs": []
    },
    {
      "cell_type": "code",
      "source": [
        "print(X)\n",
        "print('-'*15)\n",
        "print(y)"
      ],
      "metadata": {
        "colab": {
          "base_uri": "https://localhost:8080/"
        },
        "id": "GYB6vCY6gwJH",
        "outputId": "e57784e6-f107-4572-9f53-318238004e2b"
      },
      "execution_count": 17,
      "outputs": [
        {
          "output_type": "stream",
          "name": "stdout",
          "text": [
            "       step  type     amount  nameOrig  nameDest  isFraud\n",
            "0         1     3    9839.64      9871     27341      0.0\n",
            "1         1     3    1864.28     28654     28452      0.0\n",
            "2         1     4     181.00     13026      8056      1.0\n",
            "3         1     1     181.00     76619      7157      1.0\n",
            "4         1     3   11668.14     45087     14353      0.0\n",
            "...     ...   ...        ...       ...       ...      ...\n",
            "83556    10     3    7705.70     35927     14101      0.0\n",
            "83557    10     1  319045.01     41374      8818      0.0\n",
            "83558    10     0  249169.96     18119      9324      0.0\n",
            "83559    10     1  244279.64     71379      2668      0.0\n",
            "83560    10     1  145014.63     66289     43957      NaN\n",
            "\n",
            "[83561 rows x 6 columns]\n",
            "---------------\n",
            "0        0.0\n",
            "1        0.0\n",
            "2        0.0\n",
            "3        0.0\n",
            "4        0.0\n",
            "        ... \n",
            "83556    0.0\n",
            "83557    0.0\n",
            "83558    0.0\n",
            "83559    0.0\n",
            "83560    NaN\n",
            "Name: isFlaggedFraud, Length: 83561, dtype: float64\n"
          ]
        }
      ]
    },
    {
      "cell_type": "code",
      "source": [],
      "metadata": {
        "id": "rGVtDQx3g3aX"
      },
      "execution_count": null,
      "outputs": []
    }
  ]
}