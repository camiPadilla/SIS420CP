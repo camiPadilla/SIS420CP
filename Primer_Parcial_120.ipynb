{
  "nbformat": 4,
  "nbformat_minor": 0,
  "metadata": {
    "colab": {
      "provenance": [],
      "authorship_tag": "ABX9TyN0RkQT468BwiCLgnA8K7yW",
      "include_colab_link": true
    },
    "kernelspec": {
      "name": "python3",
      "display_name": "Python 3"
    },
    "language_info": {
      "name": "python"
    }
  },
  "cells": [
    {
      "cell_type": "markdown",
      "metadata": {
        "id": "view-in-github",
        "colab_type": "text"
      },
      "source": [
        "<a href=\"https://colab.research.google.com/github/camiPadilla/SIS420CP/blob/main/Primer_Parcial_120.ipynb\" target=\"_parent\"><img src=\"https://colab.research.google.com/assets/colab-badge.svg\" alt=\"Open In Colab\"/></a>"
      ]
    },
    {
      "cell_type": "code",
      "source": [
        "from google.colab import drive\n",
        "drive.mount('/content/drive')"
      ],
      "metadata": {
        "colab": {
          "base_uri": "https://localhost:8080/"
        },
        "id": "r99zupC_nl4u",
        "outputId": "76cbadce-3476-44b3-df02-70cda753ba43"
      },
      "execution_count": 1,
      "outputs": [
        {
          "output_type": "stream",
          "name": "stdout",
          "text": [
            "Drive already mounted at /content/drive; to attempt to forcibly remount, call drive.mount(\"/content/drive\", force_remount=True).\n"
          ]
        }
      ]
    },
    {
      "cell_type": "code",
      "source": [
        "#Implementar librerias\n",
        "import os\n",
        "#computacion vectorial y cientifica\n",
        "import numpy as np\n",
        "#libreria para graficar\n",
        "from matplotlib import pyplot\n",
        "\n",
        "from sklearn.preprocessing import LabelEncoder\n",
        "from mpl_toolkits.mplot3d import Axes3D #Para graficar elementos 3D\n",
        "\n",
        "#llama a mtplotlib a embeber graficas dentro de los cuadernillos\n",
        "%matplotlib inline"
      ],
      "metadata": {
        "id": "tYaGVOjfNwVQ"
      },
      "execution_count": 2,
      "outputs": []
    },
    {
      "cell_type": "code",
      "source": [
        "from sklearn.model_selection import train_test_split\n",
        "import pandas as pd"
      ],
      "metadata": {
        "id": "R8um7gh2N2T-"
      },
      "execution_count": 3,
      "outputs": []
    },
    {
      "cell_type": "code",
      "source": [
        "#Carga de dataset\n",
        "data = pd.read_csv('/content/drive/MyDrive/datasets/PS_20174392719_1491204439457_log.csv', header=0, sep=',')"
      ],
      "metadata": {
        "id": "iddUfD4WOLJp"
      },
      "execution_count": 4,
      "outputs": []
    },
    {
      "cell_type": "code",
      "source": [
        "print(data)"
      ],
      "metadata": {
        "colab": {
          "base_uri": "https://localhost:8080/"
        },
        "id": "KpCqOsZZRmMx",
        "outputId": "95892c80-23f0-4d89-bf0b-1468eb4f275b"
      },
      "execution_count": 5,
      "outputs": [
        {
          "output_type": "stream",
          "name": "stdout",
          "text": [
            "         step      type      amount     nameOrig  oldbalanceOrg  \\\n",
            "0           1   PAYMENT     9839.64  C1231006815      170136.00   \n",
            "1           1   PAYMENT     1864.28  C1666544295       21249.00   \n",
            "2           1  TRANSFER      181.00  C1305486145         181.00   \n",
            "3           1  CASH_OUT      181.00   C840083671         181.00   \n",
            "4           1   PAYMENT    11668.14  C2048537720       41554.00   \n",
            "...       ...       ...         ...          ...            ...   \n",
            "6362615   743  CASH_OUT   339682.13   C786484425      339682.13   \n",
            "6362616   743  TRANSFER  6311409.28  C1529008245     6311409.28   \n",
            "6362617   743  CASH_OUT  6311409.28  C1162922333     6311409.28   \n",
            "6362618   743  TRANSFER   850002.52  C1685995037      850002.52   \n",
            "6362619   743  CASH_OUT   850002.52  C1280323807      850002.52   \n",
            "\n",
            "         newbalanceOrig     nameDest  oldbalanceDest  newbalanceDest  isFraud  \\\n",
            "0             160296.36  M1979787155            0.00            0.00        0   \n",
            "1              19384.72  M2044282225            0.00            0.00        0   \n",
            "2                  0.00   C553264065            0.00            0.00        1   \n",
            "3                  0.00    C38997010        21182.00            0.00        1   \n",
            "4              29885.86  M1230701703            0.00            0.00        0   \n",
            "...                 ...          ...             ...             ...      ...   \n",
            "6362615            0.00   C776919290            0.00       339682.13        1   \n",
            "6362616            0.00  C1881841831            0.00            0.00        1   \n",
            "6362617            0.00  C1365125890        68488.84      6379898.11        1   \n",
            "6362618            0.00  C2080388513            0.00            0.00        1   \n",
            "6362619            0.00   C873221189      6510099.11      7360101.63        1   \n",
            "\n",
            "         isFlaggedFraud  \n",
            "0                     0  \n",
            "1                     0  \n",
            "2                     0  \n",
            "3                     0  \n",
            "4                     0  \n",
            "...                 ...  \n",
            "6362615               0  \n",
            "6362616               0  \n",
            "6362617               0  \n",
            "6362618               0  \n",
            "6362619               0  \n",
            "\n",
            "[6362620 rows x 11 columns]\n"
          ]
        }
      ]
    },
    {
      "cell_type": "code",
      "source": [
        "data.info()"
      ],
      "metadata": {
        "colab": {
          "base_uri": "https://localhost:8080/"
        },
        "id": "aYGuEfy0R-q0",
        "outputId": "35960eb8-4a64-4cff-fc2b-cef1d156f508"
      },
      "execution_count": 6,
      "outputs": [
        {
          "output_type": "stream",
          "name": "stdout",
          "text": [
            "<class 'pandas.core.frame.DataFrame'>\n",
            "RangeIndex: 6362620 entries, 0 to 6362619\n",
            "Data columns (total 11 columns):\n",
            " #   Column          Dtype  \n",
            "---  ------          -----  \n",
            " 0   step            int64  \n",
            " 1   type            object \n",
            " 2   amount          float64\n",
            " 3   nameOrig        object \n",
            " 4   oldbalanceOrg   float64\n",
            " 5   newbalanceOrig  float64\n",
            " 6   nameDest        object \n",
            " 7   oldbalanceDest  float64\n",
            " 8   newbalanceDest  float64\n",
            " 9   isFraud         int64  \n",
            " 10  isFlaggedFraud  int64  \n",
            "dtypes: float64(5), int64(3), object(3)\n",
            "memory usage: 534.0+ MB\n"
          ]
        }
      ]
    },
    {
      "cell_type": "code",
      "source": [
        "#NOTA: Las transacciones que se detectan como fraude se cancelan,\n",
        "#por lo que para la detección de fraude no se deben utilizar estas columnas:\n",
        "#(oldbalanceOrg, newbalanceOrig, oldbalanceDest, newbalanceDest).\n",
        "\n",
        "#Dado esos detalles , eliminamos columnas\n",
        "columna_eliminar = ['oldbalanceOrg', 'newbalanceOrig', 'oldbalanceDest', 'newbalanceDest']\n",
        "data.drop(columna_eliminar, axis=1, inplace=True)\n",
        "# axis igual a 1 para columnas, igual a 0 para filas\n",
        "# inplace igual a true borra la columna en el dataframe original"
      ],
      "metadata": {
        "id": "NErEJ_WFSACM"
      },
      "execution_count": 7,
      "outputs": []
    },
    {
      "cell_type": "code",
      "source": [
        "# Convertimos las columnas categoricas en columnas numericas\n",
        "columnas_categoricas = data.select_dtypes(include=['object']).columns"
      ],
      "metadata": {
        "id": "2uD4tbP5fsou"
      },
      "execution_count": 8,
      "outputs": []
    },
    {
      "cell_type": "code",
      "source": [
        "#procesamiento de frases\n",
        "for columna in columnas_categoricas:\n",
        "  le = LabelEncoder()\n",
        "  data[columna] = le.fit_transform(data[columna])\n",
        "data[columnas_categoricas] = data[columnas_categoricas].astype('int64')"
      ],
      "metadata": {
        "id": "jygc8tKBft33"
      },
      "execution_count": 9,
      "outputs": []
    },
    {
      "cell_type": "code",
      "source": [
        "# observamos si nos faltan datos\n",
        "data.info()"
      ],
      "metadata": {
        "colab": {
          "base_uri": "https://localhost:8080/"
        },
        "id": "4_6JhQEMgjba",
        "outputId": "eacaaafa-7dd6-4952-ce31-da8e54192a7c"
      },
      "execution_count": 10,
      "outputs": [
        {
          "output_type": "stream",
          "name": "stdout",
          "text": [
            "<class 'pandas.core.frame.DataFrame'>\n",
            "RangeIndex: 6362620 entries, 0 to 6362619\n",
            "Data columns (total 7 columns):\n",
            " #   Column          Dtype  \n",
            "---  ------          -----  \n",
            " 0   step            int64  \n",
            " 1   type            int64  \n",
            " 2   amount          float64\n",
            " 3   nameOrig        int64  \n",
            " 4   nameDest        int64  \n",
            " 5   isFraud         int64  \n",
            " 6   isFlaggedFraud  int64  \n",
            "dtypes: float64(1), int64(6)\n",
            "memory usage: 339.8 MB\n"
          ]
        }
      ]
    },
    {
      "cell_type": "code",
      "source": [
        "# Leemos el dataset y seleccionamos las columnas para X y y\n",
        "X = data.iloc[:, :6]\n",
        "y = data.iloc[:, 6]\n",
        "m = y.size"
      ],
      "metadata": {
        "id": "mvH1hWdFgs8D"
      },
      "execution_count": 11,
      "outputs": []
    },
    {
      "cell_type": "code",
      "source": [
        "print(X)\n",
        "print('-'*15)\n",
        "print(y)"
      ],
      "metadata": {
        "colab": {
          "base_uri": "https://localhost:8080/"
        },
        "id": "GYB6vCY6gwJH",
        "outputId": "bfb8a6f3-c7c6-40f7-ae88-72d4e0797ee2"
      },
      "execution_count": 12,
      "outputs": [
        {
          "output_type": "stream",
          "name": "stdout",
          "text": [
            "         step  type      amount  nameOrig  nameDest  isFraud\n",
            "0           1     3     9839.64    757869   1662094        0\n",
            "1           1     3     1864.28   2188998   1733924        0\n",
            "2           1     4      181.00   1002156    439685        1\n",
            "3           1     1      181.00   5828262    391696        1\n",
            "4           1     3    11668.14   3445981    828919        0\n",
            "...       ...   ...         ...       ...       ...      ...\n",
            "6362615   743     1   339682.13   5651847    505863        1\n",
            "6362616   743     4  6311409.28   1737278    260949        1\n",
            "6362617   743     1  6311409.28    533958    108224        1\n",
            "6362618   743     4   850002.52   2252932    319713        1\n",
            "6362619   743     1   850002.52    919229    534595        1\n",
            "\n",
            "[6362620 rows x 6 columns]\n",
            "---------------\n",
            "0          0\n",
            "1          0\n",
            "2          0\n",
            "3          0\n",
            "4          0\n",
            "          ..\n",
            "6362615    0\n",
            "6362616    0\n",
            "6362617    0\n",
            "6362618    0\n",
            "6362619    0\n",
            "Name: isFlaggedFraud, Length: 6362620, dtype: int64\n"
          ]
        }
      ]
    },
    {
      "cell_type": "code",
      "source": [
        "# funcion de normalizacion\n",
        "def  featureNormalize(X):\n",
        "    X_norm = X.copy()\n",
        "    mu = np.zeros(X.shape[1])\n",
        "    sigma = np.zeros(X.shape[1])\n",
        "\n",
        "    mu = np.mean(X, axis = 0)\n",
        "    sigma = np.std(X, axis = 0)\n",
        "    X_norm = (X - mu) / sigma\n",
        "\n",
        "    return X_norm, mu, sigma"
      ],
      "metadata": {
        "id": "e5qqin3eiDHx"
      },
      "execution_count": 13,
      "outputs": []
    },
    {
      "cell_type": "code",
      "source": [
        "# llama featureNormalize con los datos cargados\n",
        "X_norm, mu, sigma = featureNormalize(X)\n",
        "\n",
        "print(X)\n",
        "print('Media calculada:', mu)\n",
        "print('Desviación estandar calculada:', sigma)\n",
        "print(X_norm)"
      ],
      "metadata": {
        "colab": {
          "base_uri": "https://localhost:8080/"
        },
        "id": "aBZXto5ciE0F",
        "outputId": "f4026940-f0e2-4057-820a-0bd79ac33f39"
      },
      "execution_count": 14,
      "outputs": [
        {
          "output_type": "stream",
          "name": "stdout",
          "text": [
            "         step  type      amount  nameOrig  nameDest  isFraud\n",
            "0           1     3     9839.64    757869   1662094        0\n",
            "1           1     3     1864.28   2188998   1733924        0\n",
            "2           1     4      181.00   1002156    439685        1\n",
            "3           1     1      181.00   5828262    391696        1\n",
            "4           1     3    11668.14   3445981    828919        0\n",
            "...       ...   ...         ...       ...       ...      ...\n",
            "6362615   743     1   339682.13   5651847    505863        1\n",
            "6362616   743     4  6311409.28   1737278    260949        1\n",
            "6362617   743     1  6311409.28    533958    108224        1\n",
            "6362618   743     4   850002.52   2252932    319713        1\n",
            "6362619   743     1   850002.52    919229    534595        1\n",
            "\n",
            "[6362620 rows x 6 columns]\n",
            "Media calculada: step        2.433972e+02\n",
            "type        1.714150e+00\n",
            "amount      1.798619e+05\n",
            "nameOrig    3.176678e+06\n",
            "nameDest    7.464270e+05\n",
            "isFraud     1.290820e-03\n",
            "dtype: float64\n",
            "Desviación estandar calculada: step        1.423320e+02\n",
            "type        1.350116e+00\n",
            "amount      6.038582e+05\n",
            "nameOrig    1.834064e+06\n",
            "nameDest    7.502455e+05\n",
            "isFraud     3.590479e-02\n",
            "dtype: float64\n",
            "             step      type     amount  nameOrig  nameDest    isFraud\n",
            "0       -1.703042  0.952399  -0.281560 -1.318825  1.220490  -0.035951\n",
            "1       -1.703042  0.952399  -0.294767 -0.538520  1.316232  -0.035951\n",
            "2       -1.703042  1.693076  -0.297555 -1.185630 -0.408856  27.815483\n",
            "3       -1.703042 -0.528954  -0.297555  1.445742 -0.472820  27.815483\n",
            "4       -1.703042  0.952399  -0.278532  0.146834  0.109953  -0.035951\n",
            "...           ...       ...        ...       ...       ...        ...\n",
            "6362615  3.510123 -0.528954   0.264665  1.349554 -0.320647  27.815483\n",
            "6362616  3.510123  1.693076  10.153953 -0.784815 -0.647092  27.815483\n",
            "6362617  3.510123 -0.528954  10.153953 -1.440909 -0.850659  27.815483\n",
            "6362618  3.510123  1.693076   1.109765 -0.503661 -0.568766  27.815483\n",
            "6362619  3.510123 -0.528954   1.109765 -1.230845 -0.282350  27.815483\n",
            "\n",
            "[6362620 rows x 6 columns]\n"
          ]
        }
      ]
    },
    {
      "cell_type": "code",
      "source": [
        "def sigmoid(z):\n",
        "    # Calcula la sigmoide de una entrada z\n",
        "    # convierte la intrada a un arreglo numpy\n",
        "    z = np.array(z)\n",
        "\n",
        "    g = np.zeros(z.shape)\n",
        "\n",
        "    g = 1 / (1 + np.exp(-z))\n",
        "\n",
        "    return g"
      ],
      "metadata": {
        "id": "_DU92ixWiVm9"
      },
      "execution_count": 15,
      "outputs": []
    },
    {
      "cell_type": "code",
      "source": [
        "# Prueba la implementacion de la funcion sigmoid\n",
        "z = 0\n",
        "g = sigmoid(z)\n",
        "\n",
        "print('g(', z, ') = ', g)"
      ],
      "metadata": {
        "colab": {
          "base_uri": "https://localhost:8080/"
        },
        "id": "Vd-MF8wBijuu",
        "outputId": "cc959612-d983-4b77-9ebb-5054b9fa6f1d"
      },
      "execution_count": 16,
      "outputs": [
        {
          "output_type": "stream",
          "name": "stdout",
          "text": [
            "g( 0 ) =  0.5\n"
          ]
        }
      ]
    },
    {
      "cell_type": "code",
      "source": [
        "# Configurar la matriz adecuadamente, y agregar una columna de unos que corresponde al termino de intercepción.\n",
        "m, n = X.shape\n",
        "# Agrega el termino de intercepción a A\n",
        "X = np.concatenate([np.ones((m, 1)), X_norm], axis=1)"
      ],
      "metadata": {
        "id": "iiikKVdBiukN"
      },
      "execution_count": 17,
      "outputs": []
    },
    {
      "cell_type": "code",
      "source": [
        "def calcularCosto(theta, X, y):\n",
        "    # Inicializar algunos valores utiles\n",
        "    m = y.size  # numero de ejemplos de entrenamiento\n",
        "    #epsilon = 1e-8\n",
        "\n",
        "    J = 0\n",
        "    h = sigmoid(X.dot(theta.T))\n",
        "    J = (1 / m) * np.sum(-y.dot(np.log(h)) - (1 - y).dot(np.log(1 - h)))\n",
        "\n",
        "    return J"
      ],
      "metadata": {
        "id": "2aYOlBCAiyuP"
      },
      "execution_count": 18,
      "outputs": []
    },
    {
      "cell_type": "code",
      "source": [
        "def descensoGradiente(theta, X, y, alpha, num_iters):\n",
        "    # Inicializa algunos valores\n",
        "    m = y.shape[0] # numero de ejemplos de entrenamiento\n",
        "\n",
        "    # realiza una copia de theta, el cual será acutalizada por el descenso por el gradiente\n",
        "    theta = theta.copy()\n",
        "    J_history = []\n",
        "\n",
        "    for i in range(num_iters):\n",
        "        h = sigmoid(X.dot(theta.T))\n",
        "        theta = theta - (alpha / m) * (h - y).dot(X)\n",
        "\n",
        "        J_history.append(calcularCosto(theta, X, y))\n",
        "    return theta, J_history"
      ],
      "metadata": {
        "id": "JJ5yxva7i5F5"
      },
      "execution_count": 19,
      "outputs": []
    },
    {
      "cell_type": "code",
      "source": [
        "# Elegir algun valor para alpha (probar varias alternativas)\n",
        "alpha = 0.05\n",
        "num_iters = 1000\n",
        "\n",
        "# inicializa theta y ejecuta el descenso por el gradiente\n",
        "theta = np.zeros(7)\n",
        "theta, J_history = descensoGradiente(theta, X, y, alpha, num_iters)\n",
        "\n",
        "# Grafica la convergencia del costo\n",
        "pyplot.plot(np.arange(len(J_history)), J_history, lw=2)\n",
        "pyplot.xlabel('Numero de iteraciones')\n",
        "pyplot.ylabel('Costo J')\n",
        "\n",
        "# Muestra los resultados del descenso por el gradiente\n",
        "print('theta calculado por el descenso por el gradiente: {:s}'.format(str(theta)))\n",
        "\n",
        "# verificar si hubo fraude o no\n",
        "X_array = [1, 683,1,300000,11,1,1]\n",
        "fuego = sigmoid(np.dot(X_array, theta))\n",
        "print('El resultado entre falso o verdadero es (usando el descenso por el gradiente):{:.0f}'.format(fuego))"
      ],
      "metadata": {
        "colab": {
          "base_uri": "https://localhost:8080/",
          "height": 501
        },
        "id": "JpNIiNEti_Ni",
        "outputId": "bc3a347f-c737-49fb-b4fd-a2f057a400d2"
      },
      "execution_count": 20,
      "outputs": [
        {
          "output_type": "stream",
          "name": "stdout",
          "text": [
            "theta calculado por el descenso por el gradiente: [-3.85485601e+00  9.70544117e-05  7.24899400e-05  4.13900226e-04\n",
            "  2.69445970e-05 -1.10612484e-05  1.72260937e-03]\n",
            "El resultado entre falso o verdadero es (usando el descenso por el gradiente):1\n"
          ]
        },
        {
          "output_type": "display_data",
          "data": {
            "text/plain": [
              "<Figure size 640x480 with 1 Axes>"
            ],
            "image/png": "[encoded data removed]"
          },
          "metadata": {}
        }
      ]
    }
  ]
}