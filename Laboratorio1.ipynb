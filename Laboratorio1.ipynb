{
  "nbformat": 4,
  "nbformat_minor": 0,
  "metadata": {
    "colab": {
      "provenance": [],
      "authorship_tag": "ABX9TyPXAs35vXCDVcydNDPv5EKt",
      "include_colab_link": true
    },
    "kernelspec": {
      "name": "python3",
      "display_name": "Python 3"
    },
    "language_info": {
      "name": "python"
    }
  },
  "cells": [
    {
      "cell_type": "markdown",
      "metadata": {
        "id": "view-in-github",
        "colab_type": "text"
      },
      "source": [
        "<a href=\"https://colab.research.google.com/github/camiPadilla/SIS420CP/blob/main/Laboratorio1.ipynb\" target=\"_parent\"><img src=\"https://colab.research.google.com/assets/colab-badge.svg\" alt=\"Open In Colab\"/></a>"
      ]
    },
    {
      "cell_type": "code",
      "execution_count": 2,
      "metadata": {
        "id": "bmErcRA641qR"
      },
      "outputs": [],
      "source": [
        "#Implementar librerias\n",
        "import os\n",
        "#computacion vectorial y cientifica\n",
        "import numpy as np\n",
        "#libreria para graficar\n",
        "from matplotlib import pyplot\n",
        "from mpl_toolkits.mplot3d import Axes3D #Para graficar elementos 3D\n",
        "\n",
        "#llama a mtplotlib a embeber graficas dentro de los cuadernillos\n",
        "%matplotlib inline"
      ]
    },
    {
      "cell_type": "code",
      "source": [
        "#cargamos datos y mostramos los  mismos por otro metodo que no sea panda\n",
        "#aunque mostrando los datos ed esta forma, redondea los datos que son tipo float\n",
        "\n",
        "data = np.loadtxt(os.path.join('/content/labo.txt'), delimiter=',')\n",
        "X, y = data[:, :8], data[:, 8]\n",
        "m = y.size\n",
        "\n",
        "\n",
        "#imprimimos los 20 primeros datos\n",
        "print('{:>8s}''{:>8s}''{:>8s}''{:>8s}''{:>8s}''{:>8s}''{:>8s}''{:>8s}''{:>10s}'.format('X[:,0]', 'X[:,1]', 'X[:,2]', 'X[:,3]', 'X[:,4]', 'X[:,5]', 'X[:,6]', 'X[:,7]', 'y' ))\n",
        "print('-'*80)\n",
        "for i in range(20):\n",
        "  print('{:8.0f}{:8.0f}{:8.0f}{:8.0f}{:8.0f}{:8.0f}{:8.0f}{:8.0f}{:10.0f}'.format(X[i, 0], X[i, 1], X[i, 2], X[i, 3], X[i, 4], X[i, 5], X[i, 6], X[i, 7], y[i]))\n"
      ],
      "metadata": {
        "id": "xeyq_uaDMCdf",
        "colab": {
          "base_uri": "https://localhost:8080/"
        },
        "outputId": "2898d08a-068b-4438-8f4a-82cdf0a83fc2"
      },
      "execution_count": 19,
      "outputs": [
        {
          "output_type": "stream",
          "name": "stdout",
          "text": [
            "  X[:,0]  X[:,1]  X[:,2]  X[:,3]  X[:,4]  X[:,5]  X[:,6]  X[:,7]         y\n",
            "--------------------------------------------------------------------------------\n",
            "       1     337     118       4       4       4      10       1         1\n",
            "       2     324     107       4       4       4       9       1         1\n",
            "       3     316     104       3       3       4       8       1         1\n",
            "       4     322     110       3       4       2       9       1         1\n",
            "       5     314     103       2       2       3       8       0         1\n",
            "       6     330     115       5       4       3       9       1         1\n",
            "       7     321     109       3       3       4       8       1         1\n",
            "       8     308     101       2       3       4       8       0         1\n",
            "       9     302     102       1       2       2       8       0         0\n",
            "      10     323     108       3       4       3       9       0         0\n",
            "      11     325     106       3       4       4       8       1         1\n",
            "      12     327     111       4       4       4       9       1         1\n",
            "      13     328     112       4       4       4       9       1         1\n",
            "      14     307     109       3       4       3       8       1         1\n",
            "      15     311     104       3       4       2       8       1         1\n",
            "      16     314     105       3       4       2       8       0         1\n",
            "      17     317     107       3       4       3       9       0         1\n",
            "      18     319     106       3       4       3       8       1         1\n",
            "      19     318     110       3       4       3       9       0         1\n",
            "      20     303     102       3       4       3       8       0         1\n"
          ]
        }
      ]
    },
    {
      "cell_type": "code",
      "source": [
        "#mostramos los datos con panda ¿por que no? si se ve bonito\n",
        "import pandas as pd\n",
        "from datetime import datetime"
      ],
      "metadata": {
        "id": "ThpbHoHDbCAP"
      },
      "execution_count": 4,
      "outputs": []
    },
    {
      "cell_type": "code",
      "source": [
        "#cargamos dataset\n",
        "data = pd.read_csv('/content/adm_data.csv')"
      ],
      "metadata": {
        "id": "u0KJBWuVcc9L"
      },
      "execution_count": 5,
      "outputs": []
    },
    {
      "cell_type": "code",
      "source": [
        "print(data)"
      ],
      "metadata": {
        "colab": {
          "base_uri": "https://localhost:8080/"
        },
        "id": "FVPWRJEzcrtk",
        "outputId": "18939065-f7b6-4522-ae8b-4ca929bb3a06"
      },
      "execution_count": 6,
      "outputs": [
        {
          "output_type": "stream",
          "name": "stdout",
          "text": [
            "     Serial No.  GRE Score  TOEFL Score  University Rating  SOP  LOR   CGPA  \\\n",
            "0             1        337          118                  4  4.5   4.5  9.65   \n",
            "1             2        324          107                  4  4.0   4.5  8.87   \n",
            "2             3        316          104                  3  3.0   3.5  8.00   \n",
            "3             4        322          110                  3  3.5   2.5  8.67   \n",
            "4             5        314          103                  2  2.0   3.0  8.21   \n",
            "..          ...        ...          ...                ...  ...   ...   ...   \n",
            "395         396        324          110                  3  3.5   3.5  9.04   \n",
            "396         397        325          107                  3  3.0   3.5  9.11   \n",
            "397         398        330          116                  4  5.0   4.5  9.45   \n",
            "398         399        312          103                  3  3.5   4.0  8.78   \n",
            "399         400        333          117                  4  5.0   4.0  9.66   \n",
            "\n",
            "     Research  Chance of Admit   \n",
            "0           1              0.92  \n",
            "1           1              0.76  \n",
            "2           1              0.72  \n",
            "3           1              0.80  \n",
            "4           0              0.65  \n",
            "..        ...               ...  \n",
            "395         1              0.82  \n",
            "396         1              0.84  \n",
            "397         1              0.91  \n",
            "398         0              0.67  \n",
            "399         1              0.95  \n",
            "\n",
            "[400 rows x 9 columns]\n"
          ]
        }
      ]
    },
    {
      "cell_type": "code",
      "source": [
        "data.info()"
      ],
      "metadata": {
        "colab": {
          "base_uri": "https://localhost:8080/"
        },
        "id": "IseRvo0bd3o5",
        "outputId": "27f02190-2f6d-4b3b-a80a-13cf8c31519d"
      },
      "execution_count": 7,
      "outputs": [
        {
          "output_type": "stream",
          "name": "stdout",
          "text": [
            "<class 'pandas.core.frame.DataFrame'>\n",
            "RangeIndex: 400 entries, 0 to 399\n",
            "Data columns (total 9 columns):\n",
            " #   Column             Non-Null Count  Dtype  \n",
            "---  ------             --------------  -----  \n",
            " 0   Serial No.         400 non-null    int64  \n",
            " 1   GRE Score          400 non-null    int64  \n",
            " 2   TOEFL Score        400 non-null    int64  \n",
            " 3   University Rating  400 non-null    int64  \n",
            " 4   SOP                400 non-null    float64\n",
            " 5   LOR                400 non-null    float64\n",
            " 6   CGPA               400 non-null    float64\n",
            " 7   Research           400 non-null    int64  \n",
            " 8   Chance of Admit    400 non-null    float64\n",
            "dtypes: float64(4), int64(5)\n",
            "memory usage: 28.2 KB\n"
          ]
        }
      ]
    },
    {
      "cell_type": "code",
      "source": [
        "#Eliminamos Serial. no\n",
        "columna_eliminar = 'Serial No.'\n",
        "data.drop(columna_eliminar, axis=1, inplace = True)"
      ],
      "metadata": {
        "id": "ueOX__RzfAy0"
      },
      "execution_count": 8,
      "outputs": []
    },
    {
      "cell_type": "code",
      "source": [
        "data.info()"
      ],
      "metadata": {
        "colab": {
          "base_uri": "https://localhost:8080/"
        },
        "id": "CictXBSYgwWa",
        "outputId": "146fa8a6-2d32-4f59-95e8-2573d9923f9d"
      },
      "execution_count": 9,
      "outputs": [
        {
          "output_type": "stream",
          "name": "stdout",
          "text": [
            "<class 'pandas.core.frame.DataFrame'>\n",
            "RangeIndex: 400 entries, 0 to 399\n",
            "Data columns (total 8 columns):\n",
            " #   Column             Non-Null Count  Dtype  \n",
            "---  ------             --------------  -----  \n",
            " 0   GRE Score          400 non-null    int64  \n",
            " 1   TOEFL Score        400 non-null    int64  \n",
            " 2   University Rating  400 non-null    int64  \n",
            " 3   SOP                400 non-null    float64\n",
            " 4   LOR                400 non-null    float64\n",
            " 5   CGPA               400 non-null    float64\n",
            " 6   Research           400 non-null    int64  \n",
            " 7   Chance of Admit    400 non-null    float64\n",
            "dtypes: float64(4), int64(4)\n",
            "memory usage: 25.1 KB\n"
          ]
        }
      ]
    },
    {
      "cell_type": "code",
      "source": [
        "#Lectura de datos\n",
        "X = data.iloc[:, :7]\n",
        "y = data.iloc[:, 7]\n",
        "m = y.size"
      ],
      "metadata": {
        "id": "CQrqh3PIhp9B"
      },
      "execution_count": 10,
      "outputs": []
    },
    {
      "cell_type": "code",
      "source": [
        "print(X)\n",
        "print('-'*25)\n",
        "print(y)"
      ],
      "metadata": {
        "colab": {
          "base_uri": "https://localhost:8080/"
        },
        "id": "ujSOxvBEiAZZ",
        "outputId": "40e3abcd-059c-41f1-88e2-3198280ab599"
      },
      "execution_count": 11,
      "outputs": [
        {
          "output_type": "stream",
          "name": "stdout",
          "text": [
            "     GRE Score  TOEFL Score  University Rating  SOP  LOR   CGPA  Research\n",
            "0          337          118                  4  4.5   4.5  9.65         1\n",
            "1          324          107                  4  4.0   4.5  8.87         1\n",
            "2          316          104                  3  3.0   3.5  8.00         1\n",
            "3          322          110                  3  3.5   2.5  8.67         1\n",
            "4          314          103                  2  2.0   3.0  8.21         0\n",
            "..         ...          ...                ...  ...   ...   ...       ...\n",
            "395        324          110                  3  3.5   3.5  9.04         1\n",
            "396        325          107                  3  3.0   3.5  9.11         1\n",
            "397        330          116                  4  5.0   4.5  9.45         1\n",
            "398        312          103                  3  3.5   4.0  8.78         0\n",
            "399        333          117                  4  5.0   4.0  9.66         1\n",
            "\n",
            "[400 rows x 7 columns]\n",
            "-------------------------\n",
            "0      0.92\n",
            "1      0.76\n",
            "2      0.72\n",
            "3      0.80\n",
            "4      0.65\n",
            "       ... \n",
            "395    0.82\n",
            "396    0.84\n",
            "397    0.91\n",
            "398    0.67\n",
            "399    0.95\n",
            "Name: Chance of Admit , Length: 400, dtype: float64\n"
          ]
        }
      ]
    },
    {
      "cell_type": "code",
      "source": [
        "#Normalizamos\n",
        "def featureNormalize(X):\n",
        "  X_norm = X.copy()\n",
        "  mu = np.zeros(X.shape[1])\n",
        "  sigma = np.zeros(X.shape[1])\n",
        "\n",
        "  mu = np.mean(X, axis = 0)\n",
        "  sigma = np.std(X, axis = 0)\n",
        "  X_norm = (X - mu) / sigma\n",
        "\n",
        "  return X_norm, mu, sigma"
      ],
      "metadata": {
        "id": "_fy2cBjzie0_"
      },
      "execution_count": 12,
      "outputs": []
    },
    {
      "cell_type": "code",
      "source": [
        "#Llamamos a featureNormalize con los datos ya cargados\n",
        "X_norm, mu, sigma = featureNormalize(X)\n",
        "\n",
        "print(X)\n",
        "print('Media Calculada :', mu)\n",
        "print('Desviación estandar calculada :', sigma)\n",
        "print(X_norm)"
      ],
      "metadata": {
        "colab": {
          "base_uri": "https://localhost:8080/"
        },
        "id": "sjk3U6x9jRfF",
        "outputId": "124c3fd8-1df5-4401-fdaf-08950503599a"
      },
      "execution_count": 13,
      "outputs": [
        {
          "output_type": "stream",
          "name": "stdout",
          "text": [
            "     GRE Score  TOEFL Score  University Rating  SOP  LOR   CGPA  Research\n",
            "0          337          118                  4  4.5   4.5  9.65         1\n",
            "1          324          107                  4  4.0   4.5  8.87         1\n",
            "2          316          104                  3  3.0   3.5  8.00         1\n",
            "3          322          110                  3  3.5   2.5  8.67         1\n",
            "4          314          103                  2  2.0   3.0  8.21         0\n",
            "..         ...          ...                ...  ...   ...   ...       ...\n",
            "395        324          110                  3  3.5   3.5  9.04         1\n",
            "396        325          107                  3  3.0   3.5  9.11         1\n",
            "397        330          116                  4  5.0   4.5  9.45         1\n",
            "398        312          103                  3  3.5   4.0  8.78         0\n",
            "399        333          117                  4  5.0   4.0  9.66         1\n",
            "\n",
            "[400 rows x 7 columns]\n",
            "Media Calculada : GRE Score            316.807500\n",
            "TOEFL Score          107.410000\n",
            "University Rating      3.087500\n",
            "SOP                    3.400000\n",
            "LOR                    3.452500\n",
            "CGPA                   8.598925\n",
            "Research               0.547500\n",
            "dtype: float64\n",
            "Desviación estandar calculada : GRE Score            11.459295\n",
            "TOEFL Score           6.061922\n",
            "University Rating     1.142298\n",
            "SOP                   1.005609\n",
            "LOR                   0.897354\n",
            "CGPA                  0.595571\n",
            "Research              0.497739\n",
            "dtype: float64\n",
            "     GRE Score  TOEFL Score  University Rating       SOP      LOR       CGPA  \\\n",
            "0     1.762107     1.746971           0.798829  1.093864  1.167321  1.764818   \n",
            "1     0.627656    -0.067635           0.798829  0.596653  1.167321  0.455151   \n",
            "2    -0.070467    -0.562528          -0.076600 -0.397769  0.052933 -1.005631   \n",
            "3     0.453126     0.427257          -0.076600  0.099442 -1.061454  0.119339   \n",
            "4    -0.244998    -0.727492          -0.952029 -1.392191 -0.504260 -0.653029   \n",
            "..         ...          ...                ...       ...       ...       ...   \n",
            "395   0.627656     0.427257          -0.076600  0.099442  0.052933  0.740592   \n",
            "396   0.714922    -0.067635          -0.076600 -0.397769  0.052933  0.858126   \n",
            "397   1.151249     1.417042           0.798829  1.591075  1.167321  1.429006   \n",
            "398  -0.419528    -0.727492          -0.076600  0.099442  0.610127  0.304036   \n",
            "399   1.413045     1.582006           0.798829  1.591075  0.610127  1.781609   \n",
            "\n",
            "     Research  \n",
            "0    0.909112  \n",
            "1    0.909112  \n",
            "2    0.909112  \n",
            "3    0.909112  \n",
            "4   -1.099975  \n",
            "..        ...  \n",
            "395  0.909112  \n",
            "396  0.909112  \n",
            "397  0.909112  \n",
            "398 -1.099975  \n",
            "399  0.909112  \n",
            "\n",
            "[400 rows x 7 columns]\n"
          ]
        }
      ]
    },
    {
      "cell_type": "code",
      "source": [
        "#Añade intersección a x\n",
        "#(Columnas de unos para X0)\n",
        "X = np.concatenate([np.ones((m, 1)), X_norm], axis = 1)"
      ],
      "metadata": {
        "id": "EfGd4rMglBEZ"
      },
      "execution_count": 14,
      "outputs": []
    },
    {
      "cell_type": "code",
      "source": [
        "print(X)"
      ],
      "metadata": {
        "colab": {
          "base_uri": "https://localhost:8080/"
        },
        "id": "i5AFdeNklzki",
        "outputId": "50c5f47b-e3c9-48e0-a8b7-5c1aff646548"
      },
      "execution_count": 15,
      "outputs": [
        {
          "output_type": "stream",
          "name": "stdout",
          "text": [
            "[[ 1.          1.76210664  1.74697064 ...  1.16732114  1.76481828\n",
            "   0.90911166]\n",
            " [ 1.          0.62765641 -0.06763531 ...  1.16732114  0.45515126\n",
            "   0.90911166]\n",
            " [ 1.         -0.07046681 -0.56252785 ...  0.05293342 -1.00563118\n",
            "   0.90911166]\n",
            " ...\n",
            " [ 1.          1.15124883  1.41704229 ...  1.16732114  1.42900622\n",
            "   0.90911166]\n",
            " [ 1.         -0.41952842 -0.72749202 ...  0.61012728  0.30403584\n",
            "  -1.09997489]\n",
            " [ 1.          1.41304503  1.58200646 ...  0.61012728  1.78160888\n",
            "   0.90911166]]\n"
          ]
        }
      ]
    },
    {
      "cell_type": "code",
      "source": [
        "def chance_admit(X, y, theta):\n",
        "  #Inicializamos valores\n",
        "  m = y.shape[0] #numero de ejemplos de entrenamiento\n",
        "\n",
        "  J = 0\n",
        "  h = np.dot(X, theta)\n",
        "  J = (1/(2 * m))*np.sum(np.square(np.dot(X, theta)-y))\n",
        "  return J"
      ],
      "metadata": {
        "id": "MmBT1WdxmVyh"
      },
      "execution_count": 16,
      "outputs": []
    },
    {
      "cell_type": "code",
      "source": [
        "def gradienteDescentMulti(X, y, theta,alpha, num_iters):\n",
        "  #Inicializamos valores\n",
        "  m = y.shape[0] #numero de ejemplos de entrenamiento\n",
        "   #realizamos una copia de tehta el cual sera actualizado por el descenso de la gradiente\n",
        "  theta = theta.copy()\n",
        "  J_history = []\n",
        "  for i in range(num_iters):\n",
        "    theta = theta - (alpha / m) * (np.dot(X, theta) - y).dot(X)\n",
        "    J_history.append(chance_admit(X, y, theta))\n",
        "\n",
        "  return theta, J_history\n"
      ],
      "metadata": {
        "id": "9YXn0MUjurDs"
      },
      "execution_count": 17,
      "outputs": []
    },
    {
      "cell_type": "code",
      "source": [
        "#Elegimos algun valor para alpha\n",
        "alpha = 0.005\n",
        "num_iters = 800\n",
        "\n",
        "#Iniciamos theta e inicializamos el descenso de las gradientes\n",
        "theta = np.zeros(8)\n",
        "theta, J_history = gradienteDescentMulti(X, y ,theta, alpha, num_iters)\n",
        "\n",
        "#grafica de la chance de ser admitido\n",
        "pyplot.plot(np.arange(len(J_history)), J_history, lw = 2)\n",
        "pyplot.xlabel('numero de interacciones')\n",
        "pyplot.ylabel('J')\n",
        "\n",
        "#Muestra los resultados del descenso por el gradiente\n",
        "print('theta calculado por el descenso de la gradiente: {:s}'.format(str(theta)))\n",
        "\n",
        "#Estimamos la chance de ser admitido\n",
        "X_array = [1, 305, 107 ,1 ,3.5 ,1.5 ,8 ,1]\n",
        "X_array[1: 8] = (X_array[1:8]- mu)/ sigma\n",
        "chance = np.dot(X_array, theta)\n",
        "\n",
        "print('El chance de ser admitido predecido es (usando el decenso de la gradiente): {:.4f}'.format(chance))"
      ],
      "metadata": {
        "colab": {
          "base_uri": "https://localhost:8080/",
          "height": 501
        },
        "id": "N2O-m6Lp3kZB",
        "outputId": "c0005922-097b-4f11-dc8b-3e5a6d3322c8"
      },
      "execution_count": 18,
      "outputs": [
        {
          "output_type": "stream",
          "name": "stdout",
          "text": [
            "theta calculado por el descenso de la gradiente: [0.71121551 0.0272611  0.023925   0.01087851 0.00392597 0.01917158\n",
            " 0.047706   0.01256126]\n",
            "El chance de ser admitido predecido es (usando el decenso de la gradiente): 0.5837\n"
          ]
        },
        {
          "output_type": "display_data",
          "data": {
            "text/plain": [
              "<Figure size 640x480 with 1 Axes>"
            ],
            "image/png": "[encoded data removed]"
          },
          "metadata": {}
        }
      ]
    }
  ]
}