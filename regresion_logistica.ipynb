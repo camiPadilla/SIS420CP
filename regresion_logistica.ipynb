{
  "cells": [
    {
      "cell_type": "markdown",
      "metadata": {
        "id": "view-in-github",
        "colab_type": "text"
      },
      "source": [
        "<a href=\"https://colab.research.google.com/github/camiPadilla/SIS420CP/blob/main/regresion_logistica.ipynb\" target=\"_parent\"><img src=\"https://colab.research.google.com/assets/colab-badge.svg\" alt=\"Open In Colab\"/></a>"
      ]
    },
    {
      "cell_type": "code",
      "source": [
        "from google.colab import drive\n",
        "drive.mount('/content/drive')"
      ],
      "metadata": {
        "colab": {
          "base_uri": "https://localhost:8080/"
        },
        "id": "wqbJtPHHPfjp",
        "outputId": "d3f464be-44e8-422a-d25b-f17873c79827"
      },
      "execution_count": 1,
      "outputs": [
        {
          "output_type": "stream",
          "name": "stdout",
          "text": [
            "Mounted at /content/drive\n"
          ]
        }
      ]
    },
    {
      "cell_type": "code",
      "execution_count": 2,
      "metadata": {
        "id": "8KjAIfPny0m9"
      },
      "outputs": [],
      "source": [
        "# se utiliza para el manejo de rutas y directorios.\n",
        "import os\n",
        "\n",
        "# Calculo cientifico y vectorial para python\n",
        "import numpy as np\n",
        "\n",
        "# Librerias para graficar\n",
        "from matplotlib import pyplot\n",
        "\n",
        "# Modulo de optimización de scipy\n",
        "from scipy import optimize\n",
        "\n",
        "# le dice a matplotlib que incruste gráficos en el cuaderno\n",
        "%matplotlib inline"
      ]
    },
    {
      "cell_type": "code",
      "execution_count": 3,
      "metadata": {
        "id": "YPJW6-UJy4s2"
      },
      "outputs": [],
      "source": [
        "import pandas as pd\n",
        "from sklearn.preprocessing import LabelEncoder\n",
        "from datetime import datetime\n",
        "from sklearn.model_selection import train_test_split"
      ]
    },
    {
      "cell_type": "code",
      "execution_count": 4,
      "metadata": {
        "id": "Qflp7AR6y58c"
      },
      "outputs": [],
      "source": [
        "#Carga de dataset\n",
        "data = pd.read_csv('/content/drive/MyDrive/datasets/Bank_registries.csv', header=0, sep=',')"
      ]
    },
    {
      "cell_type": "code",
      "execution_count": 6,
      "metadata": {
        "colab": {
          "base_uri": "https://localhost:8080/"
        },
        "id": "rFeytR3UzcyK",
        "outputId": "e9aabce4-9c8b-4e9c-912a-dead211da04e"
      },
      "outputs": [
        {
          "output_type": "stream",
          "name": "stdout",
          "text": [
            "      RowNumber  CustomerId    Surname  CreditScore Geography  Gender  Age  \\\n",
            "0             1    15634602   Hargrave          619    France  Female   42   \n",
            "1             2    15647311       Hill          608     Spain  Female   41   \n",
            "2             3    15619304       Onio          502    France  Female   42   \n",
            "3             4    15701354       Boni          699    France  Female   39   \n",
            "4             5    15737888   Mitchell          850     Spain  Female   43   \n",
            "...         ...         ...        ...          ...       ...     ...  ...   \n",
            "9995       9996    15606229   Obijiaku          771    France    Male   39   \n",
            "9996       9997    15569892  Johnstone          516    France    Male   35   \n",
            "9997       9998    15584532        Liu          709    France  Female   36   \n",
            "9998       9999    15682355  Sabbatini          772   Germany    Male   42   \n",
            "9999      10000    15628319     Walker          792    France  Female   28   \n",
            "\n",
            "      Tenure    Balance  NumOfProducts  HasCrCard  IsActiveMember  \\\n",
            "0          2       0.00              1          1               1   \n",
            "1          1   83807.86              1          0               1   \n",
            "2          8  159660.80              3          1               0   \n",
            "3          1       0.00              2          0               0   \n",
            "4          2  125510.82              1          1               1   \n",
            "...      ...        ...            ...        ...             ...   \n",
            "9995       5       0.00              2          1               0   \n",
            "9996      10   57369.61              1          1               1   \n",
            "9997       7       0.00              1          0               1   \n",
            "9998       3   75075.31              2          1               0   \n",
            "9999       4  130142.79              1          1               0   \n",
            "\n",
            "      EstimatedSalary  Exited  \n",
            "0           101348.88       1  \n",
            "1           112542.58       0  \n",
            "2           113931.57       1  \n",
            "3            93826.63       0  \n",
            "4            79084.10       0  \n",
            "...               ...     ...  \n",
            "9995         96270.64       0  \n",
            "9996        101699.77       0  \n",
            "9997         42085.58       1  \n",
            "9998         92888.52       1  \n",
            "9999         38190.78       0  \n",
            "\n",
            "[10000 rows x 14 columns]\n"
          ]
        }
      ],
      "source": [
        "#mostramos el dataset\n",
        "print(data)"
      ]
    },
    {
      "cell_type": "code",
      "execution_count": 7,
      "metadata": {
        "colab": {
          "base_uri": "https://localhost:8080/"
        },
        "id": "N_rDX9MNzdvU",
        "outputId": "8d024804-346f-4e74-a911-e5f78f0187a1"
      },
      "outputs": [
        {
          "output_type": "stream",
          "name": "stdout",
          "text": [
            "<class 'pandas.core.frame.DataFrame'>\n",
            "RangeIndex: 10000 entries, 0 to 9999\n",
            "Data columns (total 14 columns):\n",
            " #   Column           Non-Null Count  Dtype  \n",
            "---  ------           --------------  -----  \n",
            " 0   RowNumber        10000 non-null  int64  \n",
            " 1   CustomerId       10000 non-null  int64  \n",
            " 2   Surname          10000 non-null  object \n",
            " 3   CreditScore      10000 non-null  int64  \n",
            " 4   Geography        10000 non-null  object \n",
            " 5   Gender           10000 non-null  object \n",
            " 6   Age              10000 non-null  int64  \n",
            " 7   Tenure           10000 non-null  int64  \n",
            " 8   Balance          10000 non-null  float64\n",
            " 9   NumOfProducts    10000 non-null  int64  \n",
            " 10  HasCrCard        10000 non-null  int64  \n",
            " 11  IsActiveMember   10000 non-null  int64  \n",
            " 12  EstimatedSalary  10000 non-null  float64\n",
            " 13  Exited           10000 non-null  int64  \n",
            "dtypes: float64(2), int64(9), object(3)\n",
            "memory usage: 1.1+ MB\n"
          ]
        }
      ],
      "source": [
        "# observamos si nos faltan datos\n",
        "data.info()"
      ]
    },
    {
      "cell_type": "code",
      "execution_count": 8,
      "metadata": {
        "colab": {
          "base_uri": "https://localhost:8080/"
        },
        "id": "1rnE4nftzifU",
        "outputId": "abc8deed-10df-4a2b-9054-0ce2c5650f0a"
      },
      "outputs": [
        {
          "output_type": "stream",
          "name": "stdout",
          "text": [
            "      CreditScore Geography  Gender  Age  Tenure    Balance  NumOfProducts  \\\n",
            "0             619    France  Female   42       2       0.00              1   \n",
            "1             608     Spain  Female   41       1   83807.86              1   \n",
            "2             502    France  Female   42       8  159660.80              3   \n",
            "3             699    France  Female   39       1       0.00              2   \n",
            "4             850     Spain  Female   43       2  125510.82              1   \n",
            "...           ...       ...     ...  ...     ...        ...            ...   \n",
            "9995          771    France    Male   39       5       0.00              2   \n",
            "9996          516    France    Male   35      10   57369.61              1   \n",
            "9997          709    France  Female   36       7       0.00              1   \n",
            "9998          772   Germany    Male   42       3   75075.31              2   \n",
            "9999          792    France  Female   28       4  130142.79              1   \n",
            "\n",
            "      HasCrCard  IsActiveMember  EstimatedSalary  Exited  \n",
            "0             1               1        101348.88       1  \n",
            "1             0               1        112542.58       0  \n",
            "2             1               0        113931.57       1  \n",
            "3             0               0         93826.63       0  \n",
            "4             1               1         79084.10       0  \n",
            "...         ...             ...              ...     ...  \n",
            "9995          1               0         96270.64       0  \n",
            "9996          1               1        101699.77       0  \n",
            "9997          0               1         42085.58       1  \n",
            "9998          1               0         92888.52       1  \n",
            "9999          1               0         38190.78       0  \n",
            "\n",
            "[10000 rows x 11 columns]\n"
          ]
        }
      ],
      "source": [
        "# Eliminar columnas irrelevantes para la regresion\n",
        "columna_eliminar = ['RowNumber', 'CustomerId', 'Surname']\n",
        "data.drop(columna_eliminar, axis=1, inplace=True)\n",
        "\n",
        "# Muestra el DataFrame resultante\n",
        "print(data)"
      ]
    },
    {
      "cell_type": "code",
      "execution_count": 9,
      "metadata": {
        "colab": {
          "base_uri": "https://localhost:8080/"
        },
        "id": "JF-hiBn3zneC",
        "outputId": "159f8553-506a-4197-8859-6817676bf67d"
      },
      "outputs": [
        {
          "output_type": "stream",
          "name": "stdout",
          "text": [
            "<class 'pandas.core.frame.DataFrame'>\n",
            "RangeIndex: 10000 entries, 0 to 9999\n",
            "Data columns (total 11 columns):\n",
            " #   Column           Non-Null Count  Dtype  \n",
            "---  ------           --------------  -----  \n",
            " 0   CreditScore      10000 non-null  int64  \n",
            " 1   Geography        10000 non-null  object \n",
            " 2   Gender           10000 non-null  object \n",
            " 3   Age              10000 non-null  int64  \n",
            " 4   Tenure           10000 non-null  int64  \n",
            " 5   Balance          10000 non-null  float64\n",
            " 6   NumOfProducts    10000 non-null  int64  \n",
            " 7   HasCrCard        10000 non-null  int64  \n",
            " 8   IsActiveMember   10000 non-null  int64  \n",
            " 9   EstimatedSalary  10000 non-null  float64\n",
            " 10  Exited           10000 non-null  int64  \n",
            "dtypes: float64(2), int64(7), object(2)\n",
            "memory usage: 859.5+ KB\n"
          ]
        }
      ],
      "source": [
        "data.info()"
      ]
    },
    {
      "cell_type": "code",
      "execution_count": null,
      "metadata": {
        "colab": {
          "base_uri": "https://localhost:8080/"
        },
        "id": "XPE7ppGkzqxe",
        "outputId": "f2a81d85-e8fd-437d-9bbf-5a454ff09202"
      },
      "outputs": [
        {
          "name": "stdout",
          "output_type": "stream",
          "text": [
            "<class 'pandas.core.frame.DataFrame'>\n",
            "RangeIndex: 10000 entries, 0 to 9999\n",
            "Data columns (total 11 columns):\n",
            " #   Column           Non-Null Count  Dtype  \n",
            "---  ------           --------------  -----  \n",
            " 0   CreditScore      10000 non-null  int64  \n",
            " 1   Geography        10000 non-null  object \n",
            " 2   Gender           10000 non-null  object \n",
            " 3   Age              10000 non-null  int64  \n",
            " 4   Tenure           10000 non-null  int64  \n",
            " 5   Balance          10000 non-null  float64\n",
            " 6   NumOfProducts    10000 non-null  int64  \n",
            " 7   HasCrCard        10000 non-null  int64  \n",
            " 8   IsActiveMember   10000 non-null  int64  \n",
            " 9   EstimatedSalary  10000 non-null  float64\n",
            " 10  Exited           10000 non-null  int64  \n",
            "dtypes: float64(2), int64(7), object(2)\n",
            "memory usage: 859.5+ KB\n"
          ]
        }
      ],
      "source": [
        "data.info()"
      ]
    },
    {
      "cell_type": "code",
      "execution_count": 12,
      "metadata": {
        "id": "5kCEjSKvPACW"
      },
      "outputs": [],
      "source": [
        "#Seleccionamos las columnas categoricas que son las de tipo objeto\n",
        "columnas_categoricas = data.select_dtypes(include=['object']).columns"
      ]
    },
    {
      "cell_type": "code",
      "execution_count": 13,
      "metadata": {
        "id": "SurBnBdVPACX"
      },
      "outputs": [],
      "source": [
        "#procesamiento de frases para transformar las columnas categoricas a numericas\n",
        "for columna in columnas_categoricas:\n",
        "  le = LabelEncoder()\n",
        "  data[columna] = le.fit_transform(data[columna])"
      ]
    },
    {
      "cell_type": "code",
      "execution_count": 16,
      "metadata": {
        "id": "ZCYXfP97zsJo"
      },
      "outputs": [],
      "source": [
        "#lectura de datos\n",
        "X = data.iloc[:, :10]\n",
        "y = data.iloc[:, 10]\n",
        "m = y.size"
      ]
    },
    {
      "cell_type": "code",
      "execution_count": 15,
      "metadata": {
        "colab": {
          "base_uri": "https://localhost:8080/"
        },
        "id": "MFPbLSHBzwno",
        "outputId": "f4e99baa-2f46-4a6a-cc26-6e3311f553ef"
      },
      "outputs": [
        {
          "output_type": "stream",
          "name": "stdout",
          "text": [
            "      CreditScore  Geography  Gender  Age  Tenure    Balance  NumOfProducts  \\\n",
            "0             619          0       0   42       2       0.00              1   \n",
            "1             608          2       0   41       1   83807.86              1   \n",
            "2             502          0       0   42       8  159660.80              3   \n",
            "3             699          0       0   39       1       0.00              2   \n",
            "4             850          2       0   43       2  125510.82              1   \n",
            "...           ...        ...     ...  ...     ...        ...            ...   \n",
            "9995          771          0       1   39       5       0.00              2   \n",
            "9996          516          0       1   35      10   57369.61              1   \n",
            "9997          709          0       0   36       7       0.00              1   \n",
            "9998          772          1       1   42       3   75075.31              2   \n",
            "9999          792          0       0   28       4  130142.79              1   \n",
            "\n",
            "      HasCrCard  IsActiveMember  EstimatedSalary  \n",
            "0             1               1        101348.88  \n",
            "1             0               1        112542.58  \n",
            "2             1               0        113931.57  \n",
            "3             0               0         93826.63  \n",
            "4             1               1         79084.10  \n",
            "...         ...             ...              ...  \n",
            "9995          1               0         96270.64  \n",
            "9996          1               1        101699.77  \n",
            "9997          0               1         42085.58  \n",
            "9998          1               0         92888.52  \n",
            "9999          1               0         38190.78  \n",
            "\n",
            "[10000 rows x 10 columns]\n",
            "***************\n",
            "0       1\n",
            "1       0\n",
            "2       1\n",
            "3       0\n",
            "4       0\n",
            "       ..\n",
            "9995    0\n",
            "9996    0\n",
            "9997    1\n",
            "9998    1\n",
            "9999    0\n",
            "Name: Exited, Length: 10000, dtype: int64\n"
          ]
        }
      ],
      "source": [
        "print(X)\n",
        "print('*'*15)\n",
        "print(y)"
      ]
    },
    {
      "cell_type": "code",
      "execution_count": 17,
      "metadata": {
        "id": "I_f-on3XPACX"
      },
      "outputs": [],
      "source": [
        "#separamos los datos en datos de prueba y datos de entrenamiento\n",
        "X_train, X_test, y_train, y_test = train_test_split(X, y, test_size=0.2)"
      ]
    },
    {
      "cell_type": "code",
      "execution_count": 18,
      "metadata": {
        "colab": {
          "base_uri": "https://localhost:8080/"
        },
        "id": "4U_FyW9bPACY",
        "outputId": "33f7ca4b-4414-41ca-e6f7-459287e1e954"
      },
      "outputs": [
        {
          "output_type": "stream",
          "name": "stdout",
          "text": [
            "Datos entrenamiento> \n",
            "      CreditScore  Geography  Gender  Age  Tenure    Balance  NumOfProducts  \\\n",
            "6232          725          1       0   47       1  104887.43              1   \n",
            "1589          675          1       1   36       7   89409.95              1   \n",
            "6056          768          0       1   25       6       0.00              2   \n",
            "4974          638          2       0   55       2  155828.22              1   \n",
            "7647          768          0       1   25       0   78396.08              1   \n",
            "...           ...        ...     ...  ...     ...        ...            ...   \n",
            "8699          841          1       1   32       2  117070.21              1   \n",
            "9253          644          2       1   49      10       0.00              2   \n",
            "4404          604          2       1   43       2  145081.72              1   \n",
            "9046          630          1       0   23       4  137964.51              1   \n",
            "256           727          0       1   34      10       0.00              2   \n",
            "\n",
            "      HasCrCard  IsActiveMember  EstimatedSalary  \n",
            "6232          0               0         86622.56  \n",
            "1589          1               1        149399.70  \n",
            "6056          1               1         21215.67  \n",
            "4974          0               1        108987.25  \n",
            "7647          1               1          8316.19  \n",
            "...         ...             ...              ...  \n",
            "8699          1               0        113482.20  \n",
            "9253          1               1        145089.64  \n",
            "4404          1               1         23881.62  \n",
            "9046          0               1        174570.55  \n",
            "256           1               1        198637.34  \n",
            "\n",
            "[8000 rows x 10 columns]\n",
            "6232    1\n",
            "1589    0\n",
            "6056    0\n",
            "4974    1\n",
            "7647    0\n",
            "       ..\n",
            "8699    0\n",
            "9253    0\n",
            "4404    0\n",
            "9046    0\n",
            "256     0\n",
            "Name: Exited, Length: 8000, dtype: int64\n"
          ]
        }
      ],
      "source": [
        "print(\"Datos entrenamiento> \")\n",
        "print(X_train)\n",
        "print(y_train)"
      ]
    },
    {
      "cell_type": "code",
      "execution_count": 19,
      "metadata": {
        "colab": {
          "base_uri": "https://localhost:8080/"
        },
        "id": "4SrXYMMcPACY",
        "outputId": "a4e54513-9480-4688-e0ca-696d24f89ebf"
      },
      "outputs": [
        {
          "output_type": "stream",
          "name": "stdout",
          "text": [
            "Datos prueba> \n",
            "      CreditScore  Geography  Gender  Age  Tenure    Balance  NumOfProducts  \\\n",
            "6075          504          0       1   42       3  134936.97              2   \n",
            "636           660          2       0   33       1       0.00              2   \n",
            "5580          616          2       1   30       2       0.00              2   \n",
            "6111          648          0       1   23       9  168372.52              1   \n",
            "9129          838          2       0   40       6   61671.19              1   \n",
            "...           ...        ...     ...  ...     ...        ...            ...   \n",
            "2815          694          1       1   37       1   95668.82              2   \n",
            "5098          550          1       1   29       9  145294.08              2   \n",
            "1159          729          2       1   37      10       0.00              2   \n",
            "6177          731          1       1   37       3  116880.53              1   \n",
            "2694          628          1       1   29       3  113146.98              2   \n",
            "\n",
            "      HasCrCard  IsActiveMember  EstimatedSalary  \n",
            "6075          0               0        135178.91  \n",
            "636           0               0        117834.91  \n",
            "5580          1               0        199099.51  \n",
            "6111          1               0        134676.72  \n",
            "9129          0               1        150659.35  \n",
            "...         ...             ...              ...  \n",
            "2815          1               0        100335.55  \n",
            "5098          1               0        147484.13  \n",
            "1159          1               0        100862.54  \n",
            "6177          0               0        172718.35  \n",
            "2694          0               1        124749.08  \n",
            "\n",
            "[2000 rows x 10 columns]\n",
            "6075    0\n",
            "636     0\n",
            "5580    0\n",
            "6111    0\n",
            "9129    1\n",
            "       ..\n",
            "2815    0\n",
            "5098    0\n",
            "1159    0\n",
            "6177    1\n",
            "2694    0\n",
            "Name: Exited, Length: 2000, dtype: int64\n"
          ]
        }
      ],
      "source": [
        "print(\"Datos prueba> \")\n",
        "print(X_test)\n",
        "print(y_test)"
      ]
    },
    {
      "cell_type": "code",
      "execution_count": 21,
      "metadata": {
        "id": "gd0u9hINzzKI"
      },
      "outputs": [],
      "source": [
        "#normalizamos\n",
        "def  featureNormalize(X):\n",
        "    X_norm = X.copy()\n",
        "    mu = np.zeros(X.shape[1])\n",
        "    sigma = np.zeros(X.shape[1])\n",
        "\n",
        "    mu = np.mean(X, axis = 0)\n",
        "    sigma = np.std(X, axis = 0)\n",
        "    X_norm = (X - mu) / sigma\n",
        "\n",
        "    return X_norm, mu, sigma"
      ]
    },
    {
      "cell_type": "code",
      "execution_count": 22,
      "metadata": {
        "colab": {
          "base_uri": "https://localhost:8080/"
        },
        "id": "maQe64YWz0SV",
        "outputId": "87260f66-922d-497e-ccb1-f29db88b65e5"
      },
      "outputs": [
        {
          "output_type": "stream",
          "name": "stdout",
          "text": [
            "      CreditScore  Geography  Gender  Age  Tenure    Balance  NumOfProducts  \\\n",
            "0             619          0       0   42       2       0.00              1   \n",
            "1             608          2       0   41       1   83807.86              1   \n",
            "2             502          0       0   42       8  159660.80              3   \n",
            "3             699          0       0   39       1       0.00              2   \n",
            "4             850          2       0   43       2  125510.82              1   \n",
            "...           ...        ...     ...  ...     ...        ...            ...   \n",
            "9995          771          0       1   39       5       0.00              2   \n",
            "9996          516          0       1   35      10   57369.61              1   \n",
            "9997          709          0       0   36       7       0.00              1   \n",
            "9998          772          1       1   42       3   75075.31              2   \n",
            "9999          792          0       0   28       4  130142.79              1   \n",
            "\n",
            "      HasCrCard  IsActiveMember  EstimatedSalary  \n",
            "0             1               1        101348.88  \n",
            "1             0               1        112542.58  \n",
            "2             1               0        113931.57  \n",
            "3             0               0         93826.63  \n",
            "4             1               1         79084.10  \n",
            "...         ...             ...              ...  \n",
            "9995          1               0         96270.64  \n",
            "9996          1               1        101699.77  \n",
            "9997          0               1         42085.58  \n",
            "9998          1               0         92888.52  \n",
            "9999          1               0         38190.78  \n",
            "\n",
            "[10000 rows x 10 columns]\n",
            "Media calculada: CreditScore           650.528800\n",
            "Geography               0.746300\n",
            "Gender                  0.545700\n",
            "Age                    38.921800\n",
            "Tenure                  5.012800\n",
            "Balance             76485.889288\n",
            "NumOfProducts           1.530200\n",
            "HasCrCard               0.705500\n",
            "IsActiveMember          0.515100\n",
            "EstimatedSalary    100090.239881\n",
            "dtype: float64\n",
            "Desviación estandar calculada: CreditScore           96.648466\n",
            "Geography              0.827488\n",
            "Gender                 0.497907\n",
            "Age                   10.487282\n",
            "Tenure                 2.892030\n",
            "Balance            62394.285254\n",
            "NumOfProducts          0.581625\n",
            "HasCrCard              0.455818\n",
            "IsActiveMember         0.499772\n",
            "EstimatedSalary    57507.617221\n",
            "dtype: float64\n",
            "      CreditScore  Geography    Gender       Age    Tenure   Balance  \\\n",
            "0       -0.326221  -0.901886 -1.095988  0.293517 -1.041760 -1.225848   \n",
            "1       -0.440036   1.515067 -1.095988  0.198164 -1.387538  0.117350   \n",
            "2       -1.536794  -0.901886 -1.095988  0.293517  1.032908  1.333053   \n",
            "3        0.501521  -0.901886 -1.095988  0.007457 -1.387538 -1.225848   \n",
            "4        2.063884   1.515067 -1.095988  0.388871 -1.041760  0.785728   \n",
            "...           ...        ...       ...       ...       ...       ...   \n",
            "9995     1.246488  -0.901886  0.912419  0.007457 -0.004426 -1.225848   \n",
            "9996    -1.391939  -0.901886  0.912419 -0.373958  1.724464 -0.306379   \n",
            "9997     0.604988  -0.901886 -1.095988 -0.278604  0.687130 -1.225848   \n",
            "9998     1.256835   0.306591  0.912419  0.293517 -0.695982 -0.022608   \n",
            "9999     1.463771  -0.901886 -1.095988 -1.041433 -0.350204  0.859965   \n",
            "\n",
            "      NumOfProducts  HasCrCard  IsActiveMember  EstimatedSalary  \n",
            "0         -0.911583   0.646092        0.970243         0.021886  \n",
            "1         -0.911583  -1.547768        0.970243         0.216534  \n",
            "2          2.527057   0.646092       -1.030670         0.240687  \n",
            "3          0.807737  -1.547768       -1.030670        -0.108918  \n",
            "4         -0.911583   0.646092        0.970243        -0.365276  \n",
            "...             ...        ...             ...              ...  \n",
            "9995       0.807737   0.646092       -1.030670        -0.066419  \n",
            "9996      -0.911583   0.646092        0.970243         0.027988  \n",
            "9997      -0.911583  -1.547768        0.970243        -1.008643  \n",
            "9998       0.807737   0.646092       -1.030670        -0.125231  \n",
            "9999      -0.911583   0.646092       -1.030670        -1.076370  \n",
            "\n",
            "[10000 rows x 10 columns]\n"
          ]
        }
      ],
      "source": [
        "# llama featureNormalize con los datos cargados\n",
        "X_norm, mu, sigma = featureNormalize(X)\n",
        "\n",
        "print(X)\n",
        "print('Media calculada:', mu)\n",
        "print('Desviación estandar calculada:', sigma)\n",
        "print(X_norm)"
      ]
    },
    {
      "cell_type": "code",
      "execution_count": 23,
      "metadata": {
        "id": "-PG5rWoyR2zN"
      },
      "outputs": [],
      "source": [
        "def sigmoid(z):\n",
        "    # Calcula la sigmoide de una entrada z\n",
        "    # convierte la intrada a un arreglo numpy\n",
        "    z = np.array(z)\n",
        "\n",
        "    g = np.zeros(z.shape)\n",
        "\n",
        "    g = 1 / (1 + np.exp(-z))\n",
        "\n",
        "    return g"
      ]
    },
    {
      "cell_type": "code",
      "execution_count": 24,
      "metadata": {
        "colab": {
          "base_uri": "https://localhost:8080/"
        },
        "id": "x_vpit-cz33W",
        "outputId": "6e6a34f9-faba-4c1d-f544-d978226a3a20"
      },
      "outputs": [
        {
          "output_type": "stream",
          "name": "stdout",
          "text": [
            "g( 0 ) =  0.5\n"
          ]
        }
      ],
      "source": [
        "# Prueba la implementacion de la funcion sigmoid\n",
        "z = 0\n",
        "g = sigmoid(z)\n",
        "\n",
        "print('g(', z, ') = ', g)"
      ]
    },
    {
      "cell_type": "code",
      "execution_count": 25,
      "metadata": {
        "id": "ahiiYY_uz5J0"
      },
      "outputs": [],
      "source": [
        "# Configurar la matriz adecuadamente, y agregar una columna de unos que corresponde al termino de intercepción.\n",
        "m, n = X.shape\n",
        "# Agraga el termino de intercepción a A\n",
        "X = np.concatenate([np.ones((m, 1)), X_norm], axis=1)"
      ]
    },
    {
      "cell_type": "code",
      "execution_count": 27,
      "metadata": {
        "id": "0Je8OHW4z6eY"
      },
      "outputs": [],
      "source": [
        "def calcular(theta, X, y):\n",
        "    # Inicializar algunos valores utiles\n",
        "    m = y.size  # numero de ejemplos de entrenamiento\n",
        "    #epsilon = 1e-8\n",
        "\n",
        "    J = 0\n",
        "    h = sigmoid(X.dot(theta.T))\n",
        "    J = (1 / m) * np.sum(-y.dot(np.log(h)) - (1 - y).dot(np.log(1 - h)))\n",
        "\n",
        "    return J"
      ]
    },
    {
      "cell_type": "code",
      "execution_count": 28,
      "metadata": {
        "id": "1BuahUQIz710"
      },
      "outputs": [],
      "source": [
        "def descensoGradiente(theta, X, y, alpha, num_iters):\n",
        "    # Inicializa algunos valores\n",
        "    m = y.shape[0] # numero de ejemplos de entrenamiento\n",
        "\n",
        "    # realiza una copia de theta, el cual será acutalizada por el descenso por el gradiente\n",
        "    theta = theta.copy()\n",
        "    J_history = []\n",
        "\n",
        "    for i in range(num_iters):\n",
        "        h = sigmoid(X.dot(theta.T))\n",
        "        theta = theta - (alpha / m) * (h - y).dot(X)\n",
        "\n",
        "        J_history.append(calcular(theta, X, y))\n",
        "    return theta, J_history"
      ]
    },
    {
      "cell_type": "code",
      "execution_count": 29,
      "metadata": {
        "colab": {
          "base_uri": "https://localhost:8080/",
          "height": 501
        },
        "id": "GxwVw6ySz9GG",
        "outputId": "0d817e21-0128-4545-b3ab-af2a0e07ad28"
      },
      "outputs": [
        {
          "output_type": "stream",
          "name": "stdout",
          "text": [
            "theta calculado por el descenso por el gradiente: [-1.47628526 -0.05641756  0.06364979 -0.23468268  0.66024823 -0.03397054\n",
            "  0.25960933 -0.03328959 -0.01060674 -0.43862971  0.02564015]\n",
            "El resaultado entre falso o verdadero es (usando el descenso por el gradiente):1\n"
          ]
        },
        {
          "output_type": "display_data",
          "data": {
            "text/plain": [
              "<Figure size 640x480 with 1 Axes>"
            ],
            "image/png": "[encoded data removed]"
          },
          "metadata": {}
        }
      ],
      "source": [
        "# Elegir algun valor para alpha (probar varias alternativas)\n",
        "alpha = 0.007\n",
        "num_iters = 3000\n",
        "\n",
        "# inicializa theta y ejecuta el descenso por el gradiente\n",
        "theta = np.zeros(11)\n",
        "theta, J_history = descensoGradiente(theta, X, y, alpha, num_iters)\n",
        "\n",
        "# Grafica la convergencia del costo\n",
        "pyplot.plot(np.arange(len(J_history)), J_history, lw=2)\n",
        "pyplot.xlabel('Numero de iteraciones')\n",
        "pyplot.ylabel('Costo J')\n",
        "\n",
        "# Muestra los resultados del descenso por el gradiente\n",
        "print('theta calculado por el descenso por el gradiente: {:s}'.format(str(theta)))\n",
        "\n",
        "# verificar si ingresa o no a la universidad\n",
        "X_array = [1, 619, 1, 1, 42, 2, 0, 1, 1, 1, 101348.88]\n",
        "aprueba = sigmoid(np.dot(X_array, theta))   # Se debe cambiar esto\n",
        "\n",
        "print('El resaultado entre falso o verdadero es (usando el descenso por el gradiente):{:.0f}'.format(aprueba))"
      ]
    },
    {
      "cell_type": "code",
      "execution_count": 30,
      "metadata": {
        "id": "zwVf17SG0CdU"
      },
      "outputs": [],
      "source": [
        "def costFunction(theta, X, y):\n",
        "    # Inicializar algunos valores utiles\n",
        "    m = y.size  # numero de ejemplos de entrenamiento\n",
        "    epsilon = 1e-8\n",
        "\n",
        "    J = 0\n",
        "    grad = np.zeros(theta.shape)\n",
        "\n",
        "    h = sigmoid(X.dot(theta.T))\n",
        "\n",
        "    J = (1 / m) * np.sum(-y.dot(np.log(h+epsilon)) - (1 - y).dot(np.log(1 - h+epsilon)))\n",
        "    grad = (1 / m) * (h - y).dot(X)\n",
        "\n",
        "    return J, grad"
      ]
    },
    {
      "cell_type": "code",
      "execution_count": 31,
      "metadata": {
        "colab": {
          "base_uri": "https://localhost:8080/"
        },
        "id": "yEWrSzQ-0D_8",
        "outputId": "c76db991-8a25-4aa0-8f8f-c3504c66be46"
      },
      "outputs": [
        {
          "output_type": "stream",
          "name": "stdout",
          "text": [
            "[0. 0. 0. 0. 0. 0. 0. 0. 0. 0. 0.]\n",
            "Costo en theta inicial (zeros): 0.693\n",
            "Costo esperado (aproximado): 0.693\n",
            "\n",
            "[ 0.2963      0.01091188 -0.01447597  0.04289774 -0.11491341  0.00563872\n",
            " -0.04773889  0.01925938  0.00287472  0.06288042 -0.00487199]\n",
            "Gradiente en theta inicial (zeros):\n",
            "\t[0.2963, 0.0109, -0.0145, 0.0429, -0.1149, 0.0056, -0.0477, 0.0193, 0.0029, 0.0629]\n",
            "Gradiente esperado (aproximado):\n",
            "\t[-0.1000, -12.0092, -11.2628]\n",
            "\n"
          ]
        }
      ],
      "source": [
        "# Inicializacion de parametros de ajuste\n",
        "initial_theta = np.zeros(n+1)\n",
        "print(initial_theta)\n",
        "cost, grad = costFunction(initial_theta, X, y)\n",
        "\n",
        "print('Costo en theta inicial (zeros): {:.3f}'.format(cost))\n",
        "print('Costo esperado (aproximado): 0.693\\n')\n",
        "print(grad)\n",
        "print('Gradiente en theta inicial (zeros):')\n",
        "print('\\t[{:.4f}, {:.4f}, {:.4f}, {:.4f}, {:.4f}, {:.4f}, {:.4f}, {:.4f}, {:.4f}, {:.4f}]'.format(*grad))\n",
        "print('Gradiente esperado (aproximado):\\n\\t[-0.1000, -12.0092, -11.2628]\\n')"
      ]
    },
    {
      "cell_type": "code",
      "execution_count": 32,
      "metadata": {
        "colab": {
          "base_uri": "https://localhost:8080/"
        },
        "id": "9K2ifTi20FmE",
        "outputId": "01dac969-da2e-4191-d95e-48c431a69718"
      },
      "outputs": [
        {
          "output_type": "stream",
          "name": "stdout",
          "text": [
            "[ 0.2963      0.01091188 -0.01447597  0.04289774 -0.11491341  0.00563872\n",
            " -0.04773889  0.01925938  0.00287472  0.06288042 -0.00487199]\n",
            "Costo en theta prueba: 0.817\n",
            "Gradiente en theta prueba:\n",
            "\t[0.369, 0.014, -0.019, 0.054, -0.143, 0.007, -0.062, 0.028, 0.004, 0.076]\n"
          ]
        }
      ],
      "source": [
        "# Calcula y muestra el costo y el gradiente con valores de theta diferentes a cero\n",
        "\n",
        "test_theta = np.array([0.2963, 0.01091188, -0.01447597, 0.04289774, -0.11491341, 0.00563872, -0.04773889, 0.01925938, 0.00287472, 0.06288042, -0.00487199])\n",
        "#test_theta = np.array([-11.74749157, 0.09927308, 0.09316497])\n",
        "print(test_theta)\n",
        "cost, grad = costFunction(test_theta, X, y)\n",
        "\n",
        "print('Costo en theta prueba: {:.3f}'.format(cost))\n",
        "\n",
        "print('Gradiente en theta prueba:')\n",
        "print('\\t[{:.3f}, {:.3f}, {:.3f}, {:.3f}, {:.3f}, {:.3f}, {:.3f}, {:.3f}, {:.3f}, {:.3f}]'.format(*grad))"
      ]
    },
    {
      "cell_type": "code",
      "execution_count": 33,
      "metadata": {
        "colab": {
          "base_uri": "https://localhost:8080/"
        },
        "id": "wQdmT1dP2Ubf",
        "outputId": "e3918e4b-80e5-4fc3-c3bf-b59faa10bd1a"
      },
      "outputs": [
        {
          "output_type": "stream",
          "name": "stdout",
          "text": [
            "Costo con un valor de theta encontrado por optimize.minimize: 0.435\n",
            "theta:\n",
            "\t[-1.632, -0.064, 0.071, -0.270, 0.763, -0.042, 0.310, -0.023, -0.013, -0.540]\n"
          ]
        },
        {
          "output_type": "stream",
          "name": "stderr",
          "text": [
            "<ipython-input-33-1a790fbf24d8>:7: DeprecationWarning: 'maxiter' has been deprecated in favor of 'maxfun' and will be removed in SciPy 1.11.0.\n",
            "  res = optimize.minimize(costFunction,\n"
          ]
        }
      ],
      "source": [
        "# Establecer las opciones para optimize.minimize\n",
        "options= {'maxiter': 1000}\n",
        "\n",
        "# revisar la documentacion de scipy's optimize.minimize para mayor descripcion de los parametros\n",
        "# La funcion devuekve un objeto `OptimizeResult`\n",
        "# Se utiliza el algoritmo de Newton truncado para la optimización.\n",
        "res = optimize.minimize(costFunction,\n",
        "                        initial_theta,\n",
        "                        (X, y),\n",
        "                        jac=True,\n",
        "                        method='TNC',\n",
        "                        options=options)\n",
        "\n",
        "# la propiedad fun del objeto devuelto por `OptimizeResult`\n",
        "# contiene el valor del costFunction de un theta optimizado\n",
        "cost = res.fun\n",
        "\n",
        "# Theta optimizada esta en la propiedad x\n",
        "theta = res.x\n",
        "\n",
        "# Imprimir theta en la pantalla\n",
        "print('Costo con un valor de theta encontrado por optimize.minimize: {:.3f}'.format(cost))\n",
        "\n",
        "print('theta:')\n",
        "print('\\t[{:.3f}, {:.3f}, {:.3f}, {:.3f}, {:.3f}, {:.3f}, {:.3f}, {:.3f}, {:.3f}, {:.3f}]'.format(*theta))"
      ]
    },
    {
      "cell_type": "code",
      "execution_count": 34,
      "metadata": {
        "id": "2cN-5JvH2Xhh"
      },
      "outputs": [],
      "source": [
        "def plotDecisionBoundary(plotData, theta, X, y):\n",
        "    \"\"\"\n",
        "    Grafica los puntos X y Y en una nueva figura con un limite de desicion definido por theta.\n",
        "    the data points X and y into a new figure with the decision boundary defined by theta.\n",
        "    Grafica los puntos con * para los ejemplos positivos y con o para los ejemplos negativos.\n",
        "\n",
        "    Parametros:\n",
        "    ----------\n",
        "    plotData : func\n",
        "        A function reference for plotting the X, y data.\n",
        "\n",
        "    theta : array_like\n",
        "        Parametros para la regresion logistica. Un vecto de la forma (n+1, ).\n",
        "\n",
        "    X : array_like\n",
        "        Data set de entrada. Se supone que X es una de las siguientes:\n",
        "            1) Matriz Mx3, donde la primera columna es una columna de unos para intercepción.\n",
        "            2) Matriz MxN, N> 3, donde la primera columna son todos unos.\n",
        "\n",
        "    y : array_like\n",
        "        Vector de datos de etiquetas de la forma (m, ).\n",
        "    \"\"\"\n",
        "    # hacer que theta sera un arreglo numpy\n",
        "    theta = np.array(theta)\n",
        "\n",
        "    # Graficar los datos (recordar que la primera columna en X es la intercepción)\n",
        "    plotData(X[:, 1:7], y)\n",
        "\n",
        "    if X.shape[1] <= 7:\n",
        "        # Solo se requieren 2 puntos para definir una linea, para lo cual se eligen dos puntos finales\n",
        "        plot_x = np.array([np.min(X[:, 1]) - 2, np.max(X[:, 1]) + 2])\n",
        "\n",
        "        # Calcular la línea límite de decisión\n",
        "        plot_y = (-1. / theta[2]) * (theta[1] * plot_x + theta[0])\n",
        "\n",
        "        print(plot_x)\n",
        "        print(plot_y)\n",
        "        # Graficar y ajustar los ejes para una mejor visualización\n",
        "        pyplot.plot(plot_x, plot_y)\n",
        "\n",
        "        # Leyenda, especifica para el ejercicio\n",
        "        pyplot.legend(['Admitido', 'No admitido', 'Limite de decisión'])\n",
        "        pyplot.xlim([30, 100])\n",
        "        pyplot.ylim([30, 100])\n",
        "    else:\n",
        "        # Rango de la grilla\n",
        "        u = np.linspace(-1, 1.5, 50)\n",
        "        v = np.linspace(-1, 1.5, 50)\n",
        "\n",
        "        z = np.zeros((u.size, v.size))\n",
        "        # Evalua z = theta*x sobre la grilla\n",
        "        for i, ui in enumerate(u):\n",
        "            for j, vj in enumerate(v):\n",
        "                z[i, j] = np.dot(mapFeature(ui, vj), theta)\n",
        "\n",
        "        z = z.T  # importante transponer z antes de llamar al contorno\n",
        "        # print(z)\n",
        "\n",
        "        # Plot z = 0\n",
        "        pyplot.contour(u, v, z, levels=[0], linewidths=2, colors='g')\n",
        "        pyplot.contourf(u, v, z, levels=[np.min(z), 0, np.max(z)], cmap='Greens', alpha=0.4)"
      ]
    },
    {
      "cell_type": "code",
      "execution_count": 35,
      "metadata": {
        "id": "Rx-9uyRn2Z1X"
      },
      "outputs": [],
      "source": [
        "def predict(theta, X):\n",
        "    \"\"\"\n",
        "    Predecir si la etiqueta es 0 o 1 mediante regresión logística aprendida.\n",
        "    Calcula las predicciones para X usando un umbral en 0.5 (es decir, si sigmoide (theta.T * x)> = 0.5, predice 1)\n",
        "\n",
        "    Parametros\n",
        "    ----------\n",
        "    theta : array_like\n",
        "        Parametros para regresion logistica. Un vecto de la forma (n+1, ).\n",
        "\n",
        "    X : array_like\n",
        "        Datos utilizados para el calculo de las predicciones.\n",
        "        La fila es el numero de los puntos para calcular las predicciones,\n",
        "        y las columnas con el numero de caracteristicas.\n",
        "\n",
        "    Devuelve\n",
        "    -------\n",
        "    p : array_like\n",
        "        Predicciones y 0 o 1 para cada fila en X.\n",
        "    \"\"\"\n",
        "    m = X.shape[0] # Numero de ejemplo de entrenamiento\n",
        "\n",
        "    p = np.zeros(m)\n",
        "\n",
        "    p = np.round(sigmoid(X.dot(theta.T)))\n",
        "    return p"
      ]
    },
    {
      "cell_type": "code",
      "execution_count": 39,
      "metadata": {
        "colab": {
          "base_uri": "https://localhost:8080/"
        },
        "id": "KxJtIvWQ2eDF",
        "outputId": "314646e6-8073-4f9e-f019-f9ee154a2b47"
      },
      "outputs": [
        {
          "output_type": "stream",
          "name": "stdout",
          "text": [
            "Para los datos bancarios donde: \n",
            "CreditScore : 619\n",
            "Geography : Germany 1\n",
            "Gender: Male 1\n",
            "Age:42\n",
            "Tenure:2\n",
            "Balance: 0\n",
            "NumOfProducts: 1\n",
            "HasCRCard:1\n",
            "IsActiveMember: 1\n",
            "EstimateSalary:101348.88\n",
            "La probabilidad de salida es de:1.000%\n",
            "Valor esperado: 0.775 +/- 0.002\n",
            "\n",
            "Precisión de entrenamiento: 80.90 %\n",
            "Precisión esperada (aproximadamente): 89.00 %\n"
          ]
        }
      ],
      "source": [
        "#  Predice la probabilidad de un incendio con los datos introducidos\n",
        "prob = sigmoid(np.dot([1, 619, 1, 1, 42, 2, 0, 1, 1, 1, 101348.88], theta))\n",
        "print('Para los datos bancarios donde: ')\n",
        "print(f'CreditScore : {X_array[1]}')\n",
        "print(f'Geography : Germany {X_array[2]}')\n",
        "print(f'Gender: Male {X_array[3]}')\n",
        "print(f'Age:{X_array[4]}')\n",
        "print(f'Tenure:{X_array[5]}')\n",
        "print(f'Balance: {X_array[6]}')\n",
        "print(f'NumOfProducts: {X_array[7]}')\n",
        "print(f'HasCRCard:{X_array[8]}')\n",
        "print(f'IsActiveMember: {X_array[9]}')\n",
        "print(f'EstimateSalary:{X_array[10]}')\n",
        "print('La probabilidad de salida es de:{:.3f}%'.format(prob))\n",
        "print('Valor esperado: 0.775 +/- 0.002\\n')\n",
        "\n",
        "# Compute accuracy on our training set\n",
        "p = predict(theta, X)\n",
        "print('Precisión de entrenamiento: {:.2f} %'.format(np.mean(p == y) * 100))\n",
        "print('Precisión esperada (aproximadamente): 89.00 %')"
      ]
    }
  ],
  "metadata": {
    "colab": {
      "provenance": [],
      "include_colab_link": true
    },
    "kernelspec": {
      "display_name": "Python 3",
      "name": "python3"
    },
    "language_info": {
      "codemirror_mode": {
        "name": "ipython",
        "version": 3
      },
      "file_extension": ".py",
      "mimetype": "text/x-python",
      "name": "python",
      "nbconvert_exporter": "python",
      "pygments_lexer": "ipython3",
      "version": "3.9.7"
    }
  },
  "nbformat": 4,
  "nbformat_minor": 0
}