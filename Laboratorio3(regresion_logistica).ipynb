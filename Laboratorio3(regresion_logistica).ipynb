{
  "cells": [
    {
      "cell_type": "markdown",
      "metadata": {
        "id": "view-in-github",
        "colab_type": "text"
      },
      "source": [
        "<a href=\"https://colab.research.google.com/github/camiPadilla/SIS420CP/blob/main/Laboratorio3(regresion_logistica).ipynb\" target=\"_parent\"><img src=\"https://colab.research.google.com/assets/colab-badge.svg\" alt=\"Open In Colab\"/></a>"
      ]
    },
    {
      "cell_type": "code",
      "source": [
        "from google.colab import drive\n",
        "drive.mount('/content/drive')"
      ],
      "metadata": {
        "colab": {
          "base_uri": "https://localhost:8080/"
        },
        "id": "DdRFIeByPxHC",
        "outputId": "a97efcee-333b-4654-dc9d-dd1901132ac4"
      },
      "execution_count": 1,
      "outputs": [
        {
          "output_type": "stream",
          "name": "stdout",
          "text": [
            "Mounted at /content/drive\n"
          ]
        }
      ]
    },
    {
      "cell_type": "code",
      "execution_count": 2,
      "metadata": {
        "id": "8KjAIfPny0m9"
      },
      "outputs": [],
      "source": [
        "# se utiliza para el manejo de rutas y directorios.\n",
        "import os\n",
        "\n",
        "# Calculo cientifico y vectorial para python\n",
        "import numpy as np\n",
        "\n",
        "# Librerias para graficar\n",
        "from matplotlib import pyplot\n",
        "\n",
        "# Modulo de optimización de scipy\n",
        "from scipy import optimize\n",
        "\n",
        "# le dice a matplotlib que incruste gráficos en el cuaderno\n",
        "%matplotlib inline"
      ]
    },
    {
      "cell_type": "code",
      "execution_count": 3,
      "metadata": {
        "id": "YPJW6-UJy4s2"
      },
      "outputs": [],
      "source": [
        "import pandas as pd\n",
        "from sklearn.preprocessing import LabelEncoder\n",
        "from datetime import datetime\n",
        "from sklearn.model_selection import train_test_split"
      ]
    },
    {
      "cell_type": "code",
      "execution_count": 4,
      "metadata": {
        "id": "Qflp7AR6y58c"
      },
      "outputs": [],
      "source": [
        "#cargamos datos\n",
        "data = pd.read_csv('/content/drive/MyDrive/datasets/smoke_detection_iot.csv', header=0)"
      ]
    },
    {
      "cell_type": "code",
      "execution_count": 5,
      "metadata": {
        "colab": {
          "base_uri": "https://localhost:8080/"
        },
        "id": "rFeytR3UzcyK",
        "outputId": "0c31d487-2e99-4e55-ea6c-e25c23a7953d"
      },
      "outputs": [
        {
          "output_type": "stream",
          "name": "stdout",
          "text": [
            "       Unnamed: 0         UTC  Temperature[C]  Humidity[%]  TVOC[ppb]  \\\n",
            "0               0  1654733331          20.000        57.36          0   \n",
            "1               1  1654733332          20.015        56.67          0   \n",
            "2               2  1654733333          20.029        55.96          0   \n",
            "3               3  1654733334          20.044        55.28          0   \n",
            "4               4  1654733335          20.059        54.69          0   \n",
            "...           ...         ...             ...          ...        ...   \n",
            "62625       62625  1655130047          18.438        15.79        625   \n",
            "62626       62626  1655130048          18.653        15.87        612   \n",
            "62627       62627  1655130049          18.867        15.84        627   \n",
            "62628       62628  1655130050          19.083        16.04        638   \n",
            "62629       62629  1655130051          19.299        16.52        643   \n",
            "\n",
            "       eCO2[ppm]  Raw H2  Raw Ethanol  Pressure[hPa]  PM1.0  PM2.5  NC0.5  \\\n",
            "0            400   12306        18520        939.735   0.00   0.00   0.00   \n",
            "1            400   12345        18651        939.744   0.00   0.00   0.00   \n",
            "2            400   12374        18764        939.738   0.00   0.00   0.00   \n",
            "3            400   12390        18849        939.736   0.00   0.00   0.00   \n",
            "4            400   12403        18921        939.744   0.00   0.00   0.00   \n",
            "...          ...     ...          ...            ...    ...    ...    ...   \n",
            "62625        400   13723        20569        936.670   0.63   0.65   4.32   \n",
            "62626        400   13731        20588        936.678   0.61   0.63   4.18   \n",
            "62627        400   13725        20582        936.687   0.57   0.60   3.95   \n",
            "62628        400   13712        20566        936.680   0.57   0.59   3.92   \n",
            "62629        400   13696        20543        936.676   0.57   0.59   3.90   \n",
            "\n",
            "       NC1.0  NC2.5   CNT  Fire Alarm  \n",
            "0      0.000  0.000     0           0  \n",
            "1      0.000  0.000     1           0  \n",
            "2      0.000  0.000     2           0  \n",
            "3      0.000  0.000     3           0  \n",
            "4      0.000  0.000     4           0  \n",
            "...      ...    ...   ...         ...  \n",
            "62625  0.673  0.015  5739           0  \n",
            "62626  0.652  0.015  5740           0  \n",
            "62627  0.617  0.014  5741           0  \n",
            "62628  0.611  0.014  5742           0  \n",
            "62629  0.607  0.014  5743           0  \n",
            "\n",
            "[62630 rows x 16 columns]\n"
          ]
        }
      ],
      "source": [
        "#mostramos el dataset\n",
        "print(data)"
      ]
    },
    {
      "cell_type": "code",
      "execution_count": 6,
      "metadata": {
        "colab": {
          "base_uri": "https://localhost:8080/"
        },
        "id": "N_rDX9MNzdvU",
        "outputId": "ae8b49ff-ea67-4179-e273-40d3e087db5b"
      },
      "outputs": [
        {
          "output_type": "stream",
          "name": "stdout",
          "text": [
            "<class 'pandas.core.frame.DataFrame'>\n",
            "RangeIndex: 62630 entries, 0 to 62629\n",
            "Data columns (total 16 columns):\n",
            " #   Column          Non-Null Count  Dtype  \n",
            "---  ------          --------------  -----  \n",
            " 0   Unnamed: 0      62630 non-null  int64  \n",
            " 1   UTC             62630 non-null  int64  \n",
            " 2   Temperature[C]  62630 non-null  float64\n",
            " 3   Humidity[%]     62630 non-null  float64\n",
            " 4   TVOC[ppb]       62630 non-null  int64  \n",
            " 5   eCO2[ppm]       62630 non-null  int64  \n",
            " 6   Raw H2          62630 non-null  int64  \n",
            " 7   Raw Ethanol     62630 non-null  int64  \n",
            " 8   Pressure[hPa]   62630 non-null  float64\n",
            " 9   PM1.0           62630 non-null  float64\n",
            " 10  PM2.5           62630 non-null  float64\n",
            " 11  NC0.5           62630 non-null  float64\n",
            " 12  NC1.0           62630 non-null  float64\n",
            " 13  NC2.5           62630 non-null  float64\n",
            " 14  CNT             62630 non-null  int64  \n",
            " 15  Fire Alarm      62630 non-null  int64  \n",
            "dtypes: float64(8), int64(8)\n",
            "memory usage: 7.6 MB\n"
          ]
        }
      ],
      "source": [
        "# observamos si nos faltan datos\n",
        "data.info()"
      ]
    },
    {
      "cell_type": "code",
      "execution_count": 7,
      "metadata": {
        "colab": {
          "base_uri": "https://localhost:8080/"
        },
        "id": "1rnE4nftzifU",
        "outputId": "cb7d7712-d949-43e4-99f3-a1e62e7d1545"
      },
      "outputs": [
        {
          "output_type": "stream",
          "name": "stdout",
          "text": [
            "              UTC  Temperature[C]  Humidity[%]  TVOC[ppb]  eCO2[ppm]  Raw H2  \\\n",
            "0      1654733331          20.000        57.36          0        400   12306   \n",
            "1      1654733332          20.015        56.67          0        400   12345   \n",
            "2      1654733333          20.029        55.96          0        400   12374   \n",
            "3      1654733334          20.044        55.28          0        400   12390   \n",
            "4      1654733335          20.059        54.69          0        400   12403   \n",
            "...           ...             ...          ...        ...        ...     ...   \n",
            "62625  1655130047          18.438        15.79        625        400   13723   \n",
            "62626  1655130048          18.653        15.87        612        400   13731   \n",
            "62627  1655130049          18.867        15.84        627        400   13725   \n",
            "62628  1655130050          19.083        16.04        638        400   13712   \n",
            "62629  1655130051          19.299        16.52        643        400   13696   \n",
            "\n",
            "       Raw Ethanol  Pressure[hPa]  PM1.0  PM2.5  NC0.5  NC1.0  NC2.5   CNT  \\\n",
            "0            18520        939.735   0.00   0.00   0.00  0.000  0.000     0   \n",
            "1            18651        939.744   0.00   0.00   0.00  0.000  0.000     1   \n",
            "2            18764        939.738   0.00   0.00   0.00  0.000  0.000     2   \n",
            "3            18849        939.736   0.00   0.00   0.00  0.000  0.000     3   \n",
            "4            18921        939.744   0.00   0.00   0.00  0.000  0.000     4   \n",
            "...            ...            ...    ...    ...    ...    ...    ...   ...   \n",
            "62625        20569        936.670   0.63   0.65   4.32  0.673  0.015  5739   \n",
            "62626        20588        936.678   0.61   0.63   4.18  0.652  0.015  5740   \n",
            "62627        20582        936.687   0.57   0.60   3.95  0.617  0.014  5741   \n",
            "62628        20566        936.680   0.57   0.59   3.92  0.611  0.014  5742   \n",
            "62629        20543        936.676   0.57   0.59   3.90  0.607  0.014  5743   \n",
            "\n",
            "       Fire Alarm  \n",
            "0               0  \n",
            "1               0  \n",
            "2               0  \n",
            "3               0  \n",
            "4               0  \n",
            "...           ...  \n",
            "62625           0  \n",
            "62626           0  \n",
            "62627           0  \n",
            "62628           0  \n",
            "62629           0  \n",
            "\n",
            "[62630 rows x 15 columns]\n"
          ]
        }
      ],
      "source": [
        "# Eliminar columnas irrelevantes para la regresion\n",
        "columna_eliminar = ['Unnamed: 0']\n",
        "data.drop(columna_eliminar, axis=1, inplace=True)\n",
        "\n",
        "# Muestra el DataFrame resultante\n",
        "print(data)"
      ]
    },
    {
      "cell_type": "code",
      "execution_count": 8,
      "metadata": {
        "colab": {
          "base_uri": "https://localhost:8080/"
        },
        "id": "JF-hiBn3zneC",
        "outputId": "2d2c2224-3714-452c-8e89-96d476a57aa2"
      },
      "outputs": [
        {
          "output_type": "stream",
          "name": "stdout",
          "text": [
            "<class 'pandas.core.frame.DataFrame'>\n",
            "RangeIndex: 62630 entries, 0 to 62629\n",
            "Data columns (total 15 columns):\n",
            " #   Column          Non-Null Count  Dtype  \n",
            "---  ------          --------------  -----  \n",
            " 0   UTC             62630 non-null  int64  \n",
            " 1   Temperature[C]  62630 non-null  float64\n",
            " 2   Humidity[%]     62630 non-null  float64\n",
            " 3   TVOC[ppb]       62630 non-null  int64  \n",
            " 4   eCO2[ppm]       62630 non-null  int64  \n",
            " 5   Raw H2          62630 non-null  int64  \n",
            " 6   Raw Ethanol     62630 non-null  int64  \n",
            " 7   Pressure[hPa]   62630 non-null  float64\n",
            " 8   PM1.0           62630 non-null  float64\n",
            " 9   PM2.5           62630 non-null  float64\n",
            " 10  NC0.5           62630 non-null  float64\n",
            " 11  NC1.0           62630 non-null  float64\n",
            " 12  NC2.5           62630 non-null  float64\n",
            " 13  CNT             62630 non-null  int64  \n",
            " 14  Fire Alarm      62630 non-null  int64  \n",
            "dtypes: float64(8), int64(7)\n",
            "memory usage: 7.2 MB\n"
          ]
        }
      ],
      "source": [
        "data.info()"
      ]
    },
    {
      "cell_type": "code",
      "execution_count": 9,
      "metadata": {
        "colab": {
          "base_uri": "https://localhost:8080/"
        },
        "id": "XPE7ppGkzqxe",
        "outputId": "16793170-53a1-4acb-c7cd-b3e2cfc35747"
      },
      "outputs": [
        {
          "output_type": "stream",
          "name": "stdout",
          "text": [
            "<class 'pandas.core.frame.DataFrame'>\n",
            "RangeIndex: 62630 entries, 0 to 62629\n",
            "Data columns (total 15 columns):\n",
            " #   Column          Non-Null Count  Dtype  \n",
            "---  ------          --------------  -----  \n",
            " 0   UTC             62630 non-null  int64  \n",
            " 1   Temperature[C]  62630 non-null  float64\n",
            " 2   Humidity[%]     62630 non-null  float64\n",
            " 3   TVOC[ppb]       62630 non-null  int64  \n",
            " 4   eCO2[ppm]       62630 non-null  int64  \n",
            " 5   Raw H2          62630 non-null  int64  \n",
            " 6   Raw Ethanol     62630 non-null  int64  \n",
            " 7   Pressure[hPa]   62630 non-null  float64\n",
            " 8   PM1.0           62630 non-null  float64\n",
            " 9   PM2.5           62630 non-null  float64\n",
            " 10  NC0.5           62630 non-null  float64\n",
            " 11  NC1.0           62630 non-null  float64\n",
            " 12  NC2.5           62630 non-null  float64\n",
            " 13  CNT             62630 non-null  int64  \n",
            " 14  Fire Alarm      62630 non-null  int64  \n",
            "dtypes: float64(8), int64(7)\n",
            "memory usage: 7.2 MB\n"
          ]
        }
      ],
      "source": [
        "data.info()"
      ]
    },
    {
      "cell_type": "code",
      "execution_count": 11,
      "metadata": {
        "id": "ZCYXfP97zsJo"
      },
      "outputs": [],
      "source": [
        "#lectura de datos\n",
        "X = data.iloc[:, :14]\n",
        "y = data.iloc[:, 14]\n",
        "m = y.size"
      ]
    },
    {
      "cell_type": "code",
      "execution_count": 12,
      "metadata": {
        "colab": {
          "base_uri": "https://localhost:8080/"
        },
        "id": "MFPbLSHBzwno",
        "outputId": "2c9f7d13-c3f8-4a37-b6a4-fa83f382c832"
      },
      "outputs": [
        {
          "output_type": "stream",
          "name": "stdout",
          "text": [
            "              UTC  Temperature[C]  Humidity[%]  TVOC[ppb]  eCO2[ppm]  Raw H2  \\\n",
            "0      1654733331          20.000        57.36          0        400   12306   \n",
            "1      1654733332          20.015        56.67          0        400   12345   \n",
            "2      1654733333          20.029        55.96          0        400   12374   \n",
            "3      1654733334          20.044        55.28          0        400   12390   \n",
            "4      1654733335          20.059        54.69          0        400   12403   \n",
            "...           ...             ...          ...        ...        ...     ...   \n",
            "62625  1655130047          18.438        15.79        625        400   13723   \n",
            "62626  1655130048          18.653        15.87        612        400   13731   \n",
            "62627  1655130049          18.867        15.84        627        400   13725   \n",
            "62628  1655130050          19.083        16.04        638        400   13712   \n",
            "62629  1655130051          19.299        16.52        643        400   13696   \n",
            "\n",
            "       Raw Ethanol  Pressure[hPa]  PM1.0  PM2.5  NC0.5  NC1.0  NC2.5   CNT  \n",
            "0            18520        939.735   0.00   0.00   0.00  0.000  0.000     0  \n",
            "1            18651        939.744   0.00   0.00   0.00  0.000  0.000     1  \n",
            "2            18764        939.738   0.00   0.00   0.00  0.000  0.000     2  \n",
            "3            18849        939.736   0.00   0.00   0.00  0.000  0.000     3  \n",
            "4            18921        939.744   0.00   0.00   0.00  0.000  0.000     4  \n",
            "...            ...            ...    ...    ...    ...    ...    ...   ...  \n",
            "62625        20569        936.670   0.63   0.65   4.32  0.673  0.015  5739  \n",
            "62626        20588        936.678   0.61   0.63   4.18  0.652  0.015  5740  \n",
            "62627        20582        936.687   0.57   0.60   3.95  0.617  0.014  5741  \n",
            "62628        20566        936.680   0.57   0.59   3.92  0.611  0.014  5742  \n",
            "62629        20543        936.676   0.57   0.59   3.90  0.607  0.014  5743  \n",
            "\n",
            "[62630 rows x 14 columns]\n",
            "***************\n",
            "0        0\n",
            "1        0\n",
            "2        0\n",
            "3        0\n",
            "4        0\n",
            "        ..\n",
            "62625    0\n",
            "62626    0\n",
            "62627    0\n",
            "62628    0\n",
            "62629    0\n",
            "Name: Fire Alarm, Length: 62630, dtype: int64\n"
          ]
        }
      ],
      "source": [
        "print(X)\n",
        "print('*'*15)\n",
        "print(y)"
      ]
    },
    {
      "cell_type": "code",
      "execution_count": 15,
      "metadata": {
        "id": "R-QQYjSUPEFm"
      },
      "outputs": [],
      "source": [
        "#Dividimos los datos en Train (80%) y test (20%)\n",
        "X_train, X_test, y_train, y_test = train_test_split(X, y, test_size=0.2)"
      ]
    },
    {
      "cell_type": "code",
      "execution_count": 16,
      "metadata": {
        "colab": {
          "base_uri": "https://localhost:8080/"
        },
        "id": "FMYMg4TuPEFm",
        "outputId": "0c51b38a-6866-4ea5-ac64-69bf768a5afe"
      },
      "outputs": [
        {
          "output_type": "stream",
          "name": "stdout",
          "text": [
            "Datos entrenamiento> \n",
            "              UTC  Temperature[C]  Humidity[%]  TVOC[ppb]  eCO2[ppm]  Raw H2  \\\n",
            "11625  1654744956          13.189        52.65       1086        622   12803   \n",
            "23639  1654756970         -19.456        54.24       1389        415   12973   \n",
            "46354  1654782703          24.330        54.03       1320        401   12961   \n",
            "30042  1654766391          21.780        51.11         40        400   13250   \n",
            "28699  1654765048          20.400        53.42        259        400   13139   \n",
            "...           ...             ...          ...        ...        ...     ...   \n",
            "24932  1654758263          16.329        48.58       1392        442   12975   \n",
            "55425  1654716470          40.860        36.58       3490        400   13122   \n",
            "12086  1654745417          17.449        47.10       1044        582   12820   \n",
            "36306  1654772655          26.630        47.70       1023        632   12807   \n",
            "19262  1654752593          20.564        53.19       1128        400   12934   \n",
            "\n",
            "       Raw Ethanol  Pressure[hPa]  PM1.0  PM2.5  NC0.5  NC1.0  NC2.5    CNT  \n",
            "11625        19454        939.075   1.63   1.70  11.23  1.751  0.040  11625  \n",
            "23639        19381        938.710   1.78   1.85  12.23  1.907  0.043  23639  \n",
            "46354        19396        938.696   1.90   1.98  13.11  2.044  0.046  21360  \n",
            "30042        20178        939.679   1.91   1.99  13.16  2.052  0.046   5048  \n",
            "28699        19951        939.683   1.42   1.47   9.74  1.519  0.034   3705  \n",
            "...            ...            ...    ...    ...    ...    ...    ...    ...  \n",
            "24932        19387        938.855   1.89   1.96  12.98  2.024  0.046  24932  \n",
            "55425        19749        936.849   0.78   0.81   5.34  0.832  0.019   4283  \n",
            "12086        19461        938.991   2.00   2.08  13.77  2.148  0.049  12086  \n",
            "36306        19482        939.070   1.94   2.02  13.38  2.086  0.047  11312  \n",
            "19262        19449        938.696   1.53   1.59  10.51  1.639  0.037  19262  \n",
            "\n",
            "[50104 rows x 14 columns]\n",
            "11625    1\n",
            "23639    1\n",
            "46354    1\n",
            "30042    1\n",
            "28699    1\n",
            "        ..\n",
            "24932    1\n",
            "55425    0\n",
            "12086    1\n",
            "36306    1\n",
            "19262    1\n",
            "Name: Fire Alarm, Length: 50104, dtype: int64\n"
          ]
        }
      ],
      "source": [
        "print(\"Datos entrenamiento> \")\n",
        "print(X_train)\n",
        "print(y_train)"
      ]
    },
    {
      "cell_type": "code",
      "execution_count": 17,
      "metadata": {
        "colab": {
          "base_uri": "https://localhost:8080/"
        },
        "id": "-v54T4WGPEFm",
        "outputId": "64f9694d-33e0-4d97-9cf4-675fc49b5118"
      },
      "outputs": [
        {
          "output_type": "stream",
          "name": "stdout",
          "text": [
            "Datos prueba> \n",
            "              UTC  Temperature[C]  Humidity[%]  TVOC[ppb]  eCO2[ppm]  Raw H2  \\\n",
            "59541  1655126963          12.447        48.69        169        441   12765   \n",
            "57485  1655124907          16.330        44.41         90        410   12816   \n",
            "30416  1654766765          22.170        48.62         11        400   13261   \n",
            "18213  1654751544          19.104        48.89       1241        429   12896   \n",
            "1236   1654734567          26.896        56.01         15        400   13064   \n",
            "...           ...             ...          ...        ...        ...     ...   \n",
            "61712  1655129134           2.979        28.35       6862        400   13175   \n",
            "18976  1654752307          20.790        48.05       1199        400   12917   \n",
            "28127  1654764476          20.990        46.85        160        400   13160   \n",
            "37586  1654773935          24.510        52.94       1097        561   12822   \n",
            "10872  1654744203           4.895        54.41       1034        666   12790   \n",
            "\n",
            "       Raw Ethanol  Pressure[hPa]  PM1.0  PM2.5  NC0.5  NC1.0  NC2.5    CNT  \n",
            "59541        20552        937.362   1.59   1.65  10.92  1.703  0.038   2655  \n",
            "57485        20679        937.507   2.19   2.27  15.06  2.349  0.053    599  \n",
            "30416        20236        939.734   2.54   2.64  17.47  2.724  0.062   5422  \n",
            "18213        19418        938.702   1.76   1.83  12.10  1.887  0.043  18213  \n",
            "1236         19948        939.741   0.36   0.37   2.48  0.386  0.009   1236  \n",
            "...            ...            ...    ...    ...    ...    ...    ...    ...  \n",
            "61712        19573        936.878   2.02   2.10  13.89  2.165  0.049   4826  \n",
            "18976        19426        938.697   1.70   1.77  11.72  1.828  0.041  18976  \n",
            "28127        20010        939.630   0.89   0.92   6.12  0.955  0.022   3133  \n",
            "37586        19460        939.009   2.05   2.13  14.11  2.200  0.050  12592  \n",
            "10872        19471        939.076   2.41   2.50  16.56  2.582  0.058  10872  \n",
            "\n",
            "[12526 rows x 14 columns]\n",
            "59541    0\n",
            "57485    0\n",
            "30416    1\n",
            "18213    1\n",
            "1236     0\n",
            "        ..\n",
            "61712    0\n",
            "18976    1\n",
            "28127    0\n",
            "37586    1\n",
            "10872    1\n",
            "Name: Fire Alarm, Length: 12526, dtype: int64\n"
          ]
        }
      ],
      "source": [
        "print(\"Datos prueba> \")\n",
        "print(X_test)\n",
        "print(y_test)"
      ]
    },
    {
      "cell_type": "code",
      "execution_count": 18,
      "metadata": {
        "id": "gd0u9hINzzKI"
      },
      "outputs": [],
      "source": [
        "def  featureNormalize(X):\n",
        "    X_norm = X.copy()\n",
        "    mu = np.zeros(X.shape[1])\n",
        "    sigma = np.zeros(X.shape[1])\n",
        "\n",
        "    mu = np.mean(X, axis = 0)\n",
        "    sigma = np.std(X, axis = 0)\n",
        "    X_norm = (X - mu) / sigma\n",
        "\n",
        "    return X_norm, mu, sigma"
      ]
    },
    {
      "cell_type": "code",
      "execution_count": 19,
      "metadata": {
        "colab": {
          "base_uri": "https://localhost:8080/"
        },
        "id": "maQe64YWz0SV",
        "outputId": "aa34eb4c-8e37-478f-e013-75009cae8f7d"
      },
      "outputs": [
        {
          "output_type": "stream",
          "name": "stdout",
          "text": [
            "              UTC  Temperature[C]  Humidity[%]  TVOC[ppb]  eCO2[ppm]  Raw H2  \\\n",
            "0      1654733331          20.000        57.36          0        400   12306   \n",
            "1      1654733332          20.015        56.67          0        400   12345   \n",
            "2      1654733333          20.029        55.96          0        400   12374   \n",
            "3      1654733334          20.044        55.28          0        400   12390   \n",
            "4      1654733335          20.059        54.69          0        400   12403   \n",
            "...           ...             ...          ...        ...        ...     ...   \n",
            "62625  1655130047          18.438        15.79        625        400   13723   \n",
            "62626  1655130048          18.653        15.87        612        400   13731   \n",
            "62627  1655130049          18.867        15.84        627        400   13725   \n",
            "62628  1655130050          19.083        16.04        638        400   13712   \n",
            "62629  1655130051          19.299        16.52        643        400   13696   \n",
            "\n",
            "       Raw Ethanol  Pressure[hPa]  PM1.0  PM2.5  NC0.5  NC1.0  NC2.5   CNT  \n",
            "0            18520        939.735   0.00   0.00   0.00  0.000  0.000     0  \n",
            "1            18651        939.744   0.00   0.00   0.00  0.000  0.000     1  \n",
            "2            18764        939.738   0.00   0.00   0.00  0.000  0.000     2  \n",
            "3            18849        939.736   0.00   0.00   0.00  0.000  0.000     3  \n",
            "4            18921        939.744   0.00   0.00   0.00  0.000  0.000     4  \n",
            "...            ...            ...    ...    ...    ...    ...    ...   ...  \n",
            "62625        20569        936.670   0.63   0.65   4.32  0.673  0.015  5739  \n",
            "62626        20588        936.678   0.61   0.63   4.18  0.652  0.015  5740  \n",
            "62627        20582        936.687   0.57   0.60   3.95  0.617  0.014  5741  \n",
            "62628        20566        936.680   0.57   0.59   3.92  0.611  0.014  5742  \n",
            "62629        20543        936.676   0.57   0.59   3.90  0.607  0.014  5743  \n",
            "\n",
            "[62630 rows x 14 columns]\n",
            "Media calculada: UTC               1.654792e+09\n",
            "Temperature[C]    1.597042e+01\n",
            "Humidity[%]       4.853950e+01\n",
            "TVOC[ppb]         1.942058e+03\n",
            "eCO2[ppm]         6.700210e+02\n",
            "Raw H2            1.294245e+04\n",
            "Raw Ethanol       1.975426e+04\n",
            "Pressure[hPa]     9.386276e+02\n",
            "PM1.0             1.005943e+02\n",
            "PM2.5             1.844678e+02\n",
            "NC0.5             4.914636e+02\n",
            "NC1.0             2.035865e+02\n",
            "NC2.5             8.004904e+01\n",
            "CNT               1.051139e+04\n",
            "dtype: float64\n",
            "Desviación estandar calculada: UTC               110001.609881\n",
            "Temperature[C]        14.359462\n",
            "Humidity[%]            8.865296\n",
            "TVOC[ppb]           7811.526692\n",
            "eCO2[ppm]           1905.870224\n",
            "Raw H2               272.462130\n",
            "Raw Ethanol          609.508290\n",
            "Pressure[hPa]          1.331333\n",
            "PM1.0                922.516880\n",
            "PM2.5               1976.289837\n",
            "NC0.5               4265.627197\n",
            "NC1.0               2214.720874\n",
            "NC2.5               1083.374540\n",
            "CNT                 7597.810340\n",
            "dtype: float64\n",
            "            UTC  Temperature[C]  Humidity[%]  TVOC[ppb]  eCO2[ppm]    Raw H2  \\\n",
            "0     -0.533948        0.280622     0.994947  -0.248614  -0.141679 -2.335935   \n",
            "1     -0.533939        0.281666     0.917115  -0.248614  -0.141679 -2.192796   \n",
            "2     -0.533930        0.282641     0.837028  -0.248614  -0.141679 -2.086359   \n",
            "3     -0.533921        0.283686     0.760324  -0.248614  -0.141679 -2.027636   \n",
            "4     -0.533912        0.284730     0.693773  -0.248614  -0.141679 -1.979923   \n",
            "...         ...             ...          ...        ...        ...       ...   \n",
            "62625  3.072508        0.171843    -3.694123  -0.168604  -0.141679  2.864787   \n",
            "62626  3.072517        0.186816    -3.685100  -0.170269  -0.141679  2.894149   \n",
            "62627  3.072526        0.201719    -3.688484  -0.168348  -0.141679  2.872128   \n",
            "62628  3.072535        0.216761    -3.665924  -0.166940  -0.141679  2.824415   \n",
            "62629  3.072544        0.231804    -3.611780  -0.166300  -0.141679  2.765691   \n",
            "\n",
            "       Raw Ethanol  Pressure[hPa]     PM1.0     PM2.5     NC0.5     NC1.0  \\\n",
            "0        -2.025006       0.831761 -0.109043 -0.093340 -0.115215 -0.091924   \n",
            "1        -1.810079       0.838521 -0.109043 -0.093340 -0.115215 -0.091924   \n",
            "2        -1.624683       0.834014 -0.109043 -0.093340 -0.115215 -0.091924   \n",
            "3        -1.485227       0.832512 -0.109043 -0.093340 -0.115215 -0.091924   \n",
            "4        -1.367099       0.838521 -0.109043 -0.093340 -0.115215 -0.091924   \n",
            "...            ...            ...       ...       ...       ...       ...   \n",
            "62625     1.336720      -1.470443 -0.108360 -0.093012 -0.114202 -0.091620   \n",
            "62626     1.367893      -1.464434 -0.108382 -0.093022 -0.114235 -0.091630   \n",
            "62627     1.358049      -1.457674 -0.108425 -0.093037 -0.114289 -0.091646   \n",
            "62628     1.331798      -1.462932 -0.108425 -0.093042 -0.114296 -0.091648   \n",
            "62629     1.294063      -1.465936 -0.108425 -0.093042 -0.114301 -0.091650   \n",
            "\n",
            "          NC2.5       CNT  \n",
            "0     -0.073889 -1.383476  \n",
            "1     -0.073889 -1.383344  \n",
            "2     -0.073889 -1.383212  \n",
            "3     -0.073889 -1.383081  \n",
            "4     -0.073889 -1.382949  \n",
            "...         ...       ...  \n",
            "62625 -0.073875 -0.628127  \n",
            "62626 -0.073875 -0.627995  \n",
            "62627 -0.073876 -0.627863  \n",
            "62628 -0.073876 -0.627732  \n",
            "62629 -0.073876 -0.627600  \n",
            "\n",
            "[62630 rows x 14 columns]\n"
          ]
        }
      ],
      "source": [
        "# llama featureNormalize con los datos cargados\n",
        "X_norm, mu, sigma = featureNormalize(X)\n",
        "\n",
        "print(X)\n",
        "print('Media calculada:', mu)\n",
        "print('Desviación estandar calculada:', sigma)\n",
        "print(X_norm)"
      ]
    },
    {
      "cell_type": "code",
      "execution_count": 20,
      "metadata": {
        "id": "-PG5rWoyR2zN"
      },
      "outputs": [],
      "source": [
        "def sigmoid(z):\n",
        "    # Calcula la sigmoide de una entrada z\n",
        "    # convierte la intrada a un arreglo numpy\n",
        "    z = np.array(z)\n",
        "\n",
        "    g = np.zeros(z.shape)\n",
        "\n",
        "    g = 1 / (1 + np.exp(-z))\n",
        "\n",
        "    return g"
      ]
    },
    {
      "cell_type": "code",
      "execution_count": 21,
      "metadata": {
        "colab": {
          "base_uri": "https://localhost:8080/"
        },
        "id": "x_vpit-cz33W",
        "outputId": "1c58a331-dba8-4c76-f4bf-3e1c0ffe1e12"
      },
      "outputs": [
        {
          "output_type": "stream",
          "name": "stdout",
          "text": [
            "g( 0 ) =  0.5\n"
          ]
        }
      ],
      "source": [
        "# Prueba la implementacion de la funcion sigmoid\n",
        "z = 0\n",
        "g = sigmoid(z)\n",
        "\n",
        "print('g(', z, ') = ', g)"
      ]
    },
    {
      "cell_type": "code",
      "execution_count": 22,
      "metadata": {
        "id": "ahiiYY_uz5J0"
      },
      "outputs": [],
      "source": [
        "# Configurar la matriz adecuadamente, y agregar una columna de unos que corresponde al termino de intercepción.\n",
        "m, n = X.shape\n",
        "# Agraga el termino de intercepción a A\n",
        "X = np.concatenate([np.ones((m, 1)), X_norm], axis=1)"
      ]
    },
    {
      "cell_type": "code",
      "execution_count": 24,
      "metadata": {
        "id": "0Je8OHW4z6eY"
      },
      "outputs": [],
      "source": [
        "def calcular(theta, X, y):\n",
        "    # Inicializar algunos valores utiles\n",
        "    m = y.size  # numero de ejemplos de entrenamiento\n",
        "    #epsilon = 1e-8\n",
        "\n",
        "    J = 0\n",
        "    h = sigmoid(X.dot(theta.T))\n",
        "    J = (1 / m) * np.sum(-y.dot(np.log(h)) - (1 - y).dot(np.log(1 - h)))\n",
        "\n",
        "    return J"
      ]
    },
    {
      "cell_type": "code",
      "execution_count": 25,
      "metadata": {
        "id": "1BuahUQIz710"
      },
      "outputs": [],
      "source": [
        "def descensoGradiente(theta, X, y, alpha, num_iters):\n",
        "    # Inicializa algunos valores\n",
        "    m = y.shape[0] # numero de ejemplos de entrenamiento\n",
        "\n",
        "    # realiza una copia de theta, el cual será acutalizada por el descenso por el gradiente\n",
        "    theta = theta.copy()\n",
        "    J_history = []\n",
        "\n",
        "    for i in range(num_iters):\n",
        "        h = sigmoid(X.dot(theta.T))\n",
        "        theta = theta - (alpha / m) * (h - y).dot(X)\n",
        "\n",
        "        J_history.append(calcular(theta, X, y))\n",
        "    return theta, J_history"
      ]
    },
    {
      "cell_type": "code",
      "execution_count": 26,
      "metadata": {
        "colab": {
          "base_uri": "https://localhost:8080/",
          "height": 571
        },
        "id": "GxwVw6ySz9GG",
        "outputId": "cb15bd96-3986-4de7-8ea9-9820cb74ec9e"
      },
      "outputs": [
        {
          "output_type": "stream",
          "name": "stdout",
          "text": [
            "theta calculado por el descenso por el gradiente: [ 1.41848953e+00 -5.52751902e-01 -4.56238446e-01  4.14412354e-01\n",
            " -5.69005725e-01  2.06229373e-01  3.47559966e-01 -7.34892256e-01\n",
            " -4.06257815e-01 -4.38607663e-02 -2.73221776e-03 -8.68683118e-02\n",
            "  1.77487916e-04  3.19232147e-02  1.55593694e+00]\n",
            "El resultado entre falso o verdadero para un incendio es (usando el descenso por el gradiente):0\n"
          ]
        },
        {
          "output_type": "stream",
          "name": "stderr",
          "text": [
            "<ipython-input-20-22f640bc02db>:8: RuntimeWarning: overflow encountered in exp\n",
            "  g = 1 / (1 + np.exp(-z))\n"
          ]
        },
        {
          "output_type": "display_data",
          "data": {
            "text/plain": [
              "<Figure size 640x480 with 1 Axes>"
            ],
            "image/png": "[encoded data removed]"
          },
          "metadata": {}
        }
      ],
      "source": [
        "# Elegir algun valor para alpha (probar varias alternativas)\n",
        "alpha = 0.007\n",
        "num_iters = 3000\n",
        "\n",
        "# inicializa theta y ejecuta el descenso por el gradiente\n",
        "theta = np.zeros(15)\n",
        "theta, J_history = descensoGradiente(theta, X, y, alpha, num_iters)\n",
        "\n",
        "# Grafica la convergencia\n",
        "pyplot.plot(np.arange(len(J_history)), J_history, lw=2)\n",
        "pyplot.xlabel('Numero de iteraciones')\n",
        "pyplot.ylabel('Costo J')\n",
        "\n",
        "# Muestra los resultados del descenso por el gradiente\n",
        "print('theta calculado por el descenso por el gradiente: {:s}'.format(str(theta)))\n",
        "\n",
        "# verificar si se presenta un incendio o no\n",
        "X_array = [1, 1654733331,20.0,57.36,0,400,12306,18520,939.735,0.0,0.0,0.0,0.0,0.0,0]\n",
        "aprueba = sigmoid(np.dot(X_array, theta))   # Se debe cambiar esto\n",
        "\n",
        "print('El resultado entre falso o verdadero para un incendio es (usando el descenso por el gradiente):{:.0f}'.format(aprueba))"
      ]
    },
    {
      "cell_type": "code",
      "execution_count": 27,
      "metadata": {
        "id": "zwVf17SG0CdU"
      },
      "outputs": [],
      "source": [
        "def costFunction(theta, X, y):\n",
        "    # Inicializar algunos valores utiles\n",
        "    m = y.size  # numero de ejemplos de entrenamiento\n",
        "    epsilon = 1e-8\n",
        "\n",
        "    J = 0\n",
        "    grad = np.zeros(theta.shape)\n",
        "\n",
        "    h = sigmoid(X.dot(theta.T))\n",
        "\n",
        "    J = (1 / m) * np.sum(-y.dot(np.log(h+epsilon)) - (1 - y).dot(np.log(1 - h+epsilon)))\n",
        "    grad = (1 / m) * (h - y).dot(X)\n",
        "\n",
        "    return J, grad"
      ]
    },
    {
      "cell_type": "code",
      "execution_count": 30,
      "metadata": {
        "colab": {
          "base_uri": "https://localhost:8080/"
        },
        "id": "yEWrSzQ-0D_8",
        "outputId": "03b370df-8469-41ad-d39c-5c6ec9bb2b3e"
      },
      "outputs": [
        {
          "output_type": "stream",
          "name": "stdout",
          "text": [
            "[0. 0. 0. 0. 0. 0. 0. 0. 0. 0. 0. 0. 0. 0. 0.]\n",
            "theta inicial (zeros): 0.693\n",
            "valor esperado (aproximado): 0.693\n",
            "\n",
            "[-0.21462558  0.17585177  0.07401689 -0.18056766  0.09697655  0.04380724\n",
            " -0.04832358  0.15383585 -0.11280644  0.04992442  0.03834761  0.05785728\n",
            "  0.03740429  0.02606025 -0.3042659 ]\n",
            "Gradiente en theta inicial (zeros):\n",
            "\t[-0.2146, 0.1759, 0.0740, -0.1806, 0.0970, 0.0438, -0.0483, 0.1538, -0.1128, 0.0499, 0.0383, 0.0579, 0.0374, 0.0261, -0.3043]\n"
          ]
        }
      ],
      "source": [
        "# Inicializacion de parametros de ajuste\n",
        "initial_theta = np.zeros(n+1)\n",
        "print(initial_theta)\n",
        "cost, grad = costFunction(initial_theta, X, y)\n",
        "\n",
        "print('theta inicial (zeros): {:.3f}'.format(cost))\n",
        "print('valor esperado (aproximado): 0.693\\n')\n",
        "print(grad)\n",
        "print('Gradiente en theta inicial (zeros):')\n",
        "print('\\t[{:.4f}, {:.4f}, {:.4f}, {:.4f}, {:.4f}, {:.4f}, {:.4f}, {:.4f}, {:.4f}, {:.4f}, {:.4f}, {:.4f}, {:.4f}, {:.4f}, {:.4f}]'.format(*grad))"
      ]
    },
    {
      "cell_type": "code",
      "execution_count": 31,
      "metadata": {
        "colab": {
          "base_uri": "https://localhost:8080/"
        },
        "id": "9K2ifTi20FmE",
        "outputId": "6914d02e-f0e0-4007-bbb0-81e9da88fecb"
      },
      "outputs": [
        {
          "output_type": "stream",
          "name": "stdout",
          "text": [
            "[-0.21462558  0.17585177  0.07401689 -0.18056766  0.09697655  0.04380724\n",
            " -0.04832358  0.15383585 -0.11280644  0.04992442  0.03834761  0.05785728\n",
            "  0.03740429  0.02606025 -0.3042659 ]\n",
            "Costo en theta prueba: 1.028\n",
            "Gradiente en theta prueba:\n",
            "\t[-0.272, 0.272, 0.110, -0.292, 0.156, 0.100, -0.089, 0.197, -0.216, 0.104, 0.086, 0.113, 0.084, 0.065, -0.423]\n"
          ]
        }
      ],
      "source": [
        "# Calcula y muestra el costo y el gradiente con valores de theta diferentes a cero\n",
        "\n",
        "test_theta = np.array([-0.21462558,  0.17585177,  0.07401689, -0.18056766,  0.09697655,  0.04380724,\n",
        " -0.04832358,  0.15383585, -0.11280644,  0.04992442,  0.03834761,  0.05785728,\n",
        "  0.03740429,  0.02606025, -0.3042659])\n",
        "#test_theta = np.array([-11.74749157, 0.09927308, 0.09316497])\n",
        "print(test_theta)\n",
        "cost, grad = costFunction(test_theta, X, y)\n",
        "\n",
        "print('Costo en theta prueba: {:.3f}'.format(cost))\n",
        "\n",
        "print('Gradiente en theta prueba:')\n",
        "print('\\t[{:.3f}, {:.3f}, {:.3f}, {:.3f}, {:.3f}, {:.3f}, {:.3f}, {:.3f}, {:.3f}, {:.3f}, {:.3f}, {:.3f}, {:.3f}, {:.3f}, {:.3f}]'.format(*grad))"
      ]
    },
    {
      "cell_type": "code",
      "execution_count": 32,
      "metadata": {
        "colab": {
          "base_uri": "https://localhost:8080/"
        },
        "id": "wQdmT1dP2Ubf",
        "outputId": "78ece0e4-70d4-498a-d08d-ee6fb1364a1c"
      },
      "outputs": [
        {
          "output_type": "stream",
          "name": "stderr",
          "text": [
            "<ipython-input-32-4bfe3387cb04>:7: DeprecationWarning: 'maxiter' has been deprecated in favor of 'maxfun' and will be removed in SciPy 1.11.0.\n",
            "  res = optimize.minimize(costFunction,\n",
            "<ipython-input-20-22f640bc02db>:8: RuntimeWarning: overflow encountered in exp\n",
            "  g = 1 / (1 + np.exp(-z))\n"
          ]
        },
        {
          "output_type": "stream",
          "name": "stdout",
          "text": [
            "Costo con un valor de theta encontrado por optimize.minimize: 0.025\n",
            "theta:\n",
            "\t[16.734, -0.806, -0.927, 2.119, -104.650, 3.475, 1.167, -7.822, -4.547, 2.779, 1.673, 25.777, 1.633, 1.150, 33.041]\n"
          ]
        }
      ],
      "source": [
        "# Establecer las opciones para optimize.minimize\n",
        "options= {'maxiter': 1000}\n",
        "\n",
        "# revisar la documentacion de scipy's optimize.minimize para mayor descripcion de los parametros\n",
        "# La funcion devuekve un objeto `OptimizeResult`\n",
        "# Se utiliza el algoritmo de Newton truncado para la optimización.\n",
        "res = optimize.minimize(costFunction,\n",
        "                        initial_theta,\n",
        "                        (X, y),\n",
        "                        jac=True,\n",
        "                        method='TNC',\n",
        "                        options=options)\n",
        "\n",
        "# la propiedad fun del objeto devuelto por `OptimizeResult`\n",
        "# contiene el valor del costFunction de un theta optimizado\n",
        "cost = res.fun\n",
        "\n",
        "# Theta optimizada esta en la propiedad x\n",
        "theta = res.x\n",
        "\n",
        "# Imprimir theta en la pantalla\n",
        "print('Costo con un valor de theta encontrado por optimize.minimize: {:.3f}'.format(cost))\n",
        "\n",
        "print('theta:')\n",
        "print('\\t[{:.3f}, {:.3f}, {:.3f}, {:.3f}, {:.3f}, {:.3f}, {:.3f}, {:.3f}, {:.3f}, {:.3f}, {:.3f}, {:.3f}, {:.3f}, {:.3f}, {:.3f}]'.format(*theta))"
      ]
    },
    {
      "cell_type": "code",
      "execution_count": 33,
      "metadata": {
        "id": "2cN-5JvH2Xhh"
      },
      "outputs": [],
      "source": [
        "def plotDecisionBoundary(plotData, theta, X, y):\n",
        "    \"\"\"\n",
        "    Grafica los puntos X y Y en una nueva figura con un limite de desicion definido por theta.\n",
        "    the data points X and y into a new figure with the decision boundary defined by theta.\n",
        "    Grafica los puntos con * para los ejemplos positivos y con o para los ejemplos negativos.\n",
        "\n",
        "    Parametros:\n",
        "    ----------\n",
        "    plotData : func\n",
        "        A function reference for plotting the X, y data.\n",
        "\n",
        "    theta : array_like\n",
        "        Parametros para la regresion logistica. Un vecto de la forma (n+1, ).\n",
        "\n",
        "    X : array_like\n",
        "        Data set de entrada. Se supone que X es una de las siguientes:\n",
        "            1) Matriz Mx3, donde la primera columna es una columna de unos para intercepción.\n",
        "            2) Matriz MxN, N> 3, donde la primera columna son todos unos.\n",
        "\n",
        "    y : array_like\n",
        "        Vector de datos de etiquetas de la forma (m, ).\n",
        "    \"\"\"\n",
        "    # hacer que theta sera un arreglo numpy\n",
        "    theta = np.array(theta)\n",
        "\n",
        "    # Graficar los datos (recordar que la primera columna en X es la intercepción)\n",
        "    plotData(X[:, 1:7], y)\n",
        "\n",
        "    if X.shape[1] <= 7:\n",
        "        # Solo se requieren 2 puntos para definir una linea, para lo cual se eligen dos puntos finales\n",
        "        plot_x = np.array([np.min(X[:, 1]) - 2, np.max(X[:, 1]) + 2])\n",
        "\n",
        "        # Calcular la línea límite de decisión\n",
        "        plot_y = (-1. / theta[2]) * (theta[1] * plot_x + theta[0])\n",
        "\n",
        "        print(plot_x)\n",
        "        print(plot_y)\n",
        "        # Graficar y ajustar los ejes para una mejor visualización\n",
        "        pyplot.plot(plot_x, plot_y)\n",
        "\n",
        "        # Leyenda, especifica para el ejercicio\n",
        "        pyplot.legend(['Admitido', 'No admitido', 'Limite de decisión'])\n",
        "        pyplot.xlim([30, 100])\n",
        "        pyplot.ylim([30, 100])\n",
        "    else:\n",
        "        # Rango de la grilla\n",
        "        u = np.linspace(-1, 1.5, 50)\n",
        "        v = np.linspace(-1, 1.5, 50)\n",
        "\n",
        "        z = np.zeros((u.size, v.size))\n",
        "        # Evalua z = theta*x sobre la grilla\n",
        "        for i, ui in enumerate(u):\n",
        "            for j, vj in enumerate(v):\n",
        "                z[i, j] = np.dot(mapFeature(ui, vj), theta)\n",
        "\n",
        "        z = z.T  # importante transponer z antes de llamar al contorno\n",
        "        # print(z)\n",
        "\n",
        "        # Plot z = 0\n",
        "        pyplot.contour(u, v, z, levels=[0], linewidths=2, colors='g')\n",
        "        pyplot.contourf(u, v, z, levels=[np.min(z), 0, np.max(z)], cmap='Greens', alpha=0.4)"
      ]
    },
    {
      "cell_type": "code",
      "execution_count": 34,
      "metadata": {
        "id": "Rx-9uyRn2Z1X"
      },
      "outputs": [],
      "source": [
        "def predict(theta, X):\n",
        "    \"\"\"\n",
        "    Predecir si la etiqueta es 0 o 1 mediante regresión logística aprendida.\n",
        "    Calcula las predicciones para X usando un umbral en 0.5 (es decir, si sigmoide (theta.T * x)> = 0.5, predice 1)\n",
        "\n",
        "    Parametros\n",
        "    ----------\n",
        "    theta : array_like\n",
        "        Parametros para regresion logistica. Un vecto de la forma (n+1, ).\n",
        "\n",
        "    X : array_like\n",
        "        Datos utilizados para el calculo de las predicciones.\n",
        "        La fila es el numero de los puntos para calcular las predicciones,\n",
        "        y las columnas con el numero de caracteristicas.\n",
        "\n",
        "    Devuelve\n",
        "    -------\n",
        "    p : array_like\n",
        "        Predicciones y 0 o 1 para cada fila en X.\n",
        "    \"\"\"\n",
        "    m = X.shape[0] # Numero de ejemplo de entrenamiento\n",
        "\n",
        "    p = np.zeros(m)\n",
        "\n",
        "    p = np.round(sigmoid(X.dot(theta.T)))\n",
        "    return p"
      ]
    },
    {
      "cell_type": "code",
      "execution_count": 35,
      "metadata": {
        "colab": {
          "base_uri": "https://localhost:8080/"
        },
        "id": "KxJtIvWQ2eDF",
        "outputId": "142b2ce4-fed5-4843-f4e6-4a38dc6c911d"
      },
      "outputs": [
        {
          "output_type": "stream",
          "name": "stdout",
          "text": [
            "Para la deteccion de humo con los datos introducidos la probabilidad es de: 0.000%\n",
            "Valor esperado: 0.775 +/- 0.002\n",
            "\n",
            "Precisión de entrenamiento: 99.70 %\n",
            "Precisión esperada (aproximadamente): 89.00 %\n"
          ]
        },
        {
          "output_type": "stream",
          "name": "stderr",
          "text": [
            "<ipython-input-20-22f640bc02db>:8: RuntimeWarning: overflow encountered in exp\n",
            "  g = 1 / (1 + np.exp(-z))\n"
          ]
        }
      ],
      "source": [
        "#  Predice la probabilidad de un incendio\n",
        "prob = sigmoid(np.dot([1, 1654733331,20.0,57.36,0,400,12306,18520,939.735,0.0,0.0,0.0,0.0,0.0,0], theta))\n",
        "print('Para la deteccion de humo con los datos introducidos la probabilidad es de: {:.3f}%'.format(prob))\n",
        "print('Valor esperado: 0.775 +/- 0.002\\n')\n",
        "\n",
        "# Compute accuracy on our training set\n",
        "p = predict(theta, X)\n",
        "print('Precisión de entrenamiento: {:.2f} %'.format(np.mean(p == y) * 100))\n",
        "print('Precisión esperada (aproximadamente): 89.00 %')"
      ]
    }
  ],
  "metadata": {
    "colab": {
      "provenance": [],
      "include_colab_link": true
    },
    "kernelspec": {
      "display_name": "Python 3",
      "name": "python3"
    },
    "language_info": {
      "codemirror_mode": {
        "name": "ipython",
        "version": 3
      },
      "file_extension": ".py",
      "mimetype": "text/x-python",
      "name": "python",
      "nbconvert_exporter": "python",
      "pygments_lexer": "ipython3",
      "version": "3.9.7"
    }
  },
  "nbformat": 4,
  "nbformat_minor": 0
}