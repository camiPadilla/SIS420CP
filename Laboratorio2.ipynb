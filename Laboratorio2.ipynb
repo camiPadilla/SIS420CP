{
  "nbformat": 4,
  "nbformat_minor": 0,
  "metadata": {
    "colab": {
      "provenance": [],
      "authorship_tag": "ABX9TyOEQaYH6BiDpuKoL0Q90vN6",
      "include_colab_link": true
    },
    "kernelspec": {
      "name": "python3",
      "display_name": "Python 3"
    },
    "language_info": {
      "name": "python"
    }
  },
  "cells": [
    {
      "cell_type": "markdown",
      "metadata": {
        "id": "view-in-github",
        "colab_type": "text"
      },
      "source": [
        "<a href=\"https://colab.research.google.com/github/camiPadilla/SIS420CP/blob/main/Laboratorio2.ipynb\" target=\"_parent\"><img src=\"https://colab.research.google.com/assets/colab-badge.svg\" alt=\"Open In Colab\"/></a>"
      ]
    },
    {
      "cell_type": "code",
      "execution_count": 144,
      "metadata": {
        "id": "JFYIiL2tNCtN"
      },
      "outputs": [],
      "source": [
        "#Implementamos librerias\n",
        "import os\n",
        "import numpy as np\n",
        "#implementamos librerias para graficar\n",
        "from matplotlib import pyplot\n",
        "#llamamos a la matplotlib para graficar en los cuadernillos\n",
        "%matplotlib inline"
      ]
    },
    {
      "cell_type": "code",
      "source": [
        "#mostramos datos con panda\n",
        "import pandas as pd\n",
        "from sklearn.preprocessing import LabelEncoder\n",
        "from datetime import datetime"
      ],
      "metadata": {
        "id": "k9IFjnBjNvhE"
      },
      "execution_count": 145,
      "outputs": []
    },
    {
      "cell_type": "code",
      "source": [
        "# cargamos dataset\n",
        "# Datos sobre precios de viviendas en Bangalore\n",
        "data = pd.read_csv('/content/Bengaluru_House_Data.csv')\n",
        "\n",
        "print(data)"
      ],
      "metadata": {
        "colab": {
          "base_uri": "https://localhost:8080/"
        },
        "id": "3hJRxblzZDUM",
        "outputId": "ef518c08-fe87-45c9-9a44-7aaeea8347d9"
      },
      "execution_count": 146,
      "outputs": [
        {
          "output_type": "stream",
          "name": "stdout",
          "text": [
            "                  area_type   availability                  location  \\\n",
            "0      Super built-up  Area         19-Dec  Electronic City Phase II   \n",
            "1                Plot  Area  Ready To Move          Chikka Tirupathi   \n",
            "2            Built-up  Area  Ready To Move               Uttarahalli   \n",
            "3      Super built-up  Area  Ready To Move        Lingadheeranahalli   \n",
            "4      Super built-up  Area  Ready To Move                  Kothanur   \n",
            "...                     ...            ...                       ...   \n",
            "13315        Built-up  Area  Ready To Move                Whitefield   \n",
            "13316  Super built-up  Area  Ready To Move             Richards Town   \n",
            "13317        Built-up  Area  Ready To Move     Raja Rajeshwari Nagar   \n",
            "13318  Super built-up  Area         18-Jun           Padmanabhanagar   \n",
            "13319  Super built-up  Area  Ready To Move              Doddathoguru   \n",
            "\n",
            "            size  society total_sqft  bath  balcony   price  \n",
            "0          2 BHK  Coomee        1056   2.0      1.0   39.07  \n",
            "1      4 Bedroom  Theanmp       2600   5.0      3.0  120.00  \n",
            "2          3 BHK      NaN       1440   2.0      3.0   62.00  \n",
            "3          3 BHK  Soiewre       1521   3.0      1.0   95.00  \n",
            "4          2 BHK      NaN       1200   2.0      1.0   51.00  \n",
            "...          ...      ...        ...   ...      ...     ...  \n",
            "13315  5 Bedroom  ArsiaEx       3453   4.0      0.0  231.00  \n",
            "13316      4 BHK      NaN       3600   5.0      NaN  400.00  \n",
            "13317      2 BHK  Mahla T       1141   2.0      1.0   60.00  \n",
            "13318      4 BHK  SollyCl       4689   4.0      1.0  488.00  \n",
            "13319      1 BHK      NaN        550   1.0      1.0   17.00  \n",
            "\n",
            "[13320 rows x 9 columns]\n"
          ]
        }
      ]
    },
    {
      "cell_type": "code",
      "source": [
        "data.info()"
      ],
      "metadata": {
        "colab": {
          "base_uri": "https://localhost:8080/"
        },
        "id": "nOeCWGNxZwLk",
        "outputId": "1be97ded-e052-417a-8641-b588e1388612"
      },
      "execution_count": 147,
      "outputs": [
        {
          "output_type": "stream",
          "name": "stdout",
          "text": [
            "<class 'pandas.core.frame.DataFrame'>\n",
            "RangeIndex: 13320 entries, 0 to 13319\n",
            "Data columns (total 9 columns):\n",
            " #   Column        Non-Null Count  Dtype  \n",
            "---  ------        --------------  -----  \n",
            " 0   area_type     13320 non-null  object \n",
            " 1   availability  13320 non-null  object \n",
            " 2   location      13319 non-null  object \n",
            " 3   size          13304 non-null  object \n",
            " 4   society       7818 non-null   object \n",
            " 5   total_sqft    13320 non-null  object \n",
            " 6   bath          13247 non-null  float64\n",
            " 7   balcony       12711 non-null  float64\n",
            " 8   price         13320 non-null  float64\n",
            "dtypes: float64(3), object(6)\n",
            "memory usage: 936.7+ KB\n"
          ]
        }
      ]
    },
    {
      "cell_type": "code",
      "source": [
        "# Hacemos que Bedroom sea BHK para luego poder eliminarlos en uno\n",
        "columna_eliminar = ['size']\n",
        "texto = 'Bedroom'\n",
        "\n",
        "for columna in columna_eliminar:\n",
        "    data[columna] = data[columna].str.replace(texto,'BHK',regex = False)"
      ],
      "metadata": {
        "id": "r0voOKiTbEjD"
      },
      "execution_count": 148,
      "outputs": []
    },
    {
      "cell_type": "code",
      "source": [
        "print(data)"
      ],
      "metadata": {
        "colab": {
          "base_uri": "https://localhost:8080/"
        },
        "id": "Nol-GC8IcNFs",
        "outputId": "b2cc917a-a78f-4817-cb91-04dc0dafb8f2"
      },
      "execution_count": 149,
      "outputs": [
        {
          "output_type": "stream",
          "name": "stdout",
          "text": [
            "                  area_type   availability                  location   size  \\\n",
            "0      Super built-up  Area         19-Dec  Electronic City Phase II  2 BHK   \n",
            "1                Plot  Area  Ready To Move          Chikka Tirupathi  4 BHK   \n",
            "2            Built-up  Area  Ready To Move               Uttarahalli  3 BHK   \n",
            "3      Super built-up  Area  Ready To Move        Lingadheeranahalli  3 BHK   \n",
            "4      Super built-up  Area  Ready To Move                  Kothanur  2 BHK   \n",
            "...                     ...            ...                       ...    ...   \n",
            "13315        Built-up  Area  Ready To Move                Whitefield  5 BHK   \n",
            "13316  Super built-up  Area  Ready To Move             Richards Town  4 BHK   \n",
            "13317        Built-up  Area  Ready To Move     Raja Rajeshwari Nagar  2 BHK   \n",
            "13318  Super built-up  Area         18-Jun           Padmanabhanagar  4 BHK   \n",
            "13319  Super built-up  Area  Ready To Move              Doddathoguru  1 BHK   \n",
            "\n",
            "       society total_sqft  bath  balcony   price  \n",
            "0      Coomee        1056   2.0      1.0   39.07  \n",
            "1      Theanmp       2600   5.0      3.0  120.00  \n",
            "2          NaN       1440   2.0      3.0   62.00  \n",
            "3      Soiewre       1521   3.0      1.0   95.00  \n",
            "4          NaN       1200   2.0      1.0   51.00  \n",
            "...        ...        ...   ...      ...     ...  \n",
            "13315  ArsiaEx       3453   4.0      0.0  231.00  \n",
            "13316      NaN       3600   5.0      NaN  400.00  \n",
            "13317  Mahla T       1141   2.0      1.0   60.00  \n",
            "13318  SollyCl       4689   4.0      1.0  488.00  \n",
            "13319      NaN        550   1.0      1.0   17.00  \n",
            "\n",
            "[13320 rows x 9 columns]\n"
          ]
        }
      ]
    },
    {
      "cell_type": "code",
      "source": [
        "#Eliminamos todos los textos BHK de size\n",
        "columnas_eliminar =['size']\n",
        "texto = 'BHK'\n",
        "\n",
        "for columna in columnas_eliminar:\n",
        "    data[columna] = data[columna].str.replace(texto,'',regex = False)\n",
        "\n",
        "print(data)"
      ],
      "metadata": {
        "colab": {
          "base_uri": "https://localhost:8080/"
        },
        "id": "ICx0o3cPd7tF",
        "outputId": "a50f84e1-3c38-4a40-e6dc-96f2e1ce8e12"
      },
      "execution_count": 150,
      "outputs": [
        {
          "output_type": "stream",
          "name": "stdout",
          "text": [
            "                  area_type   availability                  location size  \\\n",
            "0      Super built-up  Area         19-Dec  Electronic City Phase II   2    \n",
            "1                Plot  Area  Ready To Move          Chikka Tirupathi   4    \n",
            "2            Built-up  Area  Ready To Move               Uttarahalli   3    \n",
            "3      Super built-up  Area  Ready To Move        Lingadheeranahalli   3    \n",
            "4      Super built-up  Area  Ready To Move                  Kothanur   2    \n",
            "...                     ...            ...                       ...  ...   \n",
            "13315        Built-up  Area  Ready To Move                Whitefield   5    \n",
            "13316  Super built-up  Area  Ready To Move             Richards Town   4    \n",
            "13317        Built-up  Area  Ready To Move     Raja Rajeshwari Nagar   2    \n",
            "13318  Super built-up  Area         18-Jun           Padmanabhanagar   4    \n",
            "13319  Super built-up  Area  Ready To Move              Doddathoguru   1    \n",
            "\n",
            "       society total_sqft  bath  balcony   price  \n",
            "0      Coomee        1056   2.0      1.0   39.07  \n",
            "1      Theanmp       2600   5.0      3.0  120.00  \n",
            "2          NaN       1440   2.0      3.0   62.00  \n",
            "3      Soiewre       1521   3.0      1.0   95.00  \n",
            "4          NaN       1200   2.0      1.0   51.00  \n",
            "...        ...        ...   ...      ...     ...  \n",
            "13315  ArsiaEx       3453   4.0      0.0  231.00  \n",
            "13316      NaN       3600   5.0      NaN  400.00  \n",
            "13317  Mahla T       1141   2.0      1.0   60.00  \n",
            "13318  SollyCl       4689   4.0      1.0  488.00  \n",
            "13319      NaN        550   1.0      1.0   17.00  \n",
            "\n",
            "[13320 rows x 9 columns]\n"
          ]
        }
      ]
    },
    {
      "cell_type": "code",
      "source": [
        "#Hacemos que la columna size deje de ser categorica\n",
        "columna_categorica = 'size'\n",
        "columna_numerica = 'sizee'\n",
        "\n",
        "#creamos una nueva columna con los datos de size pero estos datos son numericos\n",
        "data[columna_numerica] = pd.to_numeric(data[columna_categorica], errors = 'coerce')\n",
        "\n",
        "#Eliminamos la columna size original\n",
        "data.drop(columna_categorica, axis = 1, inplace = True)\n",
        "\n",
        "data.info()"
      ],
      "metadata": {
        "colab": {
          "base_uri": "https://localhost:8080/"
        },
        "id": "kHB2KBgXfPqM",
        "outputId": "c7f8f931-a5c0-497e-fd6c-61ba8775866a"
      },
      "execution_count": 151,
      "outputs": [
        {
          "output_type": "stream",
          "name": "stdout",
          "text": [
            "<class 'pandas.core.frame.DataFrame'>\n",
            "RangeIndex: 13320 entries, 0 to 13319\n",
            "Data columns (total 9 columns):\n",
            " #   Column        Non-Null Count  Dtype  \n",
            "---  ------        --------------  -----  \n",
            " 0   area_type     13320 non-null  object \n",
            " 1   availability  13320 non-null  object \n",
            " 2   location      13319 non-null  object \n",
            " 3   society       7818 non-null   object \n",
            " 4   total_sqft    13320 non-null  object \n",
            " 5   bath          13247 non-null  float64\n",
            " 6   balcony       12711 non-null  float64\n",
            " 7   price         13320 non-null  float64\n",
            " 8   sizee         13291 non-null  float64\n",
            "dtypes: float64(4), object(5)\n",
            "memory usage: 936.7+ KB\n"
          ]
        }
      ]
    },
    {
      "cell_type": "code",
      "source": [
        "# Para posicionar 'price' (y) en la ultima columna, posicionamos a la columna'sizee' antes de la columna 'price' (y)\n",
        "columnas_ordenadas = list(data.columns)\n",
        "indice_anterior = columnas_ordenadas.index('balcony')\n",
        "# insertamos la columna 'sizee' en la posicion de balcony + 1\n",
        "columnas_ordenadas.insert(indice_anterior + 1, 'sizee')\n",
        "data = data[columnas_ordenadas]"
      ],
      "metadata": {
        "id": "F4pjQOxDcVEN"
      },
      "execution_count": 152,
      "outputs": []
    },
    {
      "cell_type": "code",
      "source": [
        "data.info()"
      ],
      "metadata": {
        "colab": {
          "base_uri": "https://localhost:8080/"
        },
        "id": "fXD0iUFAVFYa",
        "outputId": "59ed8963-6ebd-4a42-d944-f6e5566a655c"
      },
      "execution_count": 153,
      "outputs": [
        {
          "output_type": "stream",
          "name": "stdout",
          "text": [
            "<class 'pandas.core.frame.DataFrame'>\n",
            "RangeIndex: 13320 entries, 0 to 13319\n",
            "Data columns (total 10 columns):\n",
            " #   Column        Non-Null Count  Dtype  \n",
            "---  ------        --------------  -----  \n",
            " 0   area_type     13320 non-null  object \n",
            " 1   availability  13320 non-null  object \n",
            " 2   location      13319 non-null  object \n",
            " 3   society       7818 non-null   object \n",
            " 4   total_sqft    13320 non-null  object \n",
            " 5   bath          13247 non-null  float64\n",
            " 6   balcony       12711 non-null  float64\n",
            " 7   sizee         13291 non-null  float64\n",
            " 8   price         13320 non-null  float64\n",
            " 9   sizee         13291 non-null  float64\n",
            "dtypes: float64(5), object(5)\n",
            "memory usage: 1.0+ MB\n"
          ]
        }
      ]
    },
    {
      "cell_type": "code",
      "source": [
        "# como la columna 'sizee' se repite, eliminaremos la columna duplicada que esta en ultima posicion\n",
        "data = data.iloc[:, :-1] # primer valor :, es para seleccionar todas las filas, el segundo valor :-1, es para seleccionar la columna, en este caso la ultima"
      ],
      "metadata": {
        "id": "pmuFa0ENcP7v"
      },
      "execution_count": 154,
      "outputs": []
    },
    {
      "cell_type": "code",
      "source": [
        "data.info()"
      ],
      "metadata": {
        "colab": {
          "base_uri": "https://localhost:8080/"
        },
        "id": "wNeMDBgGVM-T",
        "outputId": "68667ec3-5b76-4f9b-8066-411e09c0cf54"
      },
      "execution_count": 155,
      "outputs": [
        {
          "output_type": "stream",
          "name": "stdout",
          "text": [
            "<class 'pandas.core.frame.DataFrame'>\n",
            "RangeIndex: 13320 entries, 0 to 13319\n",
            "Data columns (total 9 columns):\n",
            " #   Column        Non-Null Count  Dtype  \n",
            "---  ------        --------------  -----  \n",
            " 0   area_type     13320 non-null  object \n",
            " 1   availability  13320 non-null  object \n",
            " 2   location      13319 non-null  object \n",
            " 3   society       7818 non-null   object \n",
            " 4   total_sqft    13320 non-null  object \n",
            " 5   bath          13247 non-null  float64\n",
            " 6   balcony       12711 non-null  float64\n",
            " 7   sizee         13291 non-null  float64\n",
            " 8   price         13320 non-null  float64\n",
            "dtypes: float64(4), object(5)\n",
            "memory usage: 936.7+ KB\n"
          ]
        }
      ]
    },
    {
      "cell_type": "code",
      "source": [
        "print(data)"
      ],
      "metadata": {
        "colab": {
          "base_uri": "https://localhost:8080/"
        },
        "id": "NCY5I7GEch3H",
        "outputId": "b5bbd83f-79ef-4b05-d961-a1baf31c39db"
      },
      "execution_count": 156,
      "outputs": [
        {
          "output_type": "stream",
          "name": "stdout",
          "text": [
            "                  area_type   availability                  location  society  \\\n",
            "0      Super built-up  Area         19-Dec  Electronic City Phase II  Coomee    \n",
            "1                Plot  Area  Ready To Move          Chikka Tirupathi  Theanmp   \n",
            "2            Built-up  Area  Ready To Move               Uttarahalli      NaN   \n",
            "3      Super built-up  Area  Ready To Move        Lingadheeranahalli  Soiewre   \n",
            "4      Super built-up  Area  Ready To Move                  Kothanur      NaN   \n",
            "...                     ...            ...                       ...      ...   \n",
            "13315        Built-up  Area  Ready To Move                Whitefield  ArsiaEx   \n",
            "13316  Super built-up  Area  Ready To Move             Richards Town      NaN   \n",
            "13317        Built-up  Area  Ready To Move     Raja Rajeshwari Nagar  Mahla T   \n",
            "13318  Super built-up  Area         18-Jun           Padmanabhanagar  SollyCl   \n",
            "13319  Super built-up  Area  Ready To Move              Doddathoguru      NaN   \n",
            "\n",
            "      total_sqft  bath  balcony  sizee   price  \n",
            "0           1056   2.0      1.0    2.0   39.07  \n",
            "1           2600   5.0      3.0    4.0  120.00  \n",
            "2           1440   2.0      3.0    3.0   62.00  \n",
            "3           1521   3.0      1.0    3.0   95.00  \n",
            "4           1200   2.0      1.0    2.0   51.00  \n",
            "...          ...   ...      ...    ...     ...  \n",
            "13315       3453   4.0      0.0    5.0  231.00  \n",
            "13316       3600   5.0      NaN    4.0  400.00  \n",
            "13317       1141   2.0      1.0    2.0   60.00  \n",
            "13318       4689   4.0      1.0    4.0  488.00  \n",
            "13319        550   1.0      1.0    1.0   17.00  \n",
            "\n",
            "[13320 rows x 9 columns]\n"
          ]
        }
      ]
    },
    {
      "cell_type": "code",
      "source": [
        "# almacenamos los datos que sean tipo objeto y tipo fecha en distintas columnas\n",
        "columnas_categoricas = data.select_dtypes(include=['object']).columns\n",
        "columnas_fechas = data.select_dtypes(include=['datetime64']).columns"
      ],
      "metadata": {
        "id": "Xcl1AYGyhJYb"
      },
      "execution_count": 157,
      "outputs": []
    },
    {
      "cell_type": "code",
      "source": [
        "#Agarramos cada columna que se encuntra en las categoricas\n",
        "for columna in columnas_categoricas:\n",
        "    le = LabelEncoder()\n",
        "    data[columna]= le.fit_transform(data[columna])"
      ],
      "metadata": {
        "id": "MyqT_JMniop0"
      },
      "execution_count": 158,
      "outputs": []
    },
    {
      "cell_type": "code",
      "source": [
        "#Transformamos de Fechas a numeros\n",
        "for columna in columnas_fechas:\n",
        "    data[columna]=pd.to_numeric(data[columna].map(datetime.timestamp))"
      ],
      "metadata": {
        "id": "bVJ6FyMDjNBc"
      },
      "execution_count": 159,
      "outputs": []
    },
    {
      "cell_type": "code",
      "source": [
        "#resultados\n",
        "print(data)"
      ],
      "metadata": {
        "colab": {
          "base_uri": "https://localhost:8080/"
        },
        "id": "K2_wND-ajyEd",
        "outputId": "9c0f29f7-8e2c-4a10-a869-92a9207abb1d"
      },
      "execution_count": 160,
      "outputs": [
        {
          "output_type": "stream",
          "name": "stdout",
          "text": [
            "       area_type  availability  location  society  total_sqft  bath  balcony  \\\n",
            "0              3            40       419      464          70   2.0      1.0   \n",
            "1              2            80       317     2439        1288   5.0      3.0   \n",
            "2              0            80      1179     2688         514   2.0      3.0   \n",
            "3              3            80       757     2186         602   3.0      1.0   \n",
            "4              3            80       716     2688         239   2.0      1.0   \n",
            "...          ...           ...       ...      ...         ...   ...      ...   \n",
            "13315          0            80      1252      209        1499   4.0      0.0   \n",
            "13316          3            80      1004     2688        1535   5.0      NaN   \n",
            "13317          0            80       972     1216         172   2.0      1.0   \n",
            "13318          3            32       907     2205        1680   4.0      1.0   \n",
            "13319          3            80       396     2688        1747   1.0      1.0   \n",
            "\n",
            "       sizee   price  \n",
            "0        2.0   39.07  \n",
            "1        4.0  120.00  \n",
            "2        3.0   62.00  \n",
            "3        3.0   95.00  \n",
            "4        2.0   51.00  \n",
            "...      ...     ...  \n",
            "13315    5.0  231.00  \n",
            "13316    4.0  400.00  \n",
            "13317    2.0   60.00  \n",
            "13318    4.0  488.00  \n",
            "13319    1.0   17.00  \n",
            "\n",
            "[13320 rows x 9 columns]\n"
          ]
        }
      ]
    },
    {
      "cell_type": "code",
      "source": [
        "data.info()"
      ],
      "metadata": {
        "colab": {
          "base_uri": "https://localhost:8080/"
        },
        "id": "dhnv-GtGkBpq",
        "outputId": "52873e05-20f4-4e18-96b8-aa61a342a3fc"
      },
      "execution_count": 161,
      "outputs": [
        {
          "output_type": "stream",
          "name": "stdout",
          "text": [
            "<class 'pandas.core.frame.DataFrame'>\n",
            "RangeIndex: 13320 entries, 0 to 13319\n",
            "Data columns (total 9 columns):\n",
            " #   Column        Non-Null Count  Dtype  \n",
            "---  ------        --------------  -----  \n",
            " 0   area_type     13320 non-null  int64  \n",
            " 1   availability  13320 non-null  int64  \n",
            " 2   location      13320 non-null  int64  \n",
            " 3   society       13320 non-null  int64  \n",
            " 4   total_sqft    13320 non-null  int64  \n",
            " 5   bath          13247 non-null  float64\n",
            " 6   balcony       12711 non-null  float64\n",
            " 7   sizee         13291 non-null  float64\n",
            " 8   price         13320 non-null  float64\n",
            "dtypes: float64(4), int64(5)\n",
            "memory usage: 936.7 KB\n"
          ]
        }
      ]
    },
    {
      "cell_type": "code",
      "source": [
        "#Rellenamos los datos que faltan // _numero de valores = 13320\n",
        "columnas_rellenar = ['bath', 'balcony', 'sizee','price']\n",
        "media_columnas = data[columnas_rellenar].mean()\n",
        "data[columnas_rellenar] = data[columnas_rellenar].fillna(media_columnas)\n",
        "\n",
        "data.info()"
      ],
      "metadata": {
        "colab": {
          "base_uri": "https://localhost:8080/"
        },
        "id": "Rb1TMnbekL2j",
        "outputId": "55e44664-02be-4a76-e3fa-845ffb4793cd"
      },
      "execution_count": 162,
      "outputs": [
        {
          "output_type": "stream",
          "name": "stdout",
          "text": [
            "<class 'pandas.core.frame.DataFrame'>\n",
            "RangeIndex: 13320 entries, 0 to 13319\n",
            "Data columns (total 9 columns):\n",
            " #   Column        Non-Null Count  Dtype  \n",
            "---  ------        --------------  -----  \n",
            " 0   area_type     13320 non-null  int64  \n",
            " 1   availability  13320 non-null  int64  \n",
            " 2   location      13320 non-null  int64  \n",
            " 3   society       13320 non-null  int64  \n",
            " 4   total_sqft    13320 non-null  int64  \n",
            " 5   bath          13320 non-null  float64\n",
            " 6   balcony       13320 non-null  float64\n",
            " 7   sizee         13320 non-null  float64\n",
            " 8   price         13320 non-null  float64\n",
            "dtypes: float64(4), int64(5)\n",
            "memory usage: 936.7 KB\n"
          ]
        }
      ]
    },
    {
      "cell_type": "code",
      "source": [
        "#lectura de datos\n",
        "X = data.iloc[:, :8]\n",
        "y = data.iloc[:, 8]\n",
        "m = y.size"
      ],
      "metadata": {
        "id": "zIzd5UPRqF_L"
      },
      "execution_count": 163,
      "outputs": []
    },
    {
      "cell_type": "code",
      "source": [
        "print(X)\n",
        "print('-'*25)\n",
        "print(y)"
      ],
      "metadata": {
        "colab": {
          "base_uri": "https://localhost:8080/"
        },
        "id": "IEIXebWytKJd",
        "outputId": "862341df-e784-490a-d968-db6ab31708ce"
      },
      "execution_count": 164,
      "outputs": [
        {
          "output_type": "stream",
          "name": "stdout",
          "text": [
            "       area_type  availability  location  society  total_sqft  bath   balcony  \\\n",
            "0              3            40       419      464          70   2.0  1.000000   \n",
            "1              2            80       317     2439        1288   5.0  3.000000   \n",
            "2              0            80      1179     2688         514   2.0  3.000000   \n",
            "3              3            80       757     2186         602   3.0  1.000000   \n",
            "4              3            80       716     2688         239   2.0  1.000000   \n",
            "...          ...           ...       ...      ...         ...   ...       ...   \n",
            "13315          0            80      1252      209        1499   4.0  0.000000   \n",
            "13316          3            80      1004     2688        1535   5.0  1.584376   \n",
            "13317          0            80       972     1216         172   2.0  1.000000   \n",
            "13318          3            32       907     2205        1680   4.0  1.000000   \n",
            "13319          3            80       396     2688        1747   1.0  1.000000   \n",
            "\n",
            "       sizee  \n",
            "0        2.0  \n",
            "1        4.0  \n",
            "2        3.0  \n",
            "3        3.0  \n",
            "4        2.0  \n",
            "...      ...  \n",
            "13315    5.0  \n",
            "13316    4.0  \n",
            "13317    2.0  \n",
            "13318    4.0  \n",
            "13319    1.0  \n",
            "\n",
            "[13320 rows x 8 columns]\n",
            "-------------------------\n",
            "0         39.07\n",
            "1        120.00\n",
            "2         62.00\n",
            "3         95.00\n",
            "4         51.00\n",
            "          ...  \n",
            "13315    231.00\n",
            "13316    400.00\n",
            "13317     60.00\n",
            "13318    488.00\n",
            "13319     17.00\n",
            "Name: price, Length: 13320, dtype: float64\n"
          ]
        }
      ]
    },
    {
      "cell_type": "code",
      "source": [
        "# contabilizar filas y columnas\n",
        "X.shape"
      ],
      "metadata": {
        "id": "XHWuKdOCPx_g",
        "colab": {
          "base_uri": "https://localhost:8080/"
        },
        "outputId": "bc826999-ef39-4143-e39a-40c328bc3bd0"
      },
      "execution_count": 165,
      "outputs": [
        {
          "output_type": "execute_result",
          "data": {
            "text/plain": [
              "(13320, 8)"
            ]
          },
          "metadata": {},
          "execution_count": 165
        }
      ]
    },
    {
      "cell_type": "code",
      "source": [
        "#Normalizamos\n",
        "def featureNormalize(X):\n",
        "  X_norm = X.copy()\n",
        "  mu = np.zeros(X.shape[1])\n",
        "  sigma = np.zeros(X.shape[1])\n",
        "\n",
        "  mu = np.mean(X, axis = 0)\n",
        "  sigma = np.std(X, axis = 0)\n",
        "  X_norm = (X - mu) / sigma\n",
        "\n",
        "  return X_norm, mu, sigma"
      ],
      "metadata": {
        "id": "lYPMQsfoP0vR"
      },
      "execution_count": 166,
      "outputs": []
    },
    {
      "cell_type": "code",
      "source": [
        "#Llamamos a featureNormalize con los datos ya cargados\n",
        "X_norm, mu, sigma = featureNormalize(X)\n",
        "\n",
        "print(X)\n",
        "print('Media Calculada :', mu) #media calculada de X\n",
        "print('Desviación estandar calculada :', sigma) # Desviacion calculada de X\n",
        "print(X_norm)"
      ],
      "metadata": {
        "id": "tctziHoltczV",
        "colab": {
          "base_uri": "https://localhost:8080/"
        },
        "outputId": "faf7c3ca-9379-4eef-86ba-0f350b49c943"
      },
      "execution_count": 167,
      "outputs": [
        {
          "output_type": "stream",
          "name": "stdout",
          "text": [
            "       area_type  availability  location  society  total_sqft  bath   balcony  \\\n",
            "0              3            40       419      464          70   2.0  1.000000   \n",
            "1              2            80       317     2439        1288   5.0  3.000000   \n",
            "2              0            80      1179     2688         514   2.0  3.000000   \n",
            "3              3            80       757     2186         602   3.0  1.000000   \n",
            "4              3            80       716     2688         239   2.0  1.000000   \n",
            "...          ...           ...       ...      ...         ...   ...       ...   \n",
            "13315          0            80      1252      209        1499   4.0  0.000000   \n",
            "13316          3            80      1004     2688        1535   5.0  1.584376   \n",
            "13317          0            80       972     1216         172   2.0  1.000000   \n",
            "13318          3            32       907     2205        1680   4.0  1.000000   \n",
            "13319          3            80       396     2688        1747   1.0  1.000000   \n",
            "\n",
            "       sizee  \n",
            "0        2.0  \n",
            "1        4.0  \n",
            "2        3.0  \n",
            "3        3.0  \n",
            "4        2.0  \n",
            "...      ...  \n",
            "13315    5.0  \n",
            "13316    4.0  \n",
            "13317    2.0  \n",
            "13318    4.0  \n",
            "13319    1.0  \n",
            "\n",
            "[13320 rows x 8 columns]\n",
            "Media Calculada : area_type          2.290315\n",
            "availability      71.081156\n",
            "location         672.659009\n",
            "society         1906.121547\n",
            "total_sqft       762.983258\n",
            "bath               2.692610\n",
            "balcony            1.584376\n",
            "sizee              2.805507\n",
            "dtype: float64\n",
            "Desviación estandar calculada : area_type         1.143803\n",
            "availability     18.512477\n",
            "location        365.011104\n",
            "society         865.605354\n",
            "total_sqft      630.479028\n",
            "bath              1.337727\n",
            "balcony           0.798331\n",
            "sizee             1.292919\n",
            "dtype: float64\n",
            "       area_type  availability  location   society  total_sqft      bath  \\\n",
            "0       0.620461     -1.678930 -0.694935 -1.666027   -1.099138 -0.517751   \n",
            "1      -0.253816      0.481775 -0.974379  0.615614    0.832727  1.724859   \n",
            "2      -2.002369      0.481775  1.387193  0.903274   -0.394911 -0.517751   \n",
            "3       0.620461      0.481775  0.231064  0.323333   -0.255335  0.229786   \n",
            "4       0.620461      0.481775  0.118739  0.903274   -0.831088 -0.517751   \n",
            "...          ...           ...       ...       ...         ...       ...   \n",
            "13315  -2.002369      0.481775  1.587187 -1.960618    1.167393  0.977323   \n",
            "13316   0.620461      0.481775  0.907756  0.903274    1.224492  1.724859   \n",
            "13317  -2.002369      0.481775  0.820087 -0.797270   -0.937356 -0.517751   \n",
            "13318   0.620461     -2.111071  0.642011  0.345283    1.454476  0.977323   \n",
            "13319   0.620461      0.481775 -0.757947  0.903274    1.560745 -1.265288   \n",
            "\n",
            "            balcony     sizee  \n",
            "0     -7.319972e-01 -0.623015  \n",
            "1      1.773231e+00  0.923873  \n",
            "2      1.773231e+00  0.150429  \n",
            "3     -7.319972e-01  0.150429  \n",
            "4     -7.319972e-01 -0.623015  \n",
            "...             ...       ...  \n",
            "13315 -1.984611e+00  1.697316  \n",
            "13316 -2.781362e-16  0.923873  \n",
            "13317 -7.319972e-01 -0.623015  \n",
            "13318 -7.319972e-01  0.923873  \n",
            "13319 -7.319972e-01 -1.396458  \n",
            "\n",
            "[13320 rows x 8 columns]\n"
          ]
        }
      ]
    },
    {
      "cell_type": "code",
      "source": [
        "#Añade intersección a x\n",
        "#(Columnas de unos para X0)\n",
        "X = np.concatenate([np.ones((m, 1)), X_norm], axis = 1)\n",
        "\n",
        "print(X)"
      ],
      "metadata": {
        "id": "3c_dzKC9uMmR",
        "colab": {
          "base_uri": "https://localhost:8080/"
        },
        "outputId": "ca9bc688-d0aa-4912-d1fe-45928b1bfe6d"
      },
      "execution_count": 168,
      "outputs": [
        {
          "output_type": "stream",
          "name": "stdout",
          "text": [
            "[[ 1.          0.62046076 -1.67893016 ... -0.51775126 -0.73199725\n",
            "  -0.62301468]\n",
            " [ 1.         -0.25381591  0.48177474 ...  1.72485942  1.77323081\n",
            "   0.9238727 ]\n",
            " [ 1.         -2.00236924  0.48177474 ... -0.51775126  1.77323081\n",
            "   0.15042901]\n",
            " ...\n",
            " [ 1.         -2.00236924  0.48177474 ... -0.51775126 -0.73199725\n",
            "  -0.62301468]\n",
            " [ 1.          0.62046076 -2.11107115 ...  0.97732252 -0.73199725\n",
            "   0.9238727 ]\n",
            " [ 1.          0.62046076  0.48177474 ... -1.26528816 -0.73199725\n",
            "  -1.39645837]]\n"
          ]
        }
      ]
    },
    {
      "cell_type": "code",
      "source": [
        "def costo(X, y, theta):\n",
        "  #inicializamos valores\n",
        "  m = y.shape[0] #numero de ejemplos de entrenamiento\n",
        "\n",
        "  J = 0\n",
        "  h = np.dot(X, theta)\n",
        "  J = (1/(2*m))*np.sum(np.square(np.dot(X, theta)-y))\n",
        "  return J"
      ],
      "metadata": {
        "id": "f0TvR9C2w3ak"
      },
      "execution_count": 169,
      "outputs": []
    },
    {
      "cell_type": "code",
      "source": [
        "def gradiente(X, y, theta, alpha, num_iters):\n",
        "  #inicializamos valores\n",
        "  m= y.shape[0] #numero de ejemplos de entrenamiento\n",
        "  #realizamos una copia de theta el cual sera actualizado por decenso de la gradiente\n",
        "  theta = theta.copy()\n",
        "  J_history = []\n",
        "  for i in range(num_iters):\n",
        "    theta = theta - (alpha / m)*(np.dot(X, theta)-y).dot(X)\n",
        "    J_history.append(costo(X, y, theta))\n",
        "\n",
        "  return theta, J_history"
      ],
      "metadata": {
        "id": "rTI2uTzJxzy9"
      },
      "execution_count": 170,
      "outputs": []
    },
    {
      "cell_type": "code",
      "source": [
        "#elegimos algun valor para alpha\n",
        "alpha = 0.001\n",
        "num_iters = 5000\n",
        "\n",
        "#iniciamos theta e inicializaos el decenso de las gradientes\n",
        "theta = np.zeros(9)\n",
        "theta, J_history = gradiente(X, y, theta, alpha, num_iters)\n",
        "\n",
        "#graficamos el costo\n",
        "pyplot.plot(np.arange(len(J_history)), J_history, lw = 2)\n",
        "pyplot.xlabel('numero de interacciones')\n",
        "pyplot.ylabel('J')\n",
        "\n",
        "#Muestra los resultados del descenso por el gradiente\n",
        "print('theta calculado por el descenso de la gradiente: {:s}'.format(str(theta)))\n",
        "\n",
        "#Estimamos el precio\n",
        "X_array = [1, 3, 80 ,849 ,1526 ,602 ,4.0 ,1.000000, 2.0]\n",
        "X_array[1: 9] = (X_array[1:9]- mu)/ sigma\n",
        "price = np.dot(X_array, theta)\n",
        "\n",
        "print('El precio predecito es (usando el decenso de la gradiente): {:.4f}'.format(price))"
      ],
      "metadata": {
        "colab": {
          "base_uri": "https://localhost:8080/",
          "height": 518
        },
        "id": "sdQIFk_5zDPt",
        "outputId": "0d5c705e-aa1e-4f10-fd7e-43c4c68cc912"
      },
      "execution_count": 171,
      "outputs": [
        {
          "output_type": "stream",
          "name": "stdout",
          "text": [
            "theta calculado por el descenso de la gradiente: [ 1.11809060e+02  2.15701473e-01 -9.05750190e-01  1.71351033e+00\n",
            " -8.78788333e-04  2.45563875e+01  4.57869068e+01  6.05534574e+00\n",
            "  1.62081117e+01]\n",
            "El precio predecito es (usando el decenso de la gradiente): 136.2828\n"
          ]
        },
        {
          "output_type": "display_data",
          "data": {
            "text/plain": [
              "<Figure size 640x480 with 1 Axes>"
            ],
            "image/png": "[encoded data removed]"
          },
          "metadata": {}
        }
      ]
    },
    {
      "cell_type": "code",
      "source": [
        "def calcularThethaEcuacionNormal(X, y):\n",
        "    theta = np.zeros(X.shape[1])\n",
        "    theta = np.dot(np.dot(np.linalg.inv(np.dot(X.T,X)),X.T),y)\n",
        "    return theta"
      ],
      "metadata": {
        "id": "LOdXx960R8gK"
      },
      "execution_count": 172,
      "outputs": []
    },
    {
      "cell_type": "code",
      "source": [
        "theta = calcularThethaEcuacionNormal(X, y);\n",
        "print(f\"los valores de theta calculados son: { theta }\")\n"
      ],
      "metadata": {
        "colab": {
          "base_uri": "https://localhost:8080/"
        },
        "id": "JyXZm3K7R_8D",
        "outputId": "28d7107e-db27-40d2-b810-6b28b811bf67"
      },
      "execution_count": 173,
      "outputs": [
        {
          "output_type": "stream",
          "name": "stdout",
          "text": [
            "los valores de theta calculados son: [112.5656265   -0.12440253  -0.36555714   1.411198     0.53552757\n",
            "  23.55230069  67.08510672   5.63757539  -5.00660601]\n"
          ]
        }
      ]
    },
    {
      "cell_type": "code",
      "source": [
        "X_array = [1, 3, 80 ,849 ,1526 ,602 ,4.0 ,1.000000, 2.0]\n",
        "price = np.dot(X_array, theta)\n",
        "\n",
        "print('Precio predecido (usando la ecuación de la normal): ${:.0f}'.format(price))"
      ],
      "metadata": {
        "colab": {
          "base_uri": "https://localhost:8080/"
        },
        "id": "gP9T23YLSmMi",
        "outputId": "7efcb221-26d6-4cf6-acf8-598d64ec764c"
      },
      "execution_count": 174,
      "outputs": [
        {
          "output_type": "stream",
          "name": "stdout",
          "text": [
            "Precio predecido (usando la ecuación de la normal): $16541\n"
          ]
        }
      ]
    }
  ]
}