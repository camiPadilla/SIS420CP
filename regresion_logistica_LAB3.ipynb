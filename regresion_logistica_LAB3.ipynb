{
  "cells": [
    {
      "cell_type": "markdown",
      "metadata": {
        "id": "view-in-github",
        "colab_type": "text"
      },
      "source": [
        "<a href=\"https://colab.research.google.com/github/camiPadilla/SIS420CP/blob/main/regresion_logistica_LAB3.ipynb\" target=\"_parent\"><img src=\"https://colab.research.google.com/assets/colab-badge.svg\" alt=\"Open In Colab\"/></a>"
      ]
    },
    {
      "cell_type": "code",
      "source": [
        "from google.colab import drive\n",
        "drive.mount('/content/drive')"
      ],
      "metadata": {
        "colab": {
          "base_uri": "https://localhost:8080/"
        },
        "id": "DdRFIeByPxHC",
        "outputId": "cb5a4c47-8dd5-48d7-9f11-262170b0c10b"
      },
      "execution_count": 31,
      "outputs": [
        {
          "output_type": "stream",
          "name": "stdout",
          "text": [
            "Drive already mounted at /content/drive; to attempt to forcibly remount, call drive.mount(\"/content/drive\", force_remount=True).\n"
          ]
        }
      ]
    },
    {
      "cell_type": "code",
      "execution_count": 32,
      "metadata": {
        "id": "8KjAIfPny0m9"
      },
      "outputs": [],
      "source": [
        "# se utiliza para el manejo de rutas y directorios.\n",
        "import os\n",
        "\n",
        "# Calculo cientifico y vectorial para python\n",
        "import numpy as np\n",
        "\n",
        "# Librerias para graficar\n",
        "from matplotlib import pyplot\n",
        "\n",
        "# Modulo de optimización de scipy\n",
        "from scipy import optimize\n",
        "\n",
        "# le dice a matplotlib que incruste gráficos en el cuaderno\n",
        "%matplotlib inline"
      ]
    },
    {
      "cell_type": "code",
      "execution_count": 33,
      "metadata": {
        "id": "YPJW6-UJy4s2"
      },
      "outputs": [],
      "source": [
        "import pandas as pd\n",
        "from sklearn.preprocessing import LabelEncoder\n",
        "from datetime import datetime\n",
        "from sklearn.model_selection import train_test_split"
      ]
    },
    {
      "cell_type": "code",
      "execution_count": 34,
      "metadata": {
        "id": "Qflp7AR6y58c"
      },
      "outputs": [],
      "source": [
        "#cargamos datos\n",
        "data = pd.read_csv('/content/drive/MyDrive/datasets/smoke_detection_iot.csv', header=0)"
      ]
    },
    {
      "cell_type": "code",
      "execution_count": 35,
      "metadata": {
        "colab": {
          "base_uri": "https://localhost:8080/"
        },
        "id": "rFeytR3UzcyK",
        "outputId": "884276b2-524c-4ea2-bb4d-c06bc9884c8c"
      },
      "outputs": [
        {
          "output_type": "stream",
          "name": "stdout",
          "text": [
            "       Unnamed: 0         UTC  Temperature[C]  Humidity[%]  TVOC[ppb]  \\\n",
            "0               0  1654733331          20.000        57.36          0   \n",
            "1               1  1654733332          20.015        56.67          0   \n",
            "2               2  1654733333          20.029        55.96          0   \n",
            "3               3  1654733334          20.044        55.28          0   \n",
            "4               4  1654733335          20.059        54.69          0   \n",
            "...           ...         ...             ...          ...        ...   \n",
            "62625       62625  1655130047          18.438        15.79        625   \n",
            "62626       62626  1655130048          18.653        15.87        612   \n",
            "62627       62627  1655130049          18.867        15.84        627   \n",
            "62628       62628  1655130050          19.083        16.04        638   \n",
            "62629       62629  1655130051          19.299        16.52        643   \n",
            "\n",
            "       eCO2[ppm]  Raw H2  Raw Ethanol  Pressure[hPa]  PM1.0  PM2.5  NC0.5  \\\n",
            "0            400   12306        18520        939.735   0.00   0.00   0.00   \n",
            "1            400   12345        18651        939.744   0.00   0.00   0.00   \n",
            "2            400   12374        18764        939.738   0.00   0.00   0.00   \n",
            "3            400   12390        18849        939.736   0.00   0.00   0.00   \n",
            "4            400   12403        18921        939.744   0.00   0.00   0.00   \n",
            "...          ...     ...          ...            ...    ...    ...    ...   \n",
            "62625        400   13723        20569        936.670   0.63   0.65   4.32   \n",
            "62626        400   13731        20588        936.678   0.61   0.63   4.18   \n",
            "62627        400   13725        20582        936.687   0.57   0.60   3.95   \n",
            "62628        400   13712        20566        936.680   0.57   0.59   3.92   \n",
            "62629        400   13696        20543        936.676   0.57   0.59   3.90   \n",
            "\n",
            "       NC1.0  NC2.5   CNT  Fire Alarm  \n",
            "0      0.000  0.000     0           0  \n",
            "1      0.000  0.000     1           0  \n",
            "2      0.000  0.000     2           0  \n",
            "3      0.000  0.000     3           0  \n",
            "4      0.000  0.000     4           0  \n",
            "...      ...    ...   ...         ...  \n",
            "62625  0.673  0.015  5739           0  \n",
            "62626  0.652  0.015  5740           0  \n",
            "62627  0.617  0.014  5741           0  \n",
            "62628  0.611  0.014  5742           0  \n",
            "62629  0.607  0.014  5743           0  \n",
            "\n",
            "[62630 rows x 16 columns]\n"
          ]
        }
      ],
      "source": [
        "#mostramos el dataset\n",
        "print(data)"
      ]
    },
    {
      "cell_type": "code",
      "execution_count": 36,
      "metadata": {
        "colab": {
          "base_uri": "https://localhost:8080/"
        },
        "id": "N_rDX9MNzdvU",
        "outputId": "422bfad6-dbc0-4e4c-a08d-6bf3a6339c49"
      },
      "outputs": [
        {
          "output_type": "stream",
          "name": "stdout",
          "text": [
            "<class 'pandas.core.frame.DataFrame'>\n",
            "RangeIndex: 62630 entries, 0 to 62629\n",
            "Data columns (total 16 columns):\n",
            " #   Column          Non-Null Count  Dtype  \n",
            "---  ------          --------------  -----  \n",
            " 0   Unnamed: 0      62630 non-null  int64  \n",
            " 1   UTC             62630 non-null  int64  \n",
            " 2   Temperature[C]  62630 non-null  float64\n",
            " 3   Humidity[%]     62630 non-null  float64\n",
            " 4   TVOC[ppb]       62630 non-null  int64  \n",
            " 5   eCO2[ppm]       62630 non-null  int64  \n",
            " 6   Raw H2          62630 non-null  int64  \n",
            " 7   Raw Ethanol     62630 non-null  int64  \n",
            " 8   Pressure[hPa]   62630 non-null  float64\n",
            " 9   PM1.0           62630 non-null  float64\n",
            " 10  PM2.5           62630 non-null  float64\n",
            " 11  NC0.5           62630 non-null  float64\n",
            " 12  NC1.0           62630 non-null  float64\n",
            " 13  NC2.5           62630 non-null  float64\n",
            " 14  CNT             62630 non-null  int64  \n",
            " 15  Fire Alarm      62630 non-null  int64  \n",
            "dtypes: float64(8), int64(8)\n",
            "memory usage: 7.6 MB\n"
          ]
        }
      ],
      "source": [
        "# observamos si nos faltan datos\n",
        "data.info()"
      ]
    },
    {
      "cell_type": "code",
      "execution_count": 37,
      "metadata": {
        "colab": {
          "base_uri": "https://localhost:8080/"
        },
        "id": "1rnE4nftzifU",
        "outputId": "aaca8650-6622-43c3-bef4-572715abe4d8"
      },
      "outputs": [
        {
          "output_type": "stream",
          "name": "stdout",
          "text": [
            "              UTC  Temperature[C]  Humidity[%]  TVOC[ppb]  eCO2[ppm]  Raw H2  \\\n",
            "0      1654733331          20.000        57.36          0        400   12306   \n",
            "1      1654733332          20.015        56.67          0        400   12345   \n",
            "2      1654733333          20.029        55.96          0        400   12374   \n",
            "3      1654733334          20.044        55.28          0        400   12390   \n",
            "4      1654733335          20.059        54.69          0        400   12403   \n",
            "...           ...             ...          ...        ...        ...     ...   \n",
            "62625  1655130047          18.438        15.79        625        400   13723   \n",
            "62626  1655130048          18.653        15.87        612        400   13731   \n",
            "62627  1655130049          18.867        15.84        627        400   13725   \n",
            "62628  1655130050          19.083        16.04        638        400   13712   \n",
            "62629  1655130051          19.299        16.52        643        400   13696   \n",
            "\n",
            "       Raw Ethanol  Pressure[hPa]  PM1.0  PM2.5  NC0.5  NC1.0  NC2.5   CNT  \\\n",
            "0            18520        939.735   0.00   0.00   0.00  0.000  0.000     0   \n",
            "1            18651        939.744   0.00   0.00   0.00  0.000  0.000     1   \n",
            "2            18764        939.738   0.00   0.00   0.00  0.000  0.000     2   \n",
            "3            18849        939.736   0.00   0.00   0.00  0.000  0.000     3   \n",
            "4            18921        939.744   0.00   0.00   0.00  0.000  0.000     4   \n",
            "...            ...            ...    ...    ...    ...    ...    ...   ...   \n",
            "62625        20569        936.670   0.63   0.65   4.32  0.673  0.015  5739   \n",
            "62626        20588        936.678   0.61   0.63   4.18  0.652  0.015  5740   \n",
            "62627        20582        936.687   0.57   0.60   3.95  0.617  0.014  5741   \n",
            "62628        20566        936.680   0.57   0.59   3.92  0.611  0.014  5742   \n",
            "62629        20543        936.676   0.57   0.59   3.90  0.607  0.014  5743   \n",
            "\n",
            "       Fire Alarm  \n",
            "0               0  \n",
            "1               0  \n",
            "2               0  \n",
            "3               0  \n",
            "4               0  \n",
            "...           ...  \n",
            "62625           0  \n",
            "62626           0  \n",
            "62627           0  \n",
            "62628           0  \n",
            "62629           0  \n",
            "\n",
            "[62630 rows x 15 columns]\n"
          ]
        }
      ],
      "source": [
        "# Eliminar columnas irrelevantes para la regresion\n",
        "columna_eliminar = ['Unnamed: 0']\n",
        "data.drop(columna_eliminar, axis=1, inplace=True)\n",
        "\n",
        "# Muestra el DataFrame resultante\n",
        "print(data)"
      ]
    },
    {
      "cell_type": "code",
      "execution_count": 38,
      "metadata": {
        "colab": {
          "base_uri": "https://localhost:8080/"
        },
        "id": "JF-hiBn3zneC",
        "outputId": "95e58f9d-66a1-483b-a050-15c13fe11939"
      },
      "outputs": [
        {
          "output_type": "stream",
          "name": "stdout",
          "text": [
            "<class 'pandas.core.frame.DataFrame'>\n",
            "RangeIndex: 62630 entries, 0 to 62629\n",
            "Data columns (total 15 columns):\n",
            " #   Column          Non-Null Count  Dtype  \n",
            "---  ------          --------------  -----  \n",
            " 0   UTC             62630 non-null  int64  \n",
            " 1   Temperature[C]  62630 non-null  float64\n",
            " 2   Humidity[%]     62630 non-null  float64\n",
            " 3   TVOC[ppb]       62630 non-null  int64  \n",
            " 4   eCO2[ppm]       62630 non-null  int64  \n",
            " 5   Raw H2          62630 non-null  int64  \n",
            " 6   Raw Ethanol     62630 non-null  int64  \n",
            " 7   Pressure[hPa]   62630 non-null  float64\n",
            " 8   PM1.0           62630 non-null  float64\n",
            " 9   PM2.5           62630 non-null  float64\n",
            " 10  NC0.5           62630 non-null  float64\n",
            " 11  NC1.0           62630 non-null  float64\n",
            " 12  NC2.5           62630 non-null  float64\n",
            " 13  CNT             62630 non-null  int64  \n",
            " 14  Fire Alarm      62630 non-null  int64  \n",
            "dtypes: float64(8), int64(7)\n",
            "memory usage: 7.2 MB\n"
          ]
        }
      ],
      "source": [
        "data.info()"
      ]
    },
    {
      "cell_type": "code",
      "execution_count": 39,
      "metadata": {
        "colab": {
          "base_uri": "https://localhost:8080/"
        },
        "id": "XPE7ppGkzqxe",
        "outputId": "72c70e41-e200-44ae-ad9a-3d37f698c23e"
      },
      "outputs": [
        {
          "output_type": "stream",
          "name": "stdout",
          "text": [
            "<class 'pandas.core.frame.DataFrame'>\n",
            "RangeIndex: 62630 entries, 0 to 62629\n",
            "Data columns (total 15 columns):\n",
            " #   Column          Non-Null Count  Dtype  \n",
            "---  ------          --------------  -----  \n",
            " 0   UTC             62630 non-null  int64  \n",
            " 1   Temperature[C]  62630 non-null  float64\n",
            " 2   Humidity[%]     62630 non-null  float64\n",
            " 3   TVOC[ppb]       62630 non-null  int64  \n",
            " 4   eCO2[ppm]       62630 non-null  int64  \n",
            " 5   Raw H2          62630 non-null  int64  \n",
            " 6   Raw Ethanol     62630 non-null  int64  \n",
            " 7   Pressure[hPa]   62630 non-null  float64\n",
            " 8   PM1.0           62630 non-null  float64\n",
            " 9   PM2.5           62630 non-null  float64\n",
            " 10  NC0.5           62630 non-null  float64\n",
            " 11  NC1.0           62630 non-null  float64\n",
            " 12  NC2.5           62630 non-null  float64\n",
            " 13  CNT             62630 non-null  int64  \n",
            " 14  Fire Alarm      62630 non-null  int64  \n",
            "dtypes: float64(8), int64(7)\n",
            "memory usage: 7.2 MB\n"
          ]
        }
      ],
      "source": [
        "data.info()"
      ]
    },
    {
      "cell_type": "code",
      "execution_count": 40,
      "metadata": {
        "id": "ZCYXfP97zsJo"
      },
      "outputs": [],
      "source": [
        "#lectura de datos\n",
        "X = data.iloc[:, :14]\n",
        "y = data.iloc[:, 14]\n",
        "m = y.size"
      ]
    },
    {
      "cell_type": "code",
      "execution_count": 41,
      "metadata": {
        "colab": {
          "base_uri": "https://localhost:8080/"
        },
        "id": "MFPbLSHBzwno",
        "outputId": "b7812144-efa9-4b70-eb46-aaa8f871af17"
      },
      "outputs": [
        {
          "output_type": "stream",
          "name": "stdout",
          "text": [
            "              UTC  Temperature[C]  Humidity[%]  TVOC[ppb]  eCO2[ppm]  Raw H2  \\\n",
            "0      1654733331          20.000        57.36          0        400   12306   \n",
            "1      1654733332          20.015        56.67          0        400   12345   \n",
            "2      1654733333          20.029        55.96          0        400   12374   \n",
            "3      1654733334          20.044        55.28          0        400   12390   \n",
            "4      1654733335          20.059        54.69          0        400   12403   \n",
            "...           ...             ...          ...        ...        ...     ...   \n",
            "62625  1655130047          18.438        15.79        625        400   13723   \n",
            "62626  1655130048          18.653        15.87        612        400   13731   \n",
            "62627  1655130049          18.867        15.84        627        400   13725   \n",
            "62628  1655130050          19.083        16.04        638        400   13712   \n",
            "62629  1655130051          19.299        16.52        643        400   13696   \n",
            "\n",
            "       Raw Ethanol  Pressure[hPa]  PM1.0  PM2.5  NC0.5  NC1.0  NC2.5   CNT  \n",
            "0            18520        939.735   0.00   0.00   0.00  0.000  0.000     0  \n",
            "1            18651        939.744   0.00   0.00   0.00  0.000  0.000     1  \n",
            "2            18764        939.738   0.00   0.00   0.00  0.000  0.000     2  \n",
            "3            18849        939.736   0.00   0.00   0.00  0.000  0.000     3  \n",
            "4            18921        939.744   0.00   0.00   0.00  0.000  0.000     4  \n",
            "...            ...            ...    ...    ...    ...    ...    ...   ...  \n",
            "62625        20569        936.670   0.63   0.65   4.32  0.673  0.015  5739  \n",
            "62626        20588        936.678   0.61   0.63   4.18  0.652  0.015  5740  \n",
            "62627        20582        936.687   0.57   0.60   3.95  0.617  0.014  5741  \n",
            "62628        20566        936.680   0.57   0.59   3.92  0.611  0.014  5742  \n",
            "62629        20543        936.676   0.57   0.59   3.90  0.607  0.014  5743  \n",
            "\n",
            "[62630 rows x 14 columns]\n",
            "***************\n",
            "0        0\n",
            "1        0\n",
            "2        0\n",
            "3        0\n",
            "4        0\n",
            "        ..\n",
            "62625    0\n",
            "62626    0\n",
            "62627    0\n",
            "62628    0\n",
            "62629    0\n",
            "Name: Fire Alarm, Length: 62630, dtype: int64\n"
          ]
        }
      ],
      "source": [
        "print(X)\n",
        "print('*'*15)\n",
        "print(y)"
      ]
    },
    {
      "cell_type": "code",
      "execution_count": 42,
      "metadata": {
        "id": "R-QQYjSUPEFm"
      },
      "outputs": [],
      "source": [
        "#Dividimos los datos en Train (80%) y test (20%)\n",
        "train_dataB, test_dataB = train_test_split(data, test_size=0.2, random_state=42)"
      ]
    },
    {
      "cell_type": "code",
      "execution_count": 43,
      "metadata": {
        "colab": {
          "base_uri": "https://localhost:8080/"
        },
        "id": "FMYMg4TuPEFm",
        "outputId": "4a4787bd-7d67-4bf8-ccad-b4873a3e533a"
      },
      "outputs": [
        {
          "output_type": "stream",
          "name": "stdout",
          "text": [
            "Datos entrenamiento\n",
            "              UTC  Temperature[C]  Humidity[%]  TVOC[ppb]  eCO2[ppm]  Raw H2  \\\n",
            "28479  1654764828          21.430        59.72        283        400   13138   \n",
            "42605  1654778954          25.980        47.24       1247        422   12886   \n",
            "17963  1654751294          18.116        47.55       1124        400   12909   \n",
            "56394  1654717439          59.620        11.60      60000       4305   11771   \n",
            "29875  1654766224          22.250        48.83         24        400   13255   \n",
            "...           ...             ...          ...        ...        ...     ...   \n",
            "62570  1655129992           7.664        15.67        781        400   13712   \n",
            "38158  1654774507          27.080        47.10       1124        540   12839   \n",
            "860    1654734191          26.945        57.50          0        400   13006   \n",
            "15795  1654749126          11.997        47.93       1128        404   12884   \n",
            "56422  1654717467          57.270        12.32      53355        586   12723   \n",
            "\n",
            "       Raw Ethanol  Pressure[hPa]    PM1.0    PM2.5    NC0.5     NC1.0  \\\n",
            "28479        19923        939.672     1.38     1.43     9.48     1.478   \n",
            "42605        19423        938.734     1.73     1.79    11.88     1.853   \n",
            "17963        19446        938.710     1.56     1.62    10.75     1.677   \n",
            "56394        17216        936.746  1382.21  1624.71  9039.26  1709.083   \n",
            "29875        20202        939.700     2.25     2.33    15.47     2.412   \n",
            "...            ...            ...      ...      ...      ...       ...   \n",
            "62570        20485        936.690     0.56     0.58     3.84     0.599   \n",
            "38158        19449        938.880     1.64     1.70    11.29     1.761   \n",
            "860          19932        939.754     0.37     0.39     2.57     0.400   \n",
            "15795        19453        938.807     2.00     2.07    13.73     2.141   \n",
            "56422        18481        936.706   124.50   144.05   819.98   151.200   \n",
            "\n",
            "         NC2.5    CNT  Fire Alarm  \n",
            "28479    0.033   3485           1  \n",
            "42605    0.042  17611           1  \n",
            "17963    0.038  17963           1  \n",
            "56394  216.618   5252           0  \n",
            "29875    0.054   4881           1  \n",
            "...        ...    ...         ...  \n",
            "62570    0.014   5684           0  \n",
            "38158    0.040  13164           1  \n",
            "860      0.009    860           0  \n",
            "15795    0.048  15795           1  \n",
            "56422   17.283   5280           0  \n",
            "\n",
            "[50104 rows x 15 columns]\n"
          ]
        }
      ],
      "source": [
        "print(\"Datos entrenamiento\")\n",
        "print(train_dataB)"
      ]
    },
    {
      "cell_type": "code",
      "execution_count": 44,
      "metadata": {
        "colab": {
          "base_uri": "https://localhost:8080/"
        },
        "id": "-v54T4WGPEFm",
        "outputId": "9e3ce31f-b049-42e9-9eb9-796392619436"
      },
      "outputs": [
        {
          "output_type": "stream",
          "name": "stdout",
          "text": [
            "Datos de prueba\n",
            "              UTC  Temperature[C]  Humidity[%]  TVOC[ppb]  eCO2[ppm]  Raw H2  \\\n",
            "31120  1654767469          21.330        51.93        138        400   13190   \n",
            "49054  1654785403          24.300        53.78       1297        400   13015   \n",
            "55910  1654716955          43.330        18.53          0        400   13621   \n",
            "33802  1654770151          18.440        56.79        358        400   13069   \n",
            "9683   1654743014          -4.350        57.35        825        977   12634   \n",
            "...           ...             ...          ...        ...        ...     ...   \n",
            "2084   1654735415          21.805        47.50          0        400   13164   \n",
            "24481  1654757812          -1.740        54.32       1253        400   13002   \n",
            "41631  1654777980          26.940        47.87       1222        408   12886   \n",
            "54885  1654715930          25.850        44.96          0        400   13456   \n",
            "9273   1654742604          -5.169        60.25        586        572   12855   \n",
            "\n",
            "       Raw Ethanol  Pressure[hPa]  PM1.0  PM2.5  NC0.5  NC1.0  NC2.5    CNT  \\\n",
            "31120        20128        939.690   0.96   1.00   6.60  1.030  0.023   6126   \n",
            "49054        19403        938.774   2.03   2.11  13.99  2.181  0.049  24060   \n",
            "55910        21322        936.812   1.16   1.21   7.98  1.245  0.028   4768   \n",
            "33802        19907        939.295   0.33   0.34   2.24  0.349  0.008   8808   \n",
            "9683         19523        939.138   2.58   2.68  17.78  2.773  0.063   9683   \n",
            "...            ...            ...    ...    ...    ...    ...    ...    ...   \n",
            "2084         20058        939.635   0.84   0.87   5.76  0.899  0.020   2084   \n",
            "24481        19410        938.797   1.56   1.62  10.73  1.674  0.038  24481   \n",
            "41631        19428        938.765   1.96   2.03  13.47  2.100  0.047  16637   \n",
            "54885        21299        937.375   2.19   2.28  15.08  2.352  0.053   3743   \n",
            "9273         19682        939.235   2.57   2.67  17.68  2.758  0.062   9273   \n",
            "\n",
            "       Fire Alarm  \n",
            "31120           1  \n",
            "49054           1  \n",
            "55910           0  \n",
            "33802           1  \n",
            "9683            1  \n",
            "...           ...  \n",
            "2084            0  \n",
            "24481           1  \n",
            "41631           1  \n",
            "54885           0  \n",
            "9273            1  \n",
            "\n",
            "[12526 rows x 15 columns]\n"
          ]
        }
      ],
      "source": [
        "print(\"Datos de prueba\")\n",
        "print(test_dataB)"
      ]
    },
    {
      "cell_type": "code",
      "source": [
        "# creamos un archivo para el dataset de entrenamiento\n",
        "train_dataB.to_csv(\"train2.csv\", index=False)"
      ],
      "metadata": {
        "id": "zQiMJA8AWPsZ"
      },
      "execution_count": 45,
      "outputs": []
    },
    {
      "cell_type": "code",
      "source": [
        "# creamos un archivo para el dataset de prueba\n",
        "test_dataB.to_csv(\"test2.csv\", index=False)"
      ],
      "metadata": {
        "id": "9rK8s9GiXXpp"
      },
      "execution_count": 46,
      "outputs": []
    },
    {
      "cell_type": "code",
      "source": [
        "#Cargamos el dataset de entrenamiento\n",
        "data = pd.read_csv('train2.csv')"
      ],
      "metadata": {
        "id": "geJGfHpuXZ5p"
      },
      "execution_count": 47,
      "outputs": []
    },
    {
      "cell_type": "code",
      "source": [
        "# Leemos el dataset y seleccionamos las columnas para X y y\n",
        "X = data.iloc[:, :14]\n",
        "y = data.iloc[:, 14]\n",
        "m = y.size"
      ],
      "metadata": {
        "id": "BzloHtt8Xbbo"
      },
      "execution_count": 62,
      "outputs": []
    },
    {
      "cell_type": "code",
      "source": [
        "# Imprimimos los valores de X y y\n",
        "print(X)\n",
        "print('*'*15)\n",
        "print(y)"
      ],
      "metadata": {
        "colab": {
          "base_uri": "https://localhost:8080/"
        },
        "id": "t1D1tdoPXdUQ",
        "outputId": "37df2ff0-7314-4496-dc1d-3b07875243da"
      },
      "execution_count": 63,
      "outputs": [
        {
          "output_type": "stream",
          "name": "stdout",
          "text": [
            "              UTC  Temperature[C]  Humidity[%]  TVOC[ppb]  eCO2[ppm]  Raw H2  \\\n",
            "0      1654764828          21.430        59.72        283        400   13138   \n",
            "1      1654778954          25.980        47.24       1247        422   12886   \n",
            "2      1654751294          18.116        47.55       1124        400   12909   \n",
            "3      1654717439          59.620        11.60      60000       4305   11771   \n",
            "4      1654766224          22.250        48.83         24        400   13255   \n",
            "...           ...             ...          ...        ...        ...     ...   \n",
            "50099  1655129992           7.664        15.67        781        400   13712   \n",
            "50100  1654774507          27.080        47.10       1124        540   12839   \n",
            "50101  1654734191          26.945        57.50          0        400   13006   \n",
            "50102  1654749126          11.997        47.93       1128        404   12884   \n",
            "50103  1654717467          57.270        12.32      53355        586   12723   \n",
            "\n",
            "       Raw Ethanol  Pressure[hPa]    PM1.0    PM2.5    NC0.5     NC1.0  \\\n",
            "0            19923        939.672     1.38     1.43     9.48     1.478   \n",
            "1            19423        938.734     1.73     1.79    11.88     1.853   \n",
            "2            19446        938.710     1.56     1.62    10.75     1.677   \n",
            "3            17216        936.746  1382.21  1624.71  9039.26  1709.083   \n",
            "4            20202        939.700     2.25     2.33    15.47     2.412   \n",
            "...            ...            ...      ...      ...      ...       ...   \n",
            "50099        20485        936.690     0.56     0.58     3.84     0.599   \n",
            "50100        19449        938.880     1.64     1.70    11.29     1.761   \n",
            "50101        19932        939.754     0.37     0.39     2.57     0.400   \n",
            "50102        19453        938.807     2.00     2.07    13.73     2.141   \n",
            "50103        18481        936.706   124.50   144.05   819.98   151.200   \n",
            "\n",
            "         NC2.5    CNT  \n",
            "0        0.033   3485  \n",
            "1        0.042  17611  \n",
            "2        0.038  17963  \n",
            "3      216.618   5252  \n",
            "4        0.054   4881  \n",
            "...        ...    ...  \n",
            "50099    0.014   5684  \n",
            "50100    0.040  13164  \n",
            "50101    0.009    860  \n",
            "50102    0.048  15795  \n",
            "50103   17.283   5280  \n",
            "\n",
            "[50104 rows x 14 columns]\n",
            "***************\n",
            "0        1\n",
            "1        1\n",
            "2        1\n",
            "3        0\n",
            "4        1\n",
            "        ..\n",
            "50099    0\n",
            "50100    1\n",
            "50101    0\n",
            "50102    1\n",
            "50103    0\n",
            "Name: Fire Alarm, Length: 50104, dtype: int64\n"
          ]
        }
      ]
    },
    {
      "cell_type": "code",
      "execution_count": 64,
      "metadata": {
        "id": "gd0u9hINzzKI"
      },
      "outputs": [],
      "source": [
        "def  featureNormalize(X):\n",
        "    X_norm = X.copy()\n",
        "    mu = np.zeros(X.shape[1])\n",
        "    sigma = np.zeros(X.shape[1])\n",
        "\n",
        "    mu = np.mean(X, axis = 0)\n",
        "    sigma = np.std(X, axis = 0)\n",
        "    X_norm = (X - mu) / sigma\n",
        "\n",
        "    return X_norm, mu, sigma"
      ]
    },
    {
      "cell_type": "code",
      "execution_count": 65,
      "metadata": {
        "colab": {
          "base_uri": "https://localhost:8080/"
        },
        "id": "maQe64YWz0SV",
        "outputId": "efdff3c0-89ef-45db-a6e9-dd3b7e55313a"
      },
      "outputs": [
        {
          "output_type": "stream",
          "name": "stdout",
          "text": [
            "              UTC  Temperature[C]  Humidity[%]  TVOC[ppb]  eCO2[ppm]  Raw H2  \\\n",
            "0      1654764828          21.430        59.72        283        400   13138   \n",
            "1      1654778954          25.980        47.24       1247        422   12886   \n",
            "2      1654751294          18.116        47.55       1124        400   12909   \n",
            "3      1654717439          59.620        11.60      60000       4305   11771   \n",
            "4      1654766224          22.250        48.83         24        400   13255   \n",
            "...           ...             ...          ...        ...        ...     ...   \n",
            "50099  1655129992           7.664        15.67        781        400   13712   \n",
            "50100  1654774507          27.080        47.10       1124        540   12839   \n",
            "50101  1654734191          26.945        57.50          0        400   13006   \n",
            "50102  1654749126          11.997        47.93       1128        404   12884   \n",
            "50103  1654717467          57.270        12.32      53355        586   12723   \n",
            "\n",
            "       Raw Ethanol  Pressure[hPa]    PM1.0    PM2.5    NC0.5     NC1.0  \\\n",
            "0            19923        939.672     1.38     1.43     9.48     1.478   \n",
            "1            19423        938.734     1.73     1.79    11.88     1.853   \n",
            "2            19446        938.710     1.56     1.62    10.75     1.677   \n",
            "3            17216        936.746  1382.21  1624.71  9039.26  1709.083   \n",
            "4            20202        939.700     2.25     2.33    15.47     2.412   \n",
            "...            ...            ...      ...      ...      ...       ...   \n",
            "50099        20485        936.690     0.56     0.58     3.84     0.599   \n",
            "50100        19449        938.880     1.64     1.70    11.29     1.761   \n",
            "50101        19932        939.754     0.37     0.39     2.57     0.400   \n",
            "50102        19453        938.807     2.00     2.07    13.73     2.141   \n",
            "50103        18481        936.706   124.50   144.05   819.98   151.200   \n",
            "\n",
            "         NC2.5    CNT  \n",
            "0        0.033   3485  \n",
            "1        0.042  17611  \n",
            "2        0.038  17963  \n",
            "3      216.618   5252  \n",
            "4        0.054   4881  \n",
            "...        ...    ...  \n",
            "50099    0.014   5684  \n",
            "50100    0.040  13164  \n",
            "50101    0.009    860  \n",
            "50102    0.048  15795  \n",
            "50103   17.283   5280  \n",
            "\n",
            "[50104 rows x 14 columns]\n",
            "Media calculada: UTC               1.654792e+09\n",
            "Temperature[C]    1.592866e+01\n",
            "Humidity[%]       4.856116e+01\n",
            "TVOC[ppb]         1.934006e+03\n",
            "eCO2[ppm]         6.682939e+02\n",
            "Raw H2            1.294283e+04\n",
            "Raw Ethanol       1.975394e+04\n",
            "Pressure[hPa]     9.386324e+02\n",
            "PM1.0             9.800864e+01\n",
            "PM2.5             1.802198e+02\n",
            "NC0.5             4.775908e+02\n",
            "NC1.0             1.989439e+02\n",
            "NC2.5             7.847062e+01\n",
            "CNT               1.052459e+04\n",
            "dtype: float64\n",
            "Desviación estandar calculada: UTC               109662.026569\n",
            "Temperature[C]        14.362052\n",
            "Humidity[%]            8.841930\n",
            "TVOC[ppb]           7784.318595\n",
            "eCO2[ppm]           1910.752616\n",
            "Raw H2               271.783810\n",
            "Raw Ethanol          607.593213\n",
            "Pressure[hPa]          1.323613\n",
            "PM1.0                907.285275\n",
            "PM2.5               1959.194173\n",
            "NC0.5               4167.634262\n",
            "NC1.0               2196.786100\n",
            "NC2.5               1080.659631\n",
            "CNT                 7601.103378\n",
            "dtype: float64\n",
            "            UTC  Temperature[C]  Humidity[%]  TVOC[ppb]  eCO2[ppm]    Raw H2  \\\n",
            "0     -0.245671        0.383047     1.262037  -0.212094  -0.140413  0.718116   \n",
            "1     -0.116857        0.699854    -0.149420  -0.088255  -0.128899 -0.209092   \n",
            "2     -0.369087        0.152300    -0.114359  -0.104056  -0.140413 -0.124466   \n",
            "3     -0.677808        3.042138    -4.180214   7.459355   1.903285 -4.311617   \n",
            "4     -0.232941        0.440142     0.030405  -0.245366  -0.140413  1.148605   \n",
            "...         ...             ...          ...        ...        ...       ...   \n",
            "50099  3.084233       -0.575451    -3.719907  -0.148119  -0.140413  2.830089   \n",
            "50100 -0.157409        0.776445    -0.165253  -0.104056  -0.067143 -0.382023   \n",
            "50101 -0.525048        0.767045     1.010961  -0.248449  -0.140413  0.232436   \n",
            "50102 -0.388857       -0.273753    -0.071382  -0.103542  -0.138319 -0.216450   \n",
            "50103 -0.677553        2.878512    -4.098784   6.605715  -0.043069 -0.808833   \n",
            "\n",
            "       Raw Ethanol  Pressure[hPa]     PM1.0     PM2.5     NC0.5     NC1.0  \\\n",
            "0         0.278251       0.785434 -0.106503 -0.091257 -0.112321 -0.089889   \n",
            "1        -0.544668       0.076767 -0.106117 -0.091073 -0.111745 -0.089718   \n",
            "2        -0.506813       0.058635 -0.106305 -0.091160 -0.112016 -0.089798   \n",
            "3        -4.177032      -1.425183  1.415433  0.737288  2.054324  0.687431   \n",
            "4         0.737440       0.806588 -0.105544 -0.090797 -0.110883 -0.089463   \n",
            "...            ...            ...       ...       ...       ...       ...   \n",
            "50099     1.203212      -1.467491 -0.107407 -0.091691 -0.113674 -0.090289   \n",
            "50100    -0.501876       0.187072 -0.106216 -0.091119 -0.111886 -0.089760   \n",
            "50101     0.293064       0.847386 -0.107616 -0.091788 -0.113979 -0.090379   \n",
            "50102    -0.495292       0.131920 -0.105820 -0.090930 -0.111301 -0.089587   \n",
            "50103    -2.095047      -1.455403  0.029198 -0.018462  0.082154 -0.021734   \n",
            "\n",
            "          NC2.5       CNT  \n",
            "0     -0.072583 -0.926127  \n",
            "1     -0.072575  0.932287  \n",
            "2     -0.072578  0.978596  \n",
            "3      0.127836 -0.693661  \n",
            "4     -0.072564 -0.742469  \n",
            "...         ...       ...  \n",
            "50099 -0.072601 -0.636827  \n",
            "50100 -0.072577  0.347241  \n",
            "50101 -0.072605 -1.271472  \n",
            "50102 -0.072569  0.693375  \n",
            "50103 -0.056621 -0.689977  \n",
            "\n",
            "[50104 rows x 14 columns]\n"
          ]
        }
      ],
      "source": [
        "# llama featureNormalize con los datos cargados\n",
        "X_norm, mu, sigma = featureNormalize(X)\n",
        "\n",
        "print(X)\n",
        "print('Media calculada:', mu)\n",
        "print('Desviación estandar calculada:', sigma)\n",
        "print(X_norm)"
      ]
    },
    {
      "cell_type": "code",
      "execution_count": 66,
      "metadata": {
        "id": "-PG5rWoyR2zN"
      },
      "outputs": [],
      "source": [
        "def sigmoid(z):\n",
        "    # Calcula la sigmoide de una entrada z\n",
        "    # convierte la intrada a un arreglo numpy\n",
        "    z = np.array(z)\n",
        "\n",
        "    g = np.zeros(z.shape)\n",
        "\n",
        "    g = 1 / (1 + np.exp(-z))\n",
        "\n",
        "    return g"
      ]
    },
    {
      "cell_type": "code",
      "execution_count": 67,
      "metadata": {
        "colab": {
          "base_uri": "https://localhost:8080/"
        },
        "id": "x_vpit-cz33W",
        "outputId": "efc8425e-c1ab-47f8-eed7-715cd7fb2b99"
      },
      "outputs": [
        {
          "output_type": "stream",
          "name": "stdout",
          "text": [
            "g( 0 ) =  0.5\n"
          ]
        }
      ],
      "source": [
        "# Prueba la implementacion de la funcion sigmoid\n",
        "z = 0\n",
        "g = sigmoid(z)\n",
        "\n",
        "print('g(', z, ') = ', g)"
      ]
    },
    {
      "cell_type": "code",
      "execution_count": 68,
      "metadata": {
        "id": "ahiiYY_uz5J0"
      },
      "outputs": [],
      "source": [
        "# Configurar la matriz adecuadamente, y agregar una columna de unos que corresponde al termino de intercepción.\n",
        "m, n = X.shape\n",
        "# Agraga el termino de intercepción a A\n",
        "X = np.concatenate([np.ones((m, 1)), X_norm], axis=1)"
      ]
    },
    {
      "cell_type": "code",
      "execution_count": 69,
      "metadata": {
        "id": "0Je8OHW4z6eY"
      },
      "outputs": [],
      "source": [
        "def calcular(theta, X, y):\n",
        "    # Inicializar algunos valores utiles\n",
        "    m = y.size  # numero de ejemplos de entrenamiento\n",
        "    #epsilon = 1e-8\n",
        "\n",
        "    J = 0\n",
        "    h = sigmoid(X.dot(theta.T))\n",
        "    J = (1 / m) * np.sum(-y.dot(np.log(h)) - (1 - y).dot(np.log(1 - h)))\n",
        "\n",
        "    return J"
      ]
    },
    {
      "cell_type": "code",
      "execution_count": 70,
      "metadata": {
        "id": "1BuahUQIz710"
      },
      "outputs": [],
      "source": [
        "def descensoGradiente(theta, X, y, alpha, num_iters):\n",
        "    # Inicializa algunos valores\n",
        "    m = y.shape[0] # numero de ejemplos de entrenamiento\n",
        "\n",
        "    # realiza una copia de theta, el cual será acutalizada por el descenso por el gradiente\n",
        "    theta = theta.copy()\n",
        "    J_history = []\n",
        "\n",
        "    for i in range(num_iters):\n",
        "        h = sigmoid(X.dot(theta.T))\n",
        "        theta = theta - (alpha / m) * (h - y).dot(X)\n",
        "\n",
        "        J_history.append(calcular(theta, X, y))\n",
        "    return theta, J_history"
      ]
    },
    {
      "cell_type": "code",
      "source": [
        "#Cargamos el dataset de prueba\n",
        "#data = pd.read_csv('test2.csv')\n",
        "#print(data)"
      ],
      "metadata": {
        "id": "fr_kv7ZKXh3o"
      },
      "execution_count": 71,
      "outputs": []
    },
    {
      "cell_type": "code",
      "execution_count": 74,
      "metadata": {
        "colab": {
          "base_uri": "https://localhost:8080/",
          "height": 575
        },
        "id": "GxwVw6ySz9GG",
        "outputId": "c78217e2-77b2-484e-9cff-5100c643ec7a"
      },
      "outputs": [
        {
          "output_type": "stream",
          "name": "stdout",
          "text": [
            "theta calculado por el descenso por el gradiente: [ 2.05078588 -0.73412422 -0.71693521  0.53518077 -0.90054356  0.40833001\n",
            "  0.60174619 -0.98623584 -0.78105289 -0.05873099 -0.01466445 -0.10405573\n",
            " -0.01153444  0.02272661  2.25689783]\n",
            "El resultado entre falso o verdadero para un incendio es (usando el descenso por el gradiente):0\n"
          ]
        },
        {
          "output_type": "stream",
          "name": "stderr",
          "text": [
            "<ipython-input-66-22f640bc02db>:8: RuntimeWarning: overflow encountered in exp\n",
            "  g = 1 / (1 + np.exp(-z))\n"
          ]
        },
        {
          "output_type": "display_data",
          "data": {
            "text/plain": [
              "<Figure size 640x480 with 1 Axes>"
            ],
            "image/png": "[encoded data removed]"
          },
          "metadata": {}
        }
      ],
      "source": [
        "# Elegir algun valor para alpha (probar varias alternativas)\n",
        "alpha = 0.05\n",
        "num_iters = 1000\n",
        "\n",
        "# inicializa theta y ejecuta el descenso por el gradiente\n",
        "theta = np.zeros(15)\n",
        "theta, J_history = descensoGradiente(theta, X, y, alpha, num_iters)\n",
        "\n",
        "# Grafica la convergencia\n",
        "pyplot.plot(np.arange(len(J_history)), J_history, lw=2)\n",
        "pyplot.xlabel('Numero de iteraciones')\n",
        "pyplot.ylabel('Costo J')\n",
        "\n",
        "# Muestra los resultados del descenso por el gradiente\n",
        "print('theta calculado por el descenso por el gradiente: {:s}'.format(str(theta)))\n",
        "\n",
        "# verificar si se presenta un incendio o no\n",
        "X_array = [1, 1654733331,20.0,57.36,0,400,12306,18520,939.735,0.0,0.0,0.0,0.0,0.0,0]\n",
        "aprueba = sigmoid(np.dot(X_array, theta))   # Se debe cambiar esto\n",
        "\n",
        "print('El resultado entre falso o verdadero para un incendio es (usando el descenso por el gradiente):{:.0f}'.format(aprueba))"
      ]
    },
    {
      "cell_type": "code",
      "execution_count": 75,
      "metadata": {
        "id": "zwVf17SG0CdU"
      },
      "outputs": [],
      "source": [
        "def costFunction(theta, X, y):\n",
        "    # Inicializar algunos valores utiles\n",
        "    m = y.size  # numero de ejemplos de entrenamiento\n",
        "    epsilon = 1e-8\n",
        "\n",
        "    J = 0\n",
        "    grad = np.zeros(theta.shape)\n",
        "\n",
        "    h = sigmoid(X.dot(theta.T))\n",
        "\n",
        "    J = (1 / m) * np.sum(-y.dot(np.log(h+epsilon)) - (1 - y).dot(np.log(1 - h+epsilon)))\n",
        "    grad = (1 / m) * (h - y).dot(X)\n",
        "\n",
        "    return J, grad"
      ]
    },
    {
      "cell_type": "code",
      "execution_count": 76,
      "metadata": {
        "colab": {
          "base_uri": "https://localhost:8080/"
        },
        "id": "yEWrSzQ-0D_8",
        "outputId": "171e7de8-6ab5-43bb-c93e-fdb512cab22e"
      },
      "outputs": [
        {
          "output_type": "stream",
          "name": "stdout",
          "text": [
            "[0. 0. 0. 0. 0. 0. 0. 0. 0. 0. 0. 0. 0. 0. 0.]\n",
            "theta inicial (zeros): 0.693\n",
            "valor esperado (aproximado): 0.693\n",
            "\n",
            "[-0.21501277  0.17526892  0.07450492 -0.18075954  0.09655871  0.04277261\n",
            " -0.04778139  0.15463413 -0.11283394  0.04886144  0.03676132  0.05755764\n",
            "  0.03579373  0.02431628 -0.30432667]\n",
            "Gradiente en theta inicial (zeros):\n",
            "\t[-0.2150, 0.1753, 0.0745, -0.1808, 0.0966, 0.0428, -0.0478, 0.1546, -0.1128, 0.0489, 0.0368, 0.0576, 0.0358, 0.0243, -0.3043]\n"
          ]
        }
      ],
      "source": [
        "# Inicializacion de parametros de ajuste\n",
        "initial_theta = np.zeros(n+1)\n",
        "print(initial_theta)\n",
        "cost, grad = costFunction(initial_theta, X, y)\n",
        "\n",
        "print('theta inicial (zeros): {:.3f}'.format(cost))\n",
        "print('valor esperado (aproximado): 0.693\\n')\n",
        "print(grad)\n",
        "print('Gradiente en theta inicial (zeros):')\n",
        "print('\\t[{:.4f}, {:.4f}, {:.4f}, {:.4f}, {:.4f}, {:.4f}, {:.4f}, {:.4f}, {:.4f}, {:.4f}, {:.4f}, {:.4f}, {:.4f}, {:.4f}, {:.4f}]'.format(*grad))"
      ]
    },
    {
      "cell_type": "code",
      "execution_count": 77,
      "metadata": {
        "colab": {
          "base_uri": "https://localhost:8080/"
        },
        "id": "9K2ifTi20FmE",
        "outputId": "15aa144a-b23d-4133-ae24-f1c838e00f5c"
      },
      "outputs": [
        {
          "output_type": "stream",
          "name": "stdout",
          "text": [
            "[-0.21462558  0.17585177  0.07401689 -0.18056766  0.09697655  0.04380724\n",
            " -0.04832358  0.15383585 -0.11280644  0.04992442  0.03834761  0.05785728\n",
            "  0.03740429  0.02606025 -0.3042659 ]\n",
            "Costo en theta prueba: 1.028\n",
            "Gradiente en theta prueba:\n",
            "\t[-0.272, 0.271, 0.110, -0.292, 0.156, 0.099, -0.088, 0.198, -0.216, 0.102, 0.084, 0.113, 0.082, 0.063, -0.423]\n"
          ]
        }
      ],
      "source": [
        "# Calcula y muestra el costo y el gradiente con valores de theta diferentes a cero\n",
        "\n",
        "test_theta = np.array([-0.21462558,  0.17585177,  0.07401689, -0.18056766,  0.09697655,  0.04380724,\n",
        " -0.04832358,  0.15383585, -0.11280644,  0.04992442,  0.03834761,  0.05785728,\n",
        "  0.03740429,  0.02606025, -0.3042659])\n",
        "#test_theta = np.array([-11.74749157, 0.09927308, 0.09316497])\n",
        "print(test_theta)\n",
        "cost, grad = costFunction(test_theta, X, y)\n",
        "\n",
        "print('Costo en theta prueba: {:.3f}'.format(cost))\n",
        "\n",
        "print('Gradiente en theta prueba:')\n",
        "print('\\t[{:.3f}, {:.3f}, {:.3f}, {:.3f}, {:.3f}, {:.3f}, {:.3f}, {:.3f}, {:.3f}, {:.3f}, {:.3f}, {:.3f}, {:.3f}, {:.3f}, {:.3f}]'.format(*grad))"
      ]
    },
    {
      "cell_type": "code",
      "execution_count": 78,
      "metadata": {
        "colab": {
          "base_uri": "https://localhost:8080/"
        },
        "id": "wQdmT1dP2Ubf",
        "outputId": "a8fc86a0-e8f6-46bf-b9da-fd32b0ceb8ac"
      },
      "outputs": [
        {
          "output_type": "stream",
          "name": "stderr",
          "text": [
            "<ipython-input-78-4bfe3387cb04>:7: DeprecationWarning: 'maxiter' has been deprecated in favor of 'maxfun' and will be removed in SciPy 1.11.0.\n",
            "  res = optimize.minimize(costFunction,\n"
          ]
        },
        {
          "output_type": "stream",
          "name": "stdout",
          "text": [
            "Costo con un valor de theta encontrado por optimize.minimize: 0.031\n",
            "theta:\n",
            "\t[25.511, -0.720, -1.287, 1.738, -70.330, 13.818, -0.041, -8.564, -4.445, 0.430, 1.235, 0.606, 1.301, 2.000, 34.425]\n"
          ]
        }
      ],
      "source": [
        "# Establecer las opciones para optimize.minimize\n",
        "options= {'maxiter': 1000}\n",
        "\n",
        "# revisar la documentacion de scipy's optimize.minimize para mayor descripcion de los parametros\n",
        "# La funcion devuekve un objeto `OptimizeResult`\n",
        "# Se utiliza el algoritmo de Newton truncado para la optimización.\n",
        "res = optimize.minimize(costFunction,\n",
        "                        initial_theta,\n",
        "                        (X, y),\n",
        "                        jac=True,\n",
        "                        method='TNC',\n",
        "                        options=options)\n",
        "\n",
        "# la propiedad fun del objeto devuelto por `OptimizeResult`\n",
        "# contiene el valor del costFunction de un theta optimizado\n",
        "cost = res.fun\n",
        "\n",
        "# Theta optimizada esta en la propiedad x\n",
        "theta = res.x\n",
        "\n",
        "# Imprimir theta en la pantalla\n",
        "print('Costo con un valor de theta encontrado por optimize.minimize: {:.3f}'.format(cost))\n",
        "\n",
        "print('theta:')\n",
        "print('\\t[{:.3f}, {:.3f}, {:.3f}, {:.3f}, {:.3f}, {:.3f}, {:.3f}, {:.3f}, {:.3f}, {:.3f}, {:.3f}, {:.3f}, {:.3f}, {:.3f}, {:.3f}]'.format(*theta))"
      ]
    },
    {
      "cell_type": "code",
      "execution_count": 80,
      "metadata": {
        "id": "Rx-9uyRn2Z1X"
      },
      "outputs": [],
      "source": [
        "def predict(theta, X):\n",
        "    \"\"\"\n",
        "    Predecir si la etiqueta es 0 o 1 mediante regresión logística aprendida.\n",
        "    Calcula las predicciones para X usando un umbral en 0.5 (es decir, si sigmoide (theta.T * x)> = 0.5, predice 1)\n",
        "\n",
        "    Parametros\n",
        "    ----------\n",
        "    theta : array_like\n",
        "        Parametros para regresion logistica. Un vecto de la forma (n+1, ).\n",
        "\n",
        "    X : array_like\n",
        "        Datos utilizados para el calculo de las predicciones.\n",
        "        La fila es el numero de los puntos para calcular las predicciones,\n",
        "        y las columnas con el numero de caracteristicas.\n",
        "\n",
        "    Devuelve\n",
        "    -------\n",
        "    p : array_like\n",
        "        Predicciones y 0 o 1 para cada fila en X.\n",
        "    \"\"\"\n",
        "    m = X.shape[0] # Numero de ejemplo de entrenamiento\n",
        "\n",
        "    p = np.zeros(m)\n",
        "\n",
        "    p = np.round(sigmoid(X.dot(theta.T)))\n",
        "    return p"
      ]
    },
    {
      "cell_type": "code",
      "execution_count": 82,
      "metadata": {
        "colab": {
          "base_uri": "https://localhost:8080/"
        },
        "id": "KxJtIvWQ2eDF",
        "outputId": "f1de75a6-303d-4a65-e19f-ed7bdf17cf1f"
      },
      "outputs": [
        {
          "output_type": "stream",
          "name": "stdout",
          "text": [
            "Para la deteccion de humo con los datos introducidos la probabilidad es de: 0.000\n",
            "Valor esperado: 0.775 +/- 0.002\n",
            "\n",
            "Precisión de entrenamiento: 99.40 %\n",
            "Precisión esperada (aproximadamente): 89.00 %\n"
          ]
        },
        {
          "output_type": "stream",
          "name": "stderr",
          "text": [
            "<ipython-input-66-22f640bc02db>:8: RuntimeWarning: overflow encountered in exp\n",
            "  g = 1 / (1 + np.exp(-z))\n"
          ]
        }
      ],
      "source": [
        "#  Predice la probabilidad de un incendio\n",
        "prob = sigmoid(np.dot([1, 1654733331,20.0,57.36,0,400,12306,18520,939.735,0.0,0.0,0.0,0.0,0.0,0], theta))\n",
        "print('Para la deteccion de humo con los datos introducidos la probabilidad es de: {:.3f}'.format(prob))\n",
        "print('Valor esperado: 0.775 +/- 0.002\\n')\n",
        "\n",
        "# Compute accuracy on our training set\n",
        "p = predict(theta, X)\n",
        "print('Precisión de entrenamiento: {:.2f} %'.format(np.mean(p == y) * 100))\n",
        "print('Precisión esperada (aproximadamente): 89.00 %')"
      ]
    }
  ],
  "metadata": {
    "colab": {
      "provenance": [],
      "include_colab_link": true
    },
    "kernelspec": {
      "display_name": "Python 3",
      "name": "python3"
    },
    "language_info": {
      "codemirror_mode": {
        "name": "ipython",
        "version": 3
      },
      "file_extension": ".py",
      "mimetype": "text/x-python",
      "name": "python",
      "nbconvert_exporter": "python",
      "pygments_lexer": "ipython3",
      "version": "3.9.7"
    }
  },
  "nbformat": 4,
  "nbformat_minor": 0
}