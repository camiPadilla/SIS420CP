{
  "nbformat": 4,
  "nbformat_minor": 0,
  "metadata": {
    "colab": {
      "provenance": [],
      "authorship_tag": "ABX9TyMOn3m8g1eob94FeNDawfUV",
      "include_colab_link": true
    },
    "kernelspec": {
      "name": "python3",
      "display_name": "Python 3"
    },
    "language_info": {
      "name": "python"
    }
  },
  "cells": [
    {
      "cell_type": "markdown",
      "metadata": {
        "id": "view-in-github",
        "colab_type": "text"
      },
      "source": [
        "<a href=\"https://colab.research.google.com/github/camiPadilla/SIS420CP/blob/main/Busqueda_Final.ipynb\" target=\"_parent\"><img src=\"https://colab.research.google.com/assets/colab-badge.svg\" alt=\"Open In Colab\"/></a>"
      ]
    },
    {
      "cell_type": "code",
      "execution_count": 1,
      "metadata": {
        "colab": {
          "base_uri": "https://localhost:8080/"
        },
        "id": "f9CuI_Z1Ohhv",
        "outputId": "4394d0dc-c766-403f-b2e1-cb2bac86526a"
      },
      "outputs": [
        {
          "output_type": "stream",
          "name": "stdout",
          "text": [
            "El camino mas corto\n",
            "[[0, 0], [0, 1], [0, 2], [0, 3], [1, 3], [2, 3], [2, 2], [3, 2], [3, 1]]\n",
            "\n",
            "El laberinto resuelto\n",
            "E - - - # # #     \n",
            "  # # -         P1 \n",
            "  # - - #     #   \n",
            "# P2 -   #         \n",
            "        # # # #   \n",
            "  # #     #       \n",
            "  #         P3     \n",
            "  #   # # # # #   \n",
            "              #   \n"
          ]
        }
      ],
      "source": [
        "import heapq\n",
        "\n",
        "def posiciones(matriz, item): #parametros obtenidos: laberinto e inicio y luego recibe los parametros laberinto y salidas\n",
        "    for i, row in enumerate(matriz): #El bucle encuentra la posicion del inicio, [0,0] en este caso y luego encuentra la posicion de las salidas\n",
        "        try:\n",
        "            j = row.index(item)\n",
        "            return [i, j]\n",
        "        except ValueError:\n",
        "            pass\n",
        "    return None\n",
        "\n",
        "def calcular_distancia(x, y): # x(0,0) y(1,8) , abs(0-1)+abs(0-8) = 9\n",
        "    return abs(x[0]-y[0]) + abs(x[1]-y[1]) #se envia la posicion de inicio como x y la posicion de salida como y\n",
        "\n",
        "def a_estrella(matriz, inicio, final):\n",
        "    visitados = [] #almacenamos los nodos visitados\n",
        "    cola = [[0, inicio, []]] #distancia acumulada, nodo actual y camino recorrido\n",
        "    #la cola de prioridad se utiliza para mantener los nodos a explorar ordenados por su prioridad\n",
        "    while cola:\n",
        "        [distancia, nodo, camino] = heapq.heappop(cola) #extraemos los elementos que tengan la menor distancia\n",
        "        if nodo == final: #si el nodo es igual a la salida, agregamos el nodo final y devolvemos el camino\n",
        "            camino.append(nodo)\n",
        "            return camino\n",
        "        if nodo not in visitados: #si el nodo no es igual a la salida, agragamos a los nodos visitados\n",
        "            visitados.append(nodo)\n",
        "            for (x, y) in [[0,1],[1,0],[0,-1],[-1,0]]: #se itera en 4 direcciones calculando su fila y columna\n",
        "                fila = nodo[0] + x\n",
        "                columna = nodo[1] + y\n",
        "                if 0 <= fila < len(matriz) and 0 <= columna < len(matriz[0]) and matriz[fila][columna] != '#': #verificamos que la nueva posicion\n",
        "                    #este dentro de los limites de la matriz y que no sea un obstaculo '#'\n",
        "                    distancia_auxi = calcular_distancia(nodo, [fila, columna]) #calculamos la distancia hasta el nodo actual\n",
        "                    heapq.heappush(cola, (distancia_auxi + distancia, [fila, columna], camino+[nodo])) #se agrega el nodo a la cola, como prioridad\n",
        "                    #basandose en su distancia auxiliar y actualizamos el camino\n",
        "    return None\n",
        "\n",
        "if __name__ == \"__main__\":\n",
        "    laberinto =    [['E', ' ', ' ', ' ', '#', '#', '#', ' ', ' '],\n",
        "        [' ', '#', '#', ' ', ' ', ' ', ' ', ' ', 'P1'],\n",
        "        [' ', '#', ' ', ' ', '#', ' ', ' ', '#', ' '],\n",
        "        ['#', 'P2', ' ', ' ', '#', ' ', ' ', ' ', ' '],\n",
        "        [' ', ' ', ' ', ' ', '#', '#', '#', '#', ' '],\n",
        "        [' ', '#', '#', ' ', ' ', '#', ' ', ' ', ' '],\n",
        "        [' ', '#', ' ', ' ', ' ', ' ', 'P3', ' ', ' '],\n",
        "        [' ', '#', ' ', '#', '#', '#', '#', '#', ' '],\n",
        "        [' ', ' ', ' ', ' ', ' ', ' ', ' ', '#', ' ']]\n",
        "\n",
        "    laberinto_resuelto = [fila[:] for fila in laberinto]\n",
        "\n",
        "    inicio = 'E'\n",
        "    salidas = ['P1','P2','P3']\n",
        "    inicio_posicion = posiciones(laberinto, inicio)\n",
        "    salidas_posiciones = [posiciones(laberinto, s) for s in salidas] #itera cada una de las salidas\n",
        "    #la variable distancias itera sobre las posiciones de las salidas y se calcula la posicion y distancia, la posicion es p\n",
        "    # y la distancia se calcula iterando cada salida\n",
        "    distancias = [{'posicion': p, 'distancia': calcular_distancia(inicio_posicion, p)} for p in salidas_posiciones]\n",
        "    #Usamos la funcion sorted para ordenar las distancias de manera ascendente, y se almacena en la variable el primer valor, el de menor distancia\n",
        "    final_posicion = sorted(distancias, key=lambda x: x['distancia'])[0]['posicion']\n",
        "    #mandamos a la funcion a_estrella como parametros, el laberinto, la posicion inicial y la posicion de la salida mas cercana\n",
        "    camino = a_estrella(laberinto, inicio_posicion, final_posicion)\n",
        "\n",
        "    print(\"El camino mas corto\")\n",
        "    print(camino)\n",
        "\n",
        "    for fila_index, fila in enumerate(laberinto_resuelto): #itera sobre cada fila de la matriz y obtenemos su indice y sus elementos\n",
        "        for columna_index, elemento in enumerate(fila): #iteramos sobre cada elemento de la columna obteniendo su indice de la columna\n",
        "            pos_actual = [fila_index, columna_index] #posicion actual en x y y\n",
        "            #si la posicion actual esta en el camino, lo reemplazamos con un '-', que no sean las posiciones iniciales ni salidas\n",
        "            if pos_actual in camino and laberinto_resuelto[fila_index][columna_index] != 'E' and laberinto_resuelto[fila_index][columna_index] not in salidas:\n",
        "                laberinto_resuelto[fila_index][columna_index] = '-'\n",
        "\n",
        "    contador = 0\n",
        "    print(\"\\nEl laberinto resuelto\")\n",
        "    for fila in laberinto_resuelto: #imprime el laberinto resuelto en una matriz 9x9\n",
        "        for elemento in fila:\n",
        "            print(elemento, end=' ')\n",
        "            contador += 1\n",
        "            if contador % len(fila) == 0:\n",
        "                print()\n",
        "                if contador // len(fila) == 9:\n",
        "                    break"
      ]
    }
  ]
}